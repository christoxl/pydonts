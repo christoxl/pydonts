{
 "cells": [
  {
   "cell_type": "markdown",
   "metadata": {},
   "source": [
    "## Zip up"
   ]
  },
  {
   "cell_type": "markdown",
   "metadata": {},
   "source": [
    "### How zip works"
   ]
  },
  {
   "cell_type": "markdown",
   "metadata": {},
   "source": [
    "In a simple for loop we have an iterator `it`"
   ]
  },
  {
   "cell_type": "code",
   "execution_count": 45,
   "metadata": {},
   "outputs": [
    {
     "name": "stdout",
     "output_type": "stream",
     "text": [
      "0\n",
      "1\n",
      "2\n",
      "3\n",
      "4\n"
     ]
    }
   ],
   "source": [
    "it = range(5)\n",
    "for element in it:\n",
    "    print(element)"
   ]
  },
  {
   "cell_type": "markdown",
   "metadata": {},
   "source": [
    "An \"iterator\" is something that can be traversed linearly, like a list or a string.\n",
    "\n",
    "Sometimes you will have two iterators with related information  and we need to loop over those iterators to do something. Check this example:"
   ]
  },
  {
   "cell_type": "code",
   "execution_count": 46,
   "metadata": {},
   "outputs": [
    {
     "name": "stdout",
     "output_type": "stream",
     "text": [
      "John Doe\n",
      "Jane Smith\n",
      "Jack Johnson\n"
     ]
    }
   ],
   "source": [
    "firsts = [\"John\", \"Jane\", \"Jack\"]\n",
    "lasts = [\"Doe\", \"Smith\", \"Johnson\"]\n",
    "\n",
    "for i in range(len(firsts)):\n",
    "    print(f\"{firsts[i]} {lasts[i]}\")"
   ]
  },
  {
   "cell_type": "markdown",
   "metadata": {},
   "source": [
    "This is what `zip` is for: use a pair up iterables that you want to traverse at the same time."
   ]
  },
  {
   "cell_type": "code",
   "execution_count": 47,
   "metadata": {},
   "outputs": [
    {
     "name": "stdout",
     "output_type": "stream",
     "text": [
      "John Doe\n",
      "Jane Smith\n",
      "Jack Johnson\n"
     ]
    }
   ],
   "source": [
    "firsts = [\"John\", \"Jane\", \"Jack\"]\n",
    "lasts = [\"Doe\", \"Smith\", \"Johnson\"]\n",
    "\n",
    "for first, last in zip(firsts, lasts):\n",
    "    print(f\"{first} {last}\")"
   ]
  },
  {
   "cell_type": "markdown",
   "metadata": {},
   "source": [
    "We ar doin an unpacking assignment because zip actually returns tuples."
   ]
  },
  {
   "cell_type": "code",
   "execution_count": 48,
   "metadata": {},
   "outputs": [
    {
     "name": "stdout",
     "output_type": "stream",
     "text": [
      "('John', 'Doe')\n",
      "('Jane', 'Smith')\n",
      "('Jack', 'Johnson')\n"
     ]
    }
   ],
   "source": [
    "firsts = [\"John\", \"Jane\", \"Jack\"]\n",
    "lasts = [\"Doe\", \"Smith\", \"Johnson\"]\n",
    "\n",
    "for z in zip(firsts, lasts):\n",
    "    print(z)"
   ]
  },
  {
   "cell_type": "markdown",
   "metadata": {},
   "source": [
    "### Zip is lazy"
   ]
  },
  {
   "cell_type": "markdown",
   "metadata": {},
   "source": [
    "`zip` does not create tuples immediatly. `zip` is lazy, meaning it generates tuples on the fly when you iterate over it, for example when you iterate over them in a `for` loop or when you convert it to a list."
   ]
  },
  {
   "cell_type": "code",
   "execution_count": 49,
   "metadata": {},
   "outputs": [
    {
     "name": "stdout",
     "output_type": "stream",
     "text": [
      "<zip object at 0x10a5e47c0>\n",
      "[('John', 'Doe'), ('Jane', 'Smith'), ('Jack', 'Johnson')]\n"
     ]
    }
   ],
   "source": [
    "firsts = [\"John\", \"Jane\", \"Jack\"]\n",
    "lasts = [\"Doe\", \"Smith\", \"Johnson\", \"Davis\"]\n",
    "z = zip(firsts, lasts)\n",
    "print(z)\n",
    "print(list(z))"
   ]
  },
  {
   "cell_type": "markdown",
   "metadata": {},
   "source": [
    "`zip` being lazy means that by itself is not that similar to a list. For example, you cannot ask for the length of a zip object."
   ]
  },
  {
   "cell_type": "code",
   "execution_count": 50,
   "metadata": {},
   "outputs": [
    {
     "ename": "TypeError",
     "evalue": "object of type 'zip' has no len()",
     "output_type": "error",
     "traceback": [
      "\u001b[0;31m---------------------------------------------------------------------------\u001b[0m",
      "\u001b[0;31mTypeError\u001b[0m                                 Traceback (most recent call last)",
      "Cell \u001b[0;32mIn[50], line 1\u001b[0m\n\u001b[0;32m----> 1\u001b[0m \u001b[38;5;28;43mlen\u001b[39;49m\u001b[43m(\u001b[49m\u001b[43mz\u001b[49m\u001b[43m)\u001b[49m\n",
      "\u001b[0;31mTypeError\u001b[0m: object of type 'zip' has no len()"
     ]
    }
   ],
   "source": [
    "len(z)"
   ]
  },
  {
   "cell_type": "markdown",
   "metadata": {},
   "source": [
    "### Three is a crowd"
   ]
  },
  {
   "cell_type": "markdown",
   "metadata": {},
   "source": [
    "`zip` can take three or more iterables and return a tuple of the same length as the shortest iterable."
   ]
  },
  {
   "cell_type": "code",
   "execution_count": 11,
   "metadata": {},
   "outputs": [
    {
     "name": "stdout",
     "output_type": "stream",
     "text": [
      "('John', 'Z.', 'Doe')\n",
      "('Jane', 'A.', 'Smith')\n",
      "('Jack', 'C.', 'Johnson')\n"
     ]
    }
   ],
   "source": [
    "firsts = [\"John\", \"Jane\", \"Jack\"]\n",
    "middles = [\"Z.\", \"A.\", \"C.\"]\n",
    "lasts = [\"Doe\", \"Smith\", \"Johnson\"]\n",
    "\n",
    "for z in zip(firsts, middles, lasts):\n",
    "    print(z)"
   ]
  },
  {
   "cell_type": "markdown",
   "metadata": {},
   "source": [
    "### Mismatched lengths"
   ]
  },
  {
   "cell_type": "markdown",
   "metadata": {},
   "source": [
    "If `zip`'s arguments have different lengths, it will stop as soon as it hits the end of the shortest iterable."
   ]
  },
  {
   "cell_type": "code",
   "execution_count": null,
   "metadata": {},
   "outputs": [],
   "source": [
    "firsts = [\"John\", \"Jane\", \"Jack\"]\n",
    "lasts = [\"Doe\", \"Smith\"]\n",
    "\n",
    "for z in zip(firsts, lasts):\n",
    "    print(z)"
   ]
  },
  {
   "cell_type": "markdown",
   "metadata": {},
   "source": [
    "Starting with Python 3.10, `zip` will be able to receive a keyword argument `strict` to error out if the iterables have different lengths."
   ]
  },
  {
   "cell_type": "code",
   "execution_count": null,
   "metadata": {},
   "outputs": [],
   "source": [
    "firsts = [\"John\", \"Jane\", \"Jack\"]\n",
    "lasts = [\"Doe\", \"Smith\", \"Johnson\", \"Davis\"]\n",
    "\n",
    "for z in zip(firsts, lasts, strict=True):\n",
    "    print(z)"
   ]
  },
  {
   "cell_type": "markdown",
   "metadata": {},
   "source": [
    "`zip` only errors when finds the length mismatch, not when it's about to start iterating over the longer iterable; this is because the arguments to `zip` are lazy iterators.\n",
    "\n",
    "In general, `zip` is used with iterators that are expected to have the same lenght.  If that is the case is a good idea to always set `strict=True` to catch bugs in your code."
   ]
  },
  {
   "cell_type": "markdown",
   "metadata": {},
   "source": [
    "### Create a dictionary with zip"
   ]
  },
  {
   "cell_type": "markdown",
   "metadata": {},
   "source": [
    "You can create dictioneries by feeding key-value pairs to the dict function, which means `zip` can be used to create dictionaries from two lists."
   ]
  },
  {
   "cell_type": "code",
   "execution_count": 15,
   "metadata": {},
   "outputs": [
    {
     "name": "stdout",
     "output_type": "stream",
     "text": [
      "{'John': 'Doe', 'Jane': 'Smith', 'Jack': 'Johnson'}\n"
     ]
    }
   ],
   "source": [
    "firsts = [\"John\", \"Jane\", \"Jack\"]\n",
    "lasts = [\"Doe\", \"Smith\", \"Johnson\"]\n",
    "\n",
    "dictionary = dict(zip(firsts, lasts))\n",
    "print(dictionary)"
   ]
  },
  {
   "cell_type": "markdown",
   "metadata": {},
   "source": [
    "## Enumerate me"
   ]
  },
  {
   "cell_type": "markdown",
   "metadata": {},
   "source": [
    "### How enumerate works"
   ]
  },
  {
   "cell_type": "markdown",
   "metadata": {},
   "source": [
    "Python newcomers are usually exposed to this type of `for` loop very early."
   ]
  },
  {
   "cell_type": "code",
   "execution_count": 16,
   "metadata": {},
   "outputs": [
    {
     "name": "stdout",
     "output_type": "stream",
     "text": [
      "0\n",
      "1\n",
      "2\n"
     ]
    }
   ],
   "source": [
    "for i in range(3):\n",
    "    print(i)"
   ]
  },
  {
   "cell_type": "markdown",
   "metadata": {},
   "source": [
    "This leads them to \"learning\" this anti-pattern of `for` loops to go over a list:"
   ]
  },
  {
   "cell_type": "code",
   "execution_count": 18,
   "metadata": {},
   "outputs": [
    {
     "name": "stdout",
     "output_type": "stream",
     "text": [
      "'apple' has 5 characters.\n",
      "'banana' has 6 characters.\n",
      "'cherry' has 6 characters.\n"
     ]
    }
   ],
   "source": [
    "words = [\"apple\", \"banana\", \"cherry\"]\n",
    "for i in range(len(words)):\n",
    "    print(f\"'{words[i]}' has {len(words[i])} characters.\")"
   ]
  },
  {
   "cell_type": "markdown",
   "metadata": {},
   "source": [
    "The pythonic way of writing such a loop is iterating directly over the list:"
   ]
  },
  {
   "cell_type": "code",
   "execution_count": 19,
   "metadata": {},
   "outputs": [
    {
     "name": "stdout",
     "output_type": "stream",
     "text": [
      "'apple' has 5 characters.\n",
      "'banana' has 6 characters.\n",
      "'cherry' has 6 characters.\n"
     ]
    }
   ],
   "source": [
    "words = [\"apple\", \"banana\", \"cherry\"]\n",
    "for word in words:\n",
    "    print(f\"'{word}' has {len(word)} characters.\")"
   ]
  },
  {
   "cell_type": "markdown",
   "metadata": {},
   "source": [
    "However, the final step in this indices vs elements comes when yu need to know the index of each element as well. For this, `enumerate` is your friend."
   ]
  },
  {
   "cell_type": "code",
   "execution_count": 21,
   "metadata": {},
   "outputs": [
    {
     "name": "stdout",
     "output_type": "stream",
     "text": [
      "Word #0: 'apple' has 5 characters.\n",
      "Word #1: 'banana' has 6 characters.\n",
      "Word #2: 'cherry' has 6 characters.\n"
     ]
    }
   ],
   "source": [
    "words = [\"apple\", \"banana\", \"cherry\"]\n",
    "for i, word in enumerate(words):\n",
    "    print(f\"Word #{i}: '{word}' has {len(word)} characters.\")"
   ]
  },
  {
   "cell_type": "markdown",
   "metadata": {},
   "source": [
    "### Optional `start` argument"
   ]
  },
  {
   "cell_type": "markdown",
   "metadata": {},
   "source": [
    "The `enumerate` function can also accept an optional `start` argument. This argument specifies the starting index for the enumeration."
   ]
  },
  {
   "cell_type": "code",
   "execution_count": 22,
   "metadata": {},
   "outputs": [
    {
     "name": "stdout",
     "output_type": "stream",
     "text": [
      "Word #1: 'apple' has 5 characters.\n",
      "Word #2: 'banana' has 6 characters.\n",
      "Word #3: 'cherry' has 6 characters.\n"
     ]
    }
   ],
   "source": [
    "words = [\"apple\", \"banana\", \"cherry\"]\n",
    "for i, word in enumerate(words, start=1):\n",
    "    print(f\"Word #{i}: '{word}' has {len(word)} characters.\")"
   ]
  },
  {
   "cell_type": "markdown",
   "metadata": {},
   "source": [
    "This optional `start` argument is useful when you want to start the enumeration from a specific index.\n",
    "\n",
    "By the way, the argument has to be an integer but can be negative."
   ]
  },
  {
   "cell_type": "code",
   "execution_count": 23,
   "metadata": {},
   "outputs": [
    {
     "name": "stdout",
     "output_type": "stream",
     "text": [
      "Index: -4000, Value: a\n",
      "Index: -3999, Value: b\n",
      "Index: -3998, Value: c\n"
     ]
    }
   ],
   "source": [
    "for i, v in enumerate(\"abc\", start=-4000):\n",
    "    print(f\"Index: {i}, Value: {v}\")"
   ]
  },
  {
   "cell_type": "markdown",
   "metadata": {},
   "source": [
    "### Unpacking when iterating"
   ]
  },
  {
   "cell_type": "markdown",
   "metadata": {},
   "source": [
    "The `enumerate` function returns a lazy iterator, which means the items you iterate only become available as you need them. This can be useful when you want to process large amounts of data without consuming too much memory.\n",
    "\n",
    "The items that `enumerate` returns are tuples, where the first element is the index and the second element is the value."
   ]
  },
  {
   "cell_type": "code",
   "execution_count": 24,
   "metadata": {},
   "outputs": [
    {
     "name": "stdout",
     "output_type": "stream",
     "text": [
      "(0, 'a')\n",
      "(1, 'b')\n",
      "(2, 'c')\n"
     ]
    }
   ],
   "source": [
    "for tuple in enumerate(\"abc\"):\n",
    "    print(tuple)"
   ]
  },
  {
   "cell_type": "markdown",
   "metadata": {},
   "source": [
    "### Deep unpacking"
   ]
  },
  {
   "cell_type": "markdown",
   "metadata": {},
   "source": [
    "Things can get more interesting when you use `enumerate`, for example, on a `zip`:"
   ]
  },
  {
   "cell_type": "code",
   "execution_count": 25,
   "metadata": {},
   "outputs": [
    {
     "name": "stdout",
     "output_type": "stream",
     "text": [
      "Chapter 1: 12 pages long.\n",
      "Chapter 2: 15 pages long.\n",
      "Chapter 3: 18 pages long.\n"
     ]
    }
   ],
   "source": [
    "pages = [5, 17, 32, 50]\n",
    "for i, (start, end) in enumerate(zip(pages, pages[1:]), start=1):\n",
    "    print(f\"Chapter {i}: {end - start} pages long.\")"
   ]
  },
  {
   "cell_type": "markdown",
   "metadata": {},
   "source": [
    "This snippet takes a list of pages where chapters of a book start and prints the length of each chapter. Notice how `enumerate` returns tuples with indices and values, but those values are extracted from a `zip`, which iteself returns tuples.\n",
    "\n",
    "We use deep unpacking to access all the values directly."
   ]
  },
  {
   "cell_type": "markdown",
   "metadata": {},
   "source": [
    "## Chaining comparison operators"
   ]
  },
  {
   "cell_type": "markdown",
   "metadata": {},
   "source": [
    "### Chaining of comparison operators"
   ]
  },
  {
   "cell_type": "markdown",
   "metadata": {},
   "source": [
    "One excelent feature of Python is its ability to chain comparison operators. This can make your code more readable and easier to understand. Check this snippet that looks natural:"
   ]
  },
  {
   "cell_type": "code",
   "execution_count": 26,
   "metadata": {},
   "outputs": [
    {
     "name": "stdout",
     "output_type": "stream",
     "text": [
      "The numbers are in ascending order.\n"
     ]
    }
   ],
   "source": [
    "a = 1\n",
    "b = 2\n",
    "c = 3\n",
    "if a < b < c:\n",
    "    print(\"The numbers are in ascending order.\")"
   ]
  },
  {
   "cell_type": "markdown",
   "metadata": {},
   "source": [
    "When Python sees two comparisons in a row, like `a < b < c`, it behaves as if you wrote `a < b and b < c`, except that `b` is only evaluated once (which is relevant if `b` is an expression like a function call).\n",
    "\n",
    "Another example usage is for when you want to make sure that three values are the same:"
   ]
  },
  {
   "cell_type": "code",
   "execution_count": 29,
   "metadata": {},
   "outputs": [
    {
     "name": "stdout",
     "output_type": "stream",
     "text": [
      "The numbers are different.\n"
     ]
    }
   ],
   "source": [
    "a = b = 1\n",
    "c = 2\n",
    "\n",
    "if a == b == c:\n",
    "    print(\"The numbers are the same.\")\n",
    "else:\n",
    "    print(\"The numbers are different.\")"
   ]
  },
  {
   "cell_type": "markdown",
   "metadata": {},
   "source": [
    "You can chain any arbitrary number of comparison operators. For example `a < b < c < d` would check if `a < b`, `b < c`, and `c < d`."
   ]
  },
  {
   "cell_type": "markdown",
   "metadata": {},
   "source": [
    "### Pitfalls"
   ]
  },
  {
   "cell_type": "markdown",
   "metadata": {},
   "source": [
    "#### Non-transitive operators"
   ]
  },
  {
   "cell_type": "markdown",
   "metadata": {},
   "source": [
    "We can use `a == b == c` to check if three variables are equal, but this won't work for non-transitive operators like `!=` or `<>`."
   ]
  },
  {
   "cell_type": "code",
   "execution_count": 30,
   "metadata": {},
   "outputs": [
    {
     "name": "stdout",
     "output_type": "stream",
     "text": [
      "a, b, and c all diferent: 1 2 1\n"
     ]
    }
   ],
   "source": [
    "a = c = 1\n",
    "b = 2\n",
    "\n",
    "if a != b != c:\n",
    "    print(\"a, b, and c all diferent:\", a, b, c)"
   ]
  },
  {
   "cell_type": "markdown",
   "metadata": {},
   "source": [
    "The problem is that the check is `a != b` and `b!= c`, which checks that `b` is different from both `a` and `c`, but says nothing about whether `a` is different from `c`.\n",
    "\n",
    "This is because `!=` is a non-transitive operator, i.e., knowing how `a` relates to `b` and knowing how `b` relates to `c` doesn't tell you anything about how `a` relates to `c`."
   ]
  },
  {
   "cell_type": "markdown",
   "metadata": {},
   "source": [
    "#### Non-constant expressions or side-effects"
   ]
  },
  {
   "cell_type": "markdown",
   "metadata": {},
   "source": [
    "Chaining comparisons like `a < b < c` evaluates `b` only once.\n",
    "\n",
    "If `b` contains an expression with side-effects or if it's something that is not a constant, then the two expressions are not equivalent. Check this example which the element in the middle gets evaluated only once:"
   ]
  },
  {
   "cell_type": "code",
   "execution_count": 31,
   "metadata": {},
   "outputs": [
    {
     "name": "stdout",
     "output_type": "stream",
     "text": [
      "hey\n",
      "done\n"
     ]
    }
   ],
   "source": [
    "def f():\n",
    "    print(\"hey\")\n",
    "    return 3\n",
    "\n",
    "if 1 < f() < 5:\n",
    "    print(\"done\")"
   ]
  },
  {
   "cell_type": "markdown",
   "metadata": {},
   "source": [
    "Just to corroborate, that this will get evaluate `f()` twice:"
   ]
  },
  {
   "cell_type": "code",
   "execution_count": null,
   "metadata": {},
   "outputs": [],
   "source": [
    "if 1 < f() and f() < 5:\n",
    "    print(\"done\")"
   ]
  },
  {
   "cell_type": "markdown",
   "metadata": {},
   "source": [
    "This snippet shows that an expression like `1 < f() < 0` can actually evaluate to `True` when its unfolded:"
   ]
  },
  {
   "cell_type": "code",
   "execution_count": 35,
   "metadata": {},
   "outputs": [
    {
     "name": "stdout",
     "output_type": "stream",
     "text": [
      "ehh 2\n"
     ]
    }
   ],
   "source": [
    "l = [-2, 2]\n",
    "\n",
    "def f():\n",
    "    global l\n",
    "    l = l[::-1]  # Reverse the list\n",
    "    return l[0]\n",
    "\n",
    "# evaluated once f() = 2\n",
    "# if 1 < f() < 0:\n",
    "#     print(\"ehh\")  # Never gets printed\n",
    "\n",
    "# evaluated twice: first time f() = 2, second time f() = -2\n",
    "if 1 < f() and f() < 0:\n",
    "    print(\"ehh 2\")  # gets printed"
   ]
  },
  {
   "cell_type": "markdown",
   "metadata": {},
   "source": [
    "#### Ugly chains"
   ]
  },
  {
   "cell_type": "markdown",
   "metadata": {},
   "source": [
    "This feature looks neat, but some chains where operatos are not aligned look very ugly, so thes chains look good:"
   ]
  },
  {
   "cell_type": "code",
   "execution_count": null,
   "metadata": {},
   "outputs": [],
   "source": [
    "a == b == c\n",
    "a < b <= c\n",
    "a <= b < c"
   ]
  },
  {
   "cell_type": "markdown",
   "metadata": {},
   "source": [
    "but this chains look really ugly:"
   ]
  },
  {
   "cell_type": "code",
   "execution_count": null,
   "metadata": {},
   "outputs": [],
   "source": [
    "a < b > c   # it's better to use b > max(a, c), it's more readable and easier to understand\n",
    "a <= b > c\n",
    "a < b >= c"
   ]
  },
  {
   "cell_type": "markdown",
   "metadata": {},
   "source": [
    "Now there are some other chains that are just confusing:"
   ]
  },
  {
   "cell_type": "code",
   "execution_count": null,
   "metadata": {},
   "outputs": [],
   "source": [
    "lst = []\n",
    "a < b is True\n",
    "a == b in lst\n",
    "a in lst is True"
   ]
  },
  {
   "cell_type": "markdown",
   "metadata": {},
   "source": [
    "In Python, `is`, `is not`, `in` and `not in` are comparison operators, so you can also chain them. But this creates weird situations like"
   ]
  },
  {
   "cell_type": "code",
   "execution_count": 1,
   "metadata": {},
   "outputs": [
    {
     "name": "stdout",
     "output_type": "stream",
     "text": [
      "is False\n"
     ]
    }
   ],
   "source": [
    "a = 3\n",
    "lst = [3, 5]\n",
    "if a in lst == True:\n",
    "    print(\"is True\")\n",
    "else:\n",
    "    print(\"is False\")"
   ]
  },
  {
   "cell_type": "markdown",
   "metadata": {},
   "source": [
    "Here is a break down of what this does:\n",
    "- `a in lst == True` is equivalent to `a in lst` and `lst == True`\n",
    "- `a in lst` is `True`, but\n",
    "- `lst == True` is `False`, so\n",
    "-  `a in lst == True` unfolds to `True and False`, which is `False`"
   ]
  },
  {
   "cell_type": "markdown",
   "metadata": {},
   "source": [
    "## Truthy, Falsy, and bool"
   ]
  },
  {
   "cell_type": "markdown",
   "metadata": {},
   "source": [
    "### \"Truthy\" and \"Falsy\""
   ]
  },
  {
   "cell_type": "markdown",
   "metadata": {},
   "source": [
    "Any object can be tested for truth value, for use in an `if` or `while` condition or as operand of the booleans operations `and`, `or`, and `not`."
   ]
  },
  {
   "cell_type": "code",
   "execution_count": 5,
   "metadata": {},
   "outputs": [
    {
     "data": {
      "text/plain": [
       "True"
      ]
     },
     "execution_count": 5,
     "metadata": {},
     "output_type": "execute_result"
    }
   ],
   "source": [
    "5 > 3"
   ]
  },
  {
   "cell_type": "markdown",
   "metadata": {},
   "source": [
    "The next step is using an object that is not boolean value, ex:"
   ]
  },
  {
   "cell_type": "code",
   "execution_count": 6,
   "metadata": {},
   "outputs": [
    {
     "name": "stdout",
     "output_type": "stream",
     "text": [
      "[1, 2, 3]\n"
     ]
    }
   ],
   "source": [
    "lst = [1, 2, 3]\n",
    "if lst:\n",
    "    print(lst)"
   ]
  },
  {
   "cell_type": "markdown",
   "metadata": {},
   "source": [
    "How can we now if an object is truthy or falsy? The answer is by using the built-in `bool` function."
   ]
  },
  {
   "cell_type": "code",
   "execution_count": 7,
   "metadata": {},
   "outputs": [
    {
     "data": {
      "text/plain": [
       "True"
      ]
     },
     "execution_count": 7,
     "metadata": {},
     "output_type": "execute_result"
    }
   ],
   "source": [
    "bool(lst)"
   ]
  },
  {
   "cell_type": "markdown",
   "metadata": {},
   "source": [
    "A value of a given type is Falsy when it is \"empty\" or \"without any useful value\". Examples of Falsy values are: empty list, empty string, empty tiple, empty set, empty dictionary, the number 0, the boolean value `False`, and `None`.\n",
    "- by defaault any object is Truthy\n",
    "- an object is Falsy if calling `len` on it returns `0`"
   ]
  },
  {
   "cell_type": "markdown",
   "metadata": {},
   "source": [
    "### The `__bool__` dunder method"
   ]
  },
  {
   "cell_type": "markdown",
   "metadata": {},
   "source": [
    "An object has a Falsy vale if it defines a `__bool__` method that returns `False`.\n",
    "\n",
    "`__bool__` is a dunder method that you can use to tell your objects if they are considered \"truthy\" or \"falsy\", by implementing it in your class."
   ]
  },
  {
   "cell_type": "code",
   "execution_count": 1,
   "metadata": {},
   "outputs": [],
   "source": [
    "class A:\n",
    "    def __bool__(self):\n",
    "        return False\n",
    "    \n",
    "a = A()\n",
    "if a:\n",
    "    print(\"Go Away!\")"
   ]
  },
  {
   "cell_type": "markdown",
   "metadata": {},
   "source": [
    "When given an arbitrary Python object that needs to be tested fort a truth value, Python first tries to call `bool` on it, in an attempt to use its `__bool__` method.. If the object does not implement a `__bool__` method, then Python tries to call `len` on it. Finally, if that also fails, Python defaults to giving a Truthy value to the object."
   ]
  },
  {
   "cell_type": "markdown",
   "metadata": {},
   "source": [
    "### Remarks"
   ]
  },
  {
   "cell_type": "markdown",
   "metadata": {},
   "source": [
    "#### A note about containers with falsy objects"
   ]
  },
  {
   "cell_type": "markdown",
   "metadata": {},
   "source": [
    "Things like a list htat only contains zeroes or a dictionary composed of zeroes and empty lists are not Falsy, because the containers themselves are not longer empty:"
   ]
  },
  {
   "cell_type": "code",
   "execution_count": 13,
   "metadata": {},
   "outputs": [
    {
     "name": "stdout",
     "output_type": "stream",
     "text": [
      "False\n",
      "False\n",
      "False\n",
      "True\n",
      "True\n"
     ]
    }
   ],
   "source": [
    "# These are false\n",
    "print(bool([]))\n",
    "print(bool({}))\n",
    "print(bool(0))\n",
    "\n",
    "# These are true\n",
    "print(bool([0]))\n",
    "print(bool({0: []}))"
   ]
  },
  {
   "cell_type": "markdown",
   "metadata": {},
   "source": [
    "#### A note about checking for `None`"
   ]
  },
  {
   "cell_type": "markdown",
   "metadata": {},
   "source": [
    "Imagine someone implemented the following function to return the integer square root of a number, returning `None` for negative inputs (because negative numbers don't have square roots). \n",
    "\n",
    "When you use this function, you know it returns `None` if the computation fails, so you might be tempted to use it like this:"
   ]
  },
  {
   "cell_type": "code",
   "execution_count": 18,
   "metadata": {},
   "outputs": [
    {
     "ename": "ValueError",
     "evalue": "invalid literal for int() with base 10: '0.5'",
     "output_type": "error",
     "traceback": [
      "\u001b[0;31m---------------------------------------------------------------------------\u001b[0m",
      "\u001b[0;31mValueError\u001b[0m                                Traceback (most recent call last)",
      "Cell \u001b[0;32mIn[18], line 8\u001b[0m\n\u001b[1;32m      5\u001b[0m         \u001b[38;5;28;01mreturn\u001b[39;00m \u001b[38;5;28;01mNone\u001b[39;00m\n\u001b[1;32m      6\u001b[0m     \u001b[38;5;28;01mreturn\u001b[39;00m math\u001b[38;5;241m.\u001b[39mfloor(math\u001b[38;5;241m.\u001b[39msqrt(n))\n\u001b[0;32m----> 8\u001b[0m n \u001b[38;5;241m=\u001b[39m \u001b[38;5;28;43mint\u001b[39;49m\u001b[43m(\u001b[49m\u001b[38;5;28;43minput\u001b[39;49m\u001b[43m(\u001b[49m\u001b[38;5;124;43m\"\u001b[39;49m\u001b[38;5;124;43mEnter a number: \u001b[39;49m\u001b[38;5;124;43m\"\u001b[39;49m\u001b[43m)\u001b[49m\u001b[43m)\u001b[49m\n\u001b[1;32m      9\u001b[0m int_sqrt \u001b[38;5;241m=\u001b[39m int_square_root(n)\n\u001b[1;32m     11\u001b[0m \u001b[38;5;28mprint\u001b[39m(\u001b[38;5;124m\"\u001b[39m\u001b[38;5;124mdebug int_sqrt value: \u001b[39m\u001b[38;5;124m\"\u001b[39m, int_sqrt)\n",
      "\u001b[0;31mValueError\u001b[0m: invalid literal for int() with base 10: '0.5'"
     ]
    }
   ],
   "source": [
    "import math\n",
    "\n",
    "def int_square_root(n):\n",
    "    if n < 0:\n",
    "        return None\n",
    "    return math.floor(math.sqrt(n))\n",
    "\n",
    "n = int(input(\"Enter a number: \"))\n",
    "int_sqrt = int_square_root(n)\n",
    "\n",
    "print(\"debug int_sqrt value: \", int_sqrt)\n",
    "\n",
    "if not int_sqrt:\n",
    "    print(\"Negative numbers do not have an integer square root.\")\n",
    "else:\n",
    "    print(int_sqrt)"
   ]
  },
  {
   "cell_type": "markdown",
   "metadata": {},
   "source": [
    "The problem is that `int_square_root` returned  meaningful value which is `0`  but that value is still Falsy.\n",
    "\n",
    "So when you want to check fi a function returned `None` do not rely on the Truthy/Falsy value. Instead check explicitly if the returned value is `None`."
   ]
  },
  {
   "cell_type": "code",
   "execution_count": null,
   "metadata": {},
   "outputs": [],
   "source": [
    "returned = \"\"\n",
    "\n",
    "# Use\n",
    "if returned is None:\n",
    "    pass\n",
    "\n",
    "if returned is not None:\n",
    "    pass\n",
    "\n",
    "# Avoid\n",
    "if not returned:\n",
    "    pass\n",
    "\n",
    "if returned:\n",
    "    pass"
   ]
  },
  {
   "cell_type": "markdown",
   "metadata": {},
   "source": [
    "## Boolean short-circuiting"
   ]
  },
  {
   "cell_type": "markdown",
   "metadata": {},
   "source": [
    "### Return values of the `and` and `or` operators"
   ]
  },
  {
   "cell_type": "markdown",
   "metadata": {},
   "source": [
    "`x or y` returns `x` if `x` is `True`, otherwise it returns `y`. This is equivalent to the expression `(x or y) == (y if not x else x)`."
   ]
  },
  {
   "cell_type": "code",
   "execution_count": 19,
   "metadata": {},
   "outputs": [
    {
     "name": "stdout",
     "output_type": "stream",
     "text": [
      "Yeah\n"
     ]
    }
   ],
   "source": [
    "if 3 or 5:\n",
    "    print(\"Yeah\")\n",
    "else:\n",
    "    print(\"Nope\")"
   ]
  },
  {
   "cell_type": "markdown",
   "metadata": {},
   "source": [
    "Now look at the program below and see what it prints:"
   ]
  },
  {
   "cell_type": "code",
   "execution_count": 20,
   "metadata": {},
   "outputs": [
    {
     "name": "stdout",
     "output_type": "stream",
     "text": [
      "3\n"
     ]
    }
   ],
   "source": [
    "print(3 or 5)"
   ]
  },
  {
   "cell_type": "markdown",
   "metadata": {},
   "source": [
    "A similar thing happens with `and`. `x and y` returns `x` if `x` is `False`, otherwise it returns `y`. This is equivalent to the expression `(x and y) == (x if not x else y)`."
   ]
  },
  {
   "cell_type": "code",
   "execution_count": 24,
   "metadata": {},
   "outputs": [
    {
     "name": "stdout",
     "output_type": "stream",
     "text": [
      "False\n",
      "0\n"
     ]
    }
   ],
   "source": [
    "print(False and True)\n",
    "print(True and 0)"
   ]
  },
  {
   "cell_type": "markdown",
   "metadata": {},
   "source": [
    "### Short-circuiting"
   ]
  },
  {
   "cell_type": "markdown",
   "metadata": {},
   "source": [
    "This is what short-circuting is: not evaluating the whole expression (stopping short of evaluating it) if we already have enough information to determine the result."
   ]
  },
  {
   "cell_type": "markdown",
   "metadata": {},
   "source": [
    "#### or"
   ]
  },
  {
   "cell_type": "markdown",
   "metadata": {},
   "source": [
    "##### False ory"
   ]
  },
  {
   "cell_type": "markdown",
   "metadata": {},
   "source": [
    "`or` evaluatest to `True` if any of its operands is truthy. If the left operand to `or` is `False` the the `or` operator hast to look to its right operand in order to determine the result."
   ]
  },
  {
   "cell_type": "code",
   "execution_count": 1,
   "metadata": {},
   "outputs": [
    {
     "name": "stdout",
     "output_type": "stream",
     "text": [
      "Got in!, y =  5\n"
     ]
    }
   ],
   "source": [
    "y = 5  # truthy value\n",
    "if False or y:\n",
    "    print(\"Got in!, y = \", y)\n",
    "else:\n",
    "    print(\"Didn't get in...\")"
   ]
  },
  {
   "cell_type": "code",
   "execution_count": 2,
   "metadata": {},
   "outputs": [
    {
     "name": "stdout",
     "output_type": "stream",
     "text": [
      "Didn't get in second...\n"
     ]
    }
   ],
   "source": [
    "y = []  # falsy value\n",
    "if False or y:\n",
    "    print(\"Got in!, y = \", y)\n",
    "else:\n",
    "    print(\"Didn't get in second...\")"
   ]
  },
  {
   "cell_type": "markdown",
   "metadata": {},
   "source": [
    "##### True ory"
   ]
  },
  {
   "cell_type": "markdown",
   "metadata": {},
   "source": [
    "On the other hand, if the left operand to `or` is `True`, we do not need to take a look at `y` because the result will be `True`."
   ]
  },
  {
   "cell_type": "markdown",
   "metadata": {},
   "source": [
    "Let's create a simple function that return its argument unchanged but that produces a side-effect of printing something in the screen, then we can use it to take a look at the things that Python evaluates when trying to determin the vale of `x or y`: "
   ]
  },
  {
   "cell_type": "code",
   "execution_count": 4,
   "metadata": {},
   "outputs": [
    {
     "name": "stdout",
     "output_type": "stream",
     "text": [
      "Inside `print_and_return` with x = False\n",
      "Inside `print_and_return` with x = 3\n",
      "3\n",
      "Inside `print_and_return` with x = True\n",
      "True\n"
     ]
    }
   ],
   "source": [
    "def print_and_return(x):\n",
    "    print(f\"Inside `print_and_return` with x = {x}\")\n",
    "    return x\n",
    "\n",
    "print(print_and_return(False) or print_and_return(3))\n",
    "print(print_and_return(True) or print_and_return(3))"
   ]
  },
  {
   "cell_type": "markdown",
   "metadata": {},
   "source": [
    "Notices that, in the second example, `print_and_return` only did one print because it never reached the `print_and_return(3)`"
   ]
  },
  {
   "cell_type": "markdown",
   "metadata": {},
   "source": [
    "##### Short-circuiting of `or` expressions "
   ]
  },
  {
   "cell_type": "markdown",
   "metadata": {},
   "source": [
    "Now we tie everything together. If the left operand to `or` is `False` or falsy, we know that `or` has to look to its right operand and will, therefore, return the vale of its right operand after evaluating it. On the other hand, if the left operand is `True` or truthy, `or` will return the value of the left operand without even evaluating the right operand."
   ]
  },
  {
   "cell_type": "markdown",
   "metadata": {},
   "source": [
    "#### and"
   ]
  },
  {
   "cell_type": "markdown",
   "metadata": {},
   "source": [
    "##### False andy"
   ]
  },
  {
   "cell_type": "markdown",
   "metadata": {},
   "source": [
    "`and` gives `True` if both operands are `True`. Therefore, if we have an expression like"
   ]
  },
  {
   "cell_type": "code",
   "execution_count": 10,
   "metadata": {},
   "outputs": [
    {
     "name": "stdout",
     "output_type": "stream",
     "text": [
      "False\n"
     ]
    }
   ],
   "source": [
    "val = False and y\n",
    "print(val)"
   ]
  },
  {
   "cell_type": "markdown",
   "metadata": {},
   "source": [
    "do we need to know what `y` is in order to figure out what `val` is? no, we do not, because regardless of wether `y` is `True` or `False`, `val` is always `False`:"
   ]
  },
  {
   "cell_type": "code",
   "execution_count": 11,
   "metadata": {},
   "outputs": [
    {
     "name": "stdout",
     "output_type": "stream",
     "text": [
      "False\n",
      "False\n"
     ]
    }
   ],
   "source": [
    "print(False and True)\n",
    "print(False and False)"
   ]
  },
  {
   "cell_type": "markdown",
   "metadata": {},
   "source": [
    "If we take the `False` and `y` expressions from this example and compare them with the `if` expression we wrote earlier which was\n",
    "\n",
    "    `(x and y) == (x if not x else y)`\n",
    "\n",
    "we see that, in this case, `x` was substituted by `False`, and, therefore, we have\n",
    "    \n",
    "    `(False and y) == (False if not False else y)`\n",
    "\n",
    "Now, the condition inside that `if` expresion reads\n",
    "\n",
    "    `not False`\n",
    "\n",
    "which we know evaluates to `True`, meaning that the `if` expression never returns `y`"
   ]
  },
  {
   "cell_type": "code",
   "execution_count": 20,
   "metadata": {},
   "outputs": [
    {
     "name": "stdout",
     "output_type": "stream",
     "text": [
      "Inside `print_and_return` with x = []\n",
      "[]\n",
      "Inside `print_and_return` with x = 0\n",
      "0\n",
      "Inside `print_and_return` with x = {}\n",
      "{}\n",
      "Inside `print_and_return` with x = 0\n",
      "0\n"
     ]
    }
   ],
   "source": [
    "print(print_and_return([]) and print_and_return(True))  # [] is falsy\n",
    "print(print_and_return(0) and print_and_return(True))  # 0 is falsy\n",
    "print(print_and_return({}) and print_and_return(True))  # {} is falsy\n",
    "print(print_and_return(0) and print_and_return(0))  # both are falsy, but only the left matters"
   ]
  },
  {
   "cell_type": "markdown",
   "metadata": {},
   "source": [
    "##### True andy"
   ]
  },
  {
   "cell_type": "markdown",
   "metadata": {},
   "source": [
    "If we evaluate `True and y`, we figure out that the result of such an expression is always the value of `y`, because the left operand being `True`, or any other truthy value, doesn't give `and` enough information."
   ]
  },
  {
   "cell_type": "markdown",
   "metadata": {},
   "source": [
    "##### Short-circuiting of `and` expressions "
   ]
  },
  {
   "cell_type": "markdown",
   "metadata": {},
   "source": [
    "To tie everything together. If the left operand to `and` is `False` or falsy, we know the expression returns the value of the left operand regardles of the right operand, and therefore we do not even evaluate the right operand. On the other hand, if the left operand to `and` is `True`, then `and` will evaluate the righ operand and return its value."
   ]
  },
  {
   "cell_type": "markdown",
   "metadata": {},
   "source": [
    "### Short-circuiting in plain English"
   ]
  },
  {
   "cell_type": "markdown",
   "metadata": {},
   "source": [
    "Instead of memorising rules about what sides get evaluated when, just remember that both `and` and `or` will evaluate as many operands as needed to determine the overall Boolean result, and will then return the value of the last side that they evaluated.\n",
    "\n",
    "As inmediate conclusion, the left operand is always evaluated, as you might imagine.\n"
   ]
  },
  {
   "cell_type": "markdown",
   "metadata": {},
   "source": [
    "### `all` and `any`"
   ]
  },
  {
   "cell_type": "markdown",
   "metadata": {},
   "source": [
    "The built-in functions `all` and `any` also short-circuit, as they are simple extensions of the behaviours provided by the `and` and `or` operators.\n",
    "\n",
    "`all` wants to make sure that all the values of its argument are truthy, so as soon as it finds a falsy value, it knows it's game over. The docs says `all` is equivalent to this:"
   ]
  },
  {
   "cell_type": "code",
   "execution_count": 22,
   "metadata": {},
   "outputs": [
    {
     "name": "stdout",
     "output_type": "stream",
     "text": [
      "True\n",
      "True\n",
      "False\n",
      "False\n"
     ]
    }
   ],
   "source": [
    "def custom_all(iterable):\n",
    "    for element in iterable:\n",
    "        if not element:\n",
    "            return False\n",
    "    return True\n",
    "\n",
    "my_list = [True, True, True, True]\n",
    "my_list_2 = [True, True, False, True]\n",
    "\n",
    "print(all(my_list))  # True\n",
    "print(custom_all([]))  # True\n",
    "\n",
    "print(all(my_list_2))  # False\n",
    "print(custom_all(my_list_2))  # False"
   ]
  },
  {
   "cell_type": "markdown",
   "metadata": {},
   "source": [
    "Similarly, `any` is going to fo its best to look for some value that is truthy. Therefore, as soon as it fins one, `any` knows it has achieved its goal. Something similar to this:"
   ]
  },
  {
   "cell_type": "code",
   "execution_count": 23,
   "metadata": {},
   "outputs": [
    {
     "name": "stdout",
     "output_type": "stream",
     "text": [
      "False\n",
      "False\n",
      "True\n",
      "True\n"
     ]
    }
   ],
   "source": [
    "def custom_any(iterable):\n",
    "    for element in iterable:\n",
    "        if element:\n",
    "            return True\n",
    "    return False\n",
    "\n",
    "my_list = [False, False, False, False]\n",
    "my_list_2 = [False, False, True, False]\n",
    "\n",
    "print(any(my_list))  # False\n",
    "print(custom_any(my_list))  # False\n",
    "\n",
    "print(any(my_list_2))  # True\n",
    "print(custom_any(my_list_2))  # True"
   ]
  },
  {
   "cell_type": "markdown",
   "metadata": {},
   "source": [
    "### Short-circuiting in chained comparisons"
   ]
  },
  {
   "cell_type": "markdown",
   "metadata": {},
   "source": [
    "Comparisons operators can be chained arbitrarily, and those are almost equivalent to a series of comparisons separated with `and`, except that the subexpressions are only evaluated once, to prevent wasting resources. Therefore, because we are also using an `and` in the background, chained comparisons are also short-circuiting."
   ]
  },
  {
   "cell_type": "code",
   "execution_count": 24,
   "metadata": {},
   "outputs": [
    {
     "name": "stdout",
     "output_type": "stream",
     "text": [
      "Inside `print_and_return` with x = 1\n",
      "Inside `print_and_return` with x = 2\n"
     ]
    },
    {
     "data": {
      "text/plain": [
       "False"
      ]
     },
     "execution_count": 24,
     "metadata": {},
     "output_type": "execute_result"
    }
   ],
   "source": [
    "## 1 > 2 is False, so there is no need to evaluate the right side.\n",
    "print_and_return(1) > print_and_return(2) > print_and_return(3)"
   ]
  },
  {
   "cell_type": "markdown",
   "metadata": {},
   "source": [
    "### Examples in code"
   ]
  },
  {
   "cell_type": "markdown",
   "metadata": {},
   "source": [
    "#### Short-circuit to save time"
   ]
  },
  {
   "cell_type": "markdown",
   "metadata": {},
   "source": [
    "This does not work but it shows that you should check for the simplier operand first."
   ]
  },
  {
   "cell_type": "code",
   "execution_count": null,
   "metadata": {},
   "outputs": [],
   "source": [
    "import timeit\n",
    "\n",
    "\n",
    "setup = \"\"\n",
    "import re\n",
    "s = b\"a\"*1000 + b\"*\"\n",
    "\n",
    "validate = False\n",
    "print(timeit.timeit(\"validate and not re.fullmatch(b'[A-Za-z0-9+/]*=[0,2]', s)\", setup))"
   ]
  },
  {
   "cell_type": "markdown",
   "metadata": {},
   "source": [
    "#### Short-circuit to flatten `if` statements"
   ]
  },
  {
   "cell_type": "code",
   "execution_count": null,
   "metadata": {},
   "outputs": [],
   "source": [
    "if validate:\n",
    "    print(\"Validating...\")\n",
    "    if re.fullmatch(b'[A-Za-z0-9+/]*=[0,2]', s):\n",
    "        print(\"Valid!\")\n",
    "    else:\n",
    "        print(\"Not valid!\")"
   ]
  },
  {
   "cell_type": "markdown",
   "metadata": {},
   "source": [
    "It's best to use a single ìf statement instead of a chain of `and` and `or` operators."
   ]
  },
  {
   "cell_type": "code",
   "execution_count": null,
   "metadata": {},
   "outputs": [],
   "source": [
    "if validate and re.fullmatch(b'[A-Za-z0-9+/]*=[0,2]', s):\n",
    "    print(\"Valid!\")"
   ]
  },
  {
   "cell_type": "markdown",
   "metadata": {},
   "source": [
    "##### Checking preconditions before expression"
   ]
  },
  {
   "cell_type": "code",
   "execution_count": null,
   "metadata": {},
   "outputs": [],
   "source": [
    "def set_terminator(self, term):\n",
    "    if isinstance(term, str) and self.use_encoding:\n",
    "        term = bytes(term, self.encoding)\n",
    "    elif isinstance(term, int) and term < 0:\n",
    "        raise ValueError(\"Terminator must be a non-negative integer\")\n"
   ]
  },
  {
   "cell_type": "markdown",
   "metadata": {},
   "source": [
    "#### Define default values"
   ]
  },
  {
   "cell_type": "code",
   "execution_count": 31,
   "metadata": {},
   "outputs": [
    {
     "name": "stdout",
     "output_type": "stream",
     "text": [
      "Hello, Chris!\n"
     ]
    }
   ],
   "source": [
    "greet = input(\"Type your name >> \") or \"Guest\"\n",
    "print(f\"Hello, {greet}!\")"
   ]
  },
  {
   "cell_type": "markdown",
   "metadata": {},
   "source": [
    "#### Find witnesses in a sequence of items"
   ]
  },
  {
   "cell_type": "code",
   "execution_count": 32,
   "metadata": {},
   "outputs": [
    {
     "name": "stdout",
     "output_type": "stream",
     "text": [
      "Found an odd number: 35\n"
     ]
    }
   ],
   "source": [
    "items = [14, 16, 18, 20, 35, 41, 100]\n",
    "any_found = False\n",
    "\n",
    "for item in items:\n",
    "    any_found = item % 2\n",
    "    if any_found:\n",
    "        print(f\"Found an odd number: {item}\")\n",
    "        break"
   ]
  },
  {
   "cell_type": "markdown",
   "metadata": {},
   "source": [
    "Look as this neat simplified version:"
   ]
  },
  {
   "cell_type": "code",
   "execution_count": 33,
   "metadata": {},
   "outputs": [
    {
     "name": "stdout",
     "output_type": "stream",
     "text": [
      "Found an odd number: 35\n"
     ]
    }
   ],
   "source": [
    "items = [14, 16, 18, 20, 35, 41, 100]\n",
    "is_odd = lambda x: x % 2\n",
    "\n",
    "if any(is_odd(witness := item) for item in items):\n",
    "    print(f\"Found an odd number: {witness}\")"
   ]
  },
  {
   "cell_type": "markdown",
   "metadata": {},
   "source": [
    "## set and frozenset"
   ]
  },
  {
   "cell_type": "markdown",
   "metadata": {},
   "source": [
    "### (Mathematical) sets"
   ]
  },
  {
   "cell_type": "markdown",
   "metadata": {},
   "source": [
    "A set is simply a collection of unique items where order does not matter. Think a set as a shopping cart."
   ]
  },
  {
   "cell_type": "markdown",
   "metadata": {},
   "source": [
    "### No ordering"
   ]
  },
  {
   "cell_type": "markdown",
   "metadata": {},
   "source": [
    "If you go shopping, the order of the items you put in your shopping cart does not matter. The only thing that matters is the items that are in the cart.\n",
    "\n",
    "You could say that the groceries that you bought form a set.\n",
    "\n",
    "Both in maths and in Python, we use `{}` to denote a set. "
   ]
  },
  {
   "cell_type": "code",
   "execution_count": 9,
   "metadata": {},
   "outputs": [
    {
     "name": "stdout",
     "output_type": "stream",
     "text": [
      "{'bread', 'milk', 'cheese'}\n",
      "<class 'set'>\n",
      "set\n"
     ]
    }
   ],
   "source": [
    "groceries = {\"milk\", \"bread\", \"cheese\", \"milk\"}\n",
    "print(groceries)\n",
    "print(type(groceries))\n",
    "print(type(groceries).__name__)"
   ]
  },
  {
   "cell_type": "markdown",
   "metadata": {},
   "source": [
    "To make sure that the order really does not matter in sets, we can compare this set with other sets containing the same elements but in a different order."
   ]
  },
  {
   "cell_type": "code",
   "execution_count": 11,
   "metadata": {},
   "outputs": [
    {
     "name": "stdout",
     "output_type": "stream",
     "text": [
      "True\n",
      "True\n"
     ]
    }
   ],
   "source": [
    "print(groceries == {\"cheese\", \"bread\", \"milk\"})\n",
    "print(groceries == {\"bread\", \"milk\", \"cheese\"})"
   ]
  },
  {
   "cell_type": "markdown",
   "metadata": {},
   "source": [
    "### Uniqueness"
   ]
  },
  {
   "cell_type": "markdown",
   "metadata": {},
   "source": [
    "Another key property of (mathematical) sets is that there are no duplicate elements.\n",
    "\n",
    "Think as someone told you to buy cheese, and when you go back home, someone asks you: \"Did you buy cheese?\" This is a yes/no question, either you bought cheese or you didn't.\n",
    "\n",
    "For sets, the same thing happens: the element is either in the set or it's not. We don't care about element count. We don't even consider it."
   ]
  },
  {
   "cell_type": "code",
   "execution_count": 12,
   "metadata": {},
   "outputs": [
    {
     "name": "stdout",
     "output_type": "stream",
     "text": [
      "{'milk', 'apple', 'banana'}\n"
     ]
    }
   ],
   "source": [
    "groceries = {\"apple\", \"banana\", \"apple\", \"milk\", \"milk\", \"milk\"}\n",
    "print(groceries)"
   ]
  },
  {
   "cell_type": "markdown",
   "metadata": {},
   "source": [
    "### (Common) Operations on sets"
   ]
  },
  {
   "cell_type": "markdown",
   "metadata": {},
   "source": [
    "#### Creation"
   ]
  },
  {
   "cell_type": "markdown",
   "metadata": {},
   "source": [
    "There are three main ways to create a set."
   ]
  },
  {
   "cell_type": "markdown",
   "metadata": {},
   "source": [
    "##### Explicit {} notation"
   ]
  },
  {
   "cell_type": "markdown",
   "metadata": {},
   "source": [
    "Using the `{}` notation, you write out the elements inside the set in a comma-separated list."
   ]
  },
  {
   "cell_type": "code",
   "execution_count": 19,
   "metadata": {},
   "outputs": [
    {
     "name": "stdout",
     "output_type": "stream",
     "text": [
      "{1, 2, 3}\n",
      "{'b', 'c', 'a'}\n"
     ]
    }
   ],
   "source": [
    "numbers = {1, 2, 3}\n",
    "letters = {\"a\", \"b\", \"c\"}\n",
    "print(numbers)\n",
    "print(letters)"
   ]
  },
  {
   "cell_type": "markdown",
   "metadata": {},
   "source": [
    "By the way, you cannot use `{}` to create an empty set! `{}` by itself will create an empty dictionary. To create an empty set, you need the next method."
   ]
  },
  {
   "cell_type": "markdown",
   "metadata": {},
   "source": [
    "##### Calling set on an iterable"
   ]
  },
  {
   "cell_type": "markdown",
   "metadata": {},
   "source": [
    "You can call the built-in functon `set()` on any iterable to create a set out of the elements of that iterable. Like range, strings, and lists."
   ]
  },
  {
   "cell_type": "code",
   "execution_count": 22,
   "metadata": {},
   "outputs": [
    {
     "name": "stdout",
     "output_type": "stream",
     "text": [
      "{0, 1, 2}\n",
      "{73, 'water', 42}\n"
     ]
    }
   ],
   "source": [
    "print(set(range(3)))\n",
    "print(set([73, \"water\", 42]))"
   ]
  },
  {
   "cell_type": "markdown",
   "metadata": {},
   "source": [
    "Calling `set` on a string produces a set with the characters of the string, not a set containing the whole string."
   ]
  },
  {
   "cell_type": "code",
   "execution_count": 23,
   "metadata": {},
   "outputs": [
    {
     "name": "stdout",
     "output_type": "stream",
     "text": [
      "mississippi\n",
      "{'i', 'm', 'p', 's'}\n"
     ]
    }
   ],
   "source": [
    "place = \"mississippi\"\n",
    "print(place)\n",
    "print(set(place))"
   ]
  },
  {
   "cell_type": "markdown",
   "metadata": {},
   "source": [
    "Calling `set` by itself produces an empty set."
   ]
  },
  {
   "cell_type": "code",
   "execution_count": 24,
   "metadata": {},
   "outputs": [
    {
     "name": "stdout",
     "output_type": "stream",
     "text": [
      "set()\n"
     ]
    }
   ],
   "source": [
    "my_set = set()\n",
    "print(my_set)"
   ]
  },
  {
   "cell_type": "markdown",
   "metadata": {},
   "source": [
    "##### Set comprehensions"
   ]
  },
  {
   "cell_type": "markdown",
   "metadata": {},
   "source": [
    "Using `{}`, one can also write what's called a set comprehension. Very similar to list comprehensions, but for sets."
   ]
  },
  {
   "cell_type": "code",
   "execution_count": 25,
   "metadata": {},
   "outputs": [
    {
     "name": "stdout",
     "output_type": "stream",
     "text": [
      "{'carrot', 'spinach', 'broccoli', 'lettuce'}\n"
     ]
    }
   ],
   "source": [
    "veggies = [\"broccoli\", \"carrot\", \"spinach\", \"lettuce\", \"pepper\", \"tomato\"]\n",
    "veggies_set = {veggie for veggie in veggies if \"c\" in veggie}\n",
    "print(veggies_set)"
   ]
  },
  {
   "cell_type": "markdown",
   "metadata": {},
   "source": [
    "Secondly, a ser of comprehension with two nested for loops."
   ]
  },
  {
   "cell_type": "code",
   "execution_count": 26,
   "metadata": {},
   "outputs": [
    {
     "name": "stdout",
     "output_type": "stream",
     "text": [
      "{'p', 't', 'o', 'r', 'n', 'c', 'a', 'i', 'm', 'b', 'e', 's', 'l', 'h', 'u'}\n"
     ]
    }
   ],
   "source": [
    "veggies = [\"broccoli\", \"carrot\", \"spinach\", \"lettuce\", \"pepper\", \"tomato\"]\n",
    "print({char for veggie in veggies for char in veggie})"
   ]
  },
  {
   "cell_type": "markdown",
   "metadata": {},
   "source": [
    "#### Operations on a single set"
   ]
  },
  {
   "cell_type": "markdown",
   "metadata": {},
   "source": [
    "Many common operations are done on with a single set, namely:\n",
    "\n",
    "- membership testing"
   ]
  },
  {
   "cell_type": "code",
   "execution_count": 1,
   "metadata": {},
   "outputs": [
    {
     "name": "stdout",
     "output_type": "stream",
     "text": [
      "True\n",
      "False\n"
     ]
    }
   ],
   "source": [
    "groceries = {\"broccoli\", \"carrot\", \"spinach\", \"lettuce\", \"pepper\", \"tomato\"}\n",
    "print(\"broccoli\" in groceries)  # True\n",
    "print(\"cucumber\" in groceries)  # False"
   ]
  },
  {
   "cell_type": "markdown",
   "metadata": {},
   "source": [
    "- computing the size of a set"
   ]
  },
  {
   "cell_type": "code",
   "execution_count": 2,
   "metadata": {},
   "outputs": [
    {
     "data": {
      "text/plain": [
       "6"
      ]
     },
     "execution_count": 2,
     "metadata": {},
     "output_type": "execute_result"
    }
   ],
   "source": [
    "len(groceries)  # 6"
   ]
  },
  {
   "cell_type": "markdown",
   "metadata": {},
   "source": [
    "- popping a random element from a set"
   ]
  },
  {
   "cell_type": "code",
   "execution_count": 4,
   "metadata": {},
   "outputs": [
    {
     "name": "stdout",
     "output_type": "stream",
     "text": [
      "tomato\n",
      "['broccoli', 'carrot', 'spinach', 'lettuce', 'pepper']\n"
     ]
    }
   ],
   "source": [
    "print(groceries.pop())\n",
    "print(groceries)"
   ]
  },
  {
   "cell_type": "markdown",
   "metadata": {},
   "source": [
    "- adding an element to a set"
   ]
  },
  {
   "cell_type": "code",
   "execution_count": 7,
   "metadata": {},
   "outputs": [
    {
     "name": "stdout",
     "output_type": "stream",
     "text": [
      "{'pepper', 'lettuce', 'carrot', 'broccoli', 'zucchini', 'spinach', 'tomato'}\n"
     ]
    }
   ],
   "source": [
    "groceries = {\"broccoli\", \"carrot\", \"spinach\", \"lettuce\", \"pepper\", \"tomato\"}\n",
    "groceries.add(\"zucchini\")\n",
    "print(groceries)"
   ]
  },
  {
   "cell_type": "markdown",
   "metadata": {},
   "source": [
    "#### Iteration"
   ]
  },
  {
   "cell_type": "markdown",
   "metadata": {},
   "source": [
    "Sets are similar to lists with unique elements, but lists are ordered: a list can be traversed from the beginning to the end, and a list can be indexed.\n",
    "\n",
    "Sets can also be iterated over (in an order you can't rely on)"
   ]
  },
  {
   "cell_type": "code",
   "execution_count": 11,
   "metadata": {},
   "outputs": [
    {
     "name": "stdout",
     "output_type": "stream",
     "text": [
      "pepper\n",
      "lettuce\n",
      "carrot\n",
      "broccoli\n",
      "zucchini\n",
      "spinach\n",
      "tomato\n"
     ]
    }
   ],
   "source": [
    "for item in groceries:\n",
    "    print(item)"
   ]
  },
  {
   "cell_type": "markdown",
   "metadata": {},
   "source": [
    "Sets cannot be indexed directly:"
   ]
  },
  {
   "cell_type": "code",
   "execution_count": 12,
   "metadata": {},
   "outputs": [
    {
     "ename": "TypeError",
     "evalue": "'set' object is not subscriptable",
     "output_type": "error",
     "traceback": [
      "\u001b[0;31m---------------------------------------------------------------------------\u001b[0m",
      "\u001b[0;31mTypeError\u001b[0m                                 Traceback (most recent call last)",
      "Cell \u001b[0;32mIn[12], line 1\u001b[0m\n\u001b[0;32m----> 1\u001b[0m \u001b[38;5;28mprint\u001b[39m(\u001b[43mgroceries\u001b[49m\u001b[43m[\u001b[49m\u001b[38;5;241;43m0\u001b[39;49m\u001b[43m]\u001b[49m)  \u001b[38;5;66;03m# This will raise an error\u001b[39;00m\n",
      "\u001b[0;31mTypeError\u001b[0m: 'set' object is not subscriptable"
     ]
    }
   ],
   "source": [
    "print(groceries[0])  # This will raise an error"
   ]
  },
  {
   "cell_type": "markdown",
   "metadata": {},
   "source": [
    "#### Computation with multiple sets"
   ]
  },
  {
   "cell_type": "markdown",
   "metadata": {},
   "source": [
    "When having multiple sets you may need to do other sorts of operations. Here are some common ones:"
   ]
  },
  {
   "cell_type": "markdown",
   "metadata": {},
   "source": [
    "- check for overlap between two sets"
   ]
  },
  {
   "cell_type": "code",
   "execution_count": 15,
   "metadata": {},
   "outputs": [
    {
     "name": "stdout",
     "output_type": "stream",
     "text": [
      "{'cheese'}\n"
     ]
    }
   ],
   "source": [
    "groceries = {\"milk\", \"bread\", \"cheese\"}\n",
    "treats = {\"cake\", \"ice cream\", \"cookies\", \"cheese\"}\n",
    "\n",
    "print(groceries & treats)"
   ]
  },
  {
   "cell_type": "markdown",
   "metadata": {},
   "source": [
    "- join the two sets. Here the pipe is similar to the usage of | to merge dictionaries."
   ]
  },
  {
   "cell_type": "code",
   "execution_count": 16,
   "metadata": {},
   "outputs": [
    {
     "name": "stdout",
     "output_type": "stream",
     "text": [
      "{'cake', 'ice cream', 'cookies', 'milk', 'cheese', 'bread'}\n"
     ]
    }
   ],
   "source": [
    "print(groceries | treats)"
   ]
  },
  {
   "cell_type": "markdown",
   "metadata": {},
   "source": [
    "- find differences between two sets (what's on the left set but not on the right set)"
   ]
  },
  {
   "cell_type": "code",
   "execution_count": 17,
   "metadata": {},
   "outputs": [
    {
     "name": "stdout",
     "output_type": "stream",
     "text": [
      "{'milk', 'bread'}\n"
     ]
    }
   ],
   "source": [
    "print(groceries - treats)"
   ]
  },
  {
   "cell_type": "markdown",
   "metadata": {},
   "source": [
    "- check for containment using <, <=, >= and >"
   ]
  },
  {
   "cell_type": "code",
   "execution_count": 27,
   "metadata": {},
   "outputs": [
    {
     "name": "stdout",
     "output_type": "stream",
     "text": [
      "True\n",
      "False\n",
      "True\n",
      "True\n",
      "True\n",
      "True\n"
     ]
    }
   ],
   "source": [
    "print({\"cheese\", \"milk\"} < groceries)\n",
    "print(groceries < groceries)\n",
    "print({\"cheese\", \"milk\"} <= groceries)\n",
    "print(groceries <= groceries)\n",
    "print(treats > {\"cake\"})\n",
    "print(treats >= {\"cake\", \"cheese\"})"
   ]
  },
  {
   "cell_type": "markdown",
   "metadata": {},
   "source": [
    "### Differences between `set` and `frozenset`"
   ]
  },
  {
   "cell_type": "markdown",
   "metadata": {},
   "source": [
    "#### Creation"
   ]
  },
  {
   "cell_type": "markdown",
   "metadata": {},
   "source": [
    "While you can create a set with the built-in `set()` function or through the `{}` notation, `frozenset` can only be created with the built-in `frozenset()` function.\n",
    "\n",
    "`frozenset` can be created out of other sets or out of any iterables.\n",
    "\n",
    "When printed, `frozenset` display the indication that they are frozen."
   ]
  },
  {
   "cell_type": "code",
   "execution_count": 29,
   "metadata": {},
   "outputs": [
    {
     "name": "stdout",
     "output_type": "stream",
     "text": [
      "frozenset({'bread', 'cheese', 'milk'})\n",
      "frozenset({'water', 73, 42})\n"
     ]
    }
   ],
   "source": [
    "groceries = {\"milk\", \"bread\", \"cheese\"}\n",
    "print(frozenset(groceries))\n",
    "print(frozenset([73, \"water\", 42]))"
   ]
  },
  {
   "cell_type": "markdown",
   "metadata": {},
   "source": [
    "#### Mutability"
   ]
  },
  {
   "cell_type": "markdown",
   "metadata": {},
   "source": [
    "Sets are mutable. They can be changed after they are created. You can add, remove, or change elements.\n",
    "\n",
    "If you need to create an object that behaves like a set but is immutable, you can use `frozenset`.\n",
    "\n",
    "A `frozenset` is an instance of a `set`except that it cannot be changed after it is created."
   ]
  },
  {
   "cell_type": "code",
   "execution_count": 32,
   "metadata": {},
   "outputs": [
    {
     "ename": "AttributeError",
     "evalue": "'frozenset' object has no attribute 'pop'",
     "output_type": "error",
     "traceback": [
      "\u001b[0;31m---------------------------------------------------------------------------\u001b[0m",
      "\u001b[0;31mAttributeError\u001b[0m                            Traceback (most recent call last)",
      "Cell \u001b[0;32mIn[32], line 3\u001b[0m\n\u001b[1;32m      1\u001b[0m groceries_ \u001b[38;5;241m=\u001b[39m \u001b[38;5;28mfrozenset\u001b[39m({\u001b[38;5;124m\"\u001b[39m\u001b[38;5;124mmilk\u001b[39m\u001b[38;5;124m\"\u001b[39m, \u001b[38;5;124m\"\u001b[39m\u001b[38;5;124mbread\u001b[39m\u001b[38;5;124m\"\u001b[39m, \u001b[38;5;124m\"\u001b[39m\u001b[38;5;124mcheese\u001b[39m\u001b[38;5;124m\"\u001b[39m})\n\u001b[1;32m      2\u001b[0m \u001b[38;5;66;03m# groceries_.add(\"zucchini\")  # This will raise an error\u001b[39;00m\n\u001b[0;32m----> 3\u001b[0m \u001b[43mgroceries_\u001b[49m\u001b[38;5;241;43m.\u001b[39;49m\u001b[43mpop\u001b[49m()\n",
      "\u001b[0;31mAttributeError\u001b[0m: 'frozenset' object has no attribute 'pop'"
     ]
    }
   ],
   "source": [
    "groceries_ = frozenset({\"milk\", \"bread\", \"cheese\"})\n",
    "# groceries_.add(\"zucchini\")  # This will raise an error\n",
    "groceries_.pop()"
   ]
  },
  {
   "cell_type": "markdown",
   "metadata": {},
   "source": [
    "There's a very similar pair of built-in types that have this same dichotomy: lists and tuples.\n",
    "\n",
    "Lists are mutable, and tuples are immutable."
   ]
  },
  {
   "cell_type": "code",
   "execution_count": 38,
   "metadata": {},
   "outputs": [
    {
     "name": "stdout",
     "output_type": "stream",
     "text": [
      "apple\n",
      "milk\n",
      "['apple', 'banana', 'apple', 'milk', 'milk', 'zucchini']\n"
     ]
    },
    {
     "ename": "AttributeError",
     "evalue": "'tuple' object has no attribute 'pop'",
     "output_type": "error",
     "traceback": [
      "\u001b[0;31m---------------------------------------------------------------------------\u001b[0m",
      "\u001b[0;31mAttributeError\u001b[0m                            Traceback (most recent call last)",
      "Cell \u001b[0;32mIn[38], line 8\u001b[0m\n\u001b[1;32m      5\u001b[0m \u001b[38;5;28mprint\u001b[39m(my_list)\n\u001b[1;32m      7\u001b[0m my_tuple \u001b[38;5;241m=\u001b[39m (\u001b[38;5;124m\"\u001b[39m\u001b[38;5;124mapple\u001b[39m\u001b[38;5;124m\"\u001b[39m, \u001b[38;5;124m\"\u001b[39m\u001b[38;5;124mbanana\u001b[39m\u001b[38;5;124m\"\u001b[39m, \u001b[38;5;124m\"\u001b[39m\u001b[38;5;124mapple\u001b[39m\u001b[38;5;124m\"\u001b[39m, \u001b[38;5;124m\"\u001b[39m\u001b[38;5;124mmilk\u001b[39m\u001b[38;5;124m\"\u001b[39m, \u001b[38;5;124m\"\u001b[39m\u001b[38;5;124mmilk\u001b[39m\u001b[38;5;124m\"\u001b[39m, \u001b[38;5;124m\"\u001b[39m\u001b[38;5;124mmilk\u001b[39m\u001b[38;5;124m\"\u001b[39m)\n\u001b[0;32m----> 8\u001b[0m \u001b[43mmy_tuple\u001b[49m\u001b[38;5;241;43m.\u001b[39;49m\u001b[43mpop\u001b[49m()  \u001b[38;5;66;03m# This will raise an error\u001b[39;00m\n",
      "\u001b[0;31mAttributeError\u001b[0m: 'tuple' object has no attribute 'pop'"
     ]
    }
   ],
   "source": [
    "my_list = [\"apple\", \"banana\", \"apple\", \"milk\", \"milk\", \"milk\"]\n",
    "print(my_list[0])\n",
    "print(my_list.pop())\n",
    "my_list.append(\"zucchini\")\n",
    "print(my_list)\n",
    "\n",
    "my_tuple = (\"apple\", \"banana\", \"apple\", \"milk\", \"milk\", \"milk\")\n",
    "my_tuple.pop()  # This will raise an error"
   ]
  },
  {
   "cell_type": "markdown",
   "metadata": {},
   "source": [
    "### To be (hashable) or not to be"
   ]
  },
  {
   "cell_type": "markdown",
   "metadata": {},
   "source": [
    "An object that is hashable is an object for wich hash can be computed.\n",
    "\n",
    "A has is an integer that the built-in function `hash()` computes to help with fast operations with fast operations with dictionaries, e.g. key lookups.\n",
    "\n",
    "The built-in function `hash` dictates what can and annot be a key dictionary: if it's hashable it can be if not, it can't.\n",
    "\n",
    "Lists are mutable and unhashable, while tuples are immutable and hashable."
   ]
  },
  {
   "cell_type": "code",
   "execution_count": 42,
   "metadata": {},
   "outputs": [
    {
     "name": "stdout",
     "output_type": "stream",
     "text": [
      "{(1, 2, 3): 73}\n"
     ]
    }
   ],
   "source": [
    "dictionary = {}\n",
    "# dictionary[[1, 2, 3]] = 73  # This will raise an error\n",
    "dictionary[(1, 2, 3)] = 73\n",
    "print(dictionary)"
   ]
  },
  {
   "cell_type": "markdown",
   "metadata": {},
   "source": [
    "Something similar occurs with sets and frozensets."
   ]
  },
  {
   "cell_type": "code",
   "execution_count": 44,
   "metadata": {},
   "outputs": [
    {
     "name": "stdout",
     "output_type": "stream",
     "text": [
      "{frozenset({1, 2, 3}): 73}\n"
     ]
    }
   ],
   "source": [
    "dictionary = {}\n",
    "# dictionary[{1, 2, 3}] = 73  # This will raise an error\n",
    "dictionary[frozenset({1, 2, 3})] = 73\n",
    "print(dictionary)"
   ]
  },
  {
   "cell_type": "markdown",
   "metadata": {},
   "source": [
    "### What are sets used for?"
   ]
  },
  {
   "cell_type": "markdown",
   "metadata": {},
   "source": [
    "Sets are useful when the problems at hand would inherit from mathematical sets:\n",
    "- membership testing\n",
    "- uniqueness\n",
    "\n",
    "Doing this in sets are much faster than lists."
   ]
  },
  {
   "cell_type": "markdown",
   "metadata": {},
   "source": [
    "### Examples"
   ]
  },
  {
   "cell_type": "markdown",
   "metadata": {},
   "source": [
    "Never do this, this is an anti-pattern"
   ]
  },
  {
   "cell_type": "code",
   "execution_count": 51,
   "metadata": {},
   "outputs": [],
   "source": [
    "seen_actions = set()\n",
    "action = \"test\"\n",
    "\n",
    "if action not in seen_actions:\n",
    "    seen_actions.add(action)    "
   ]
  },
  {
   "cell_type": "markdown",
   "metadata": {},
   "source": [
    "Checking if an element is inside a set or adding unconditionally is almost the same work, so this is doubling your work!"
   ]
  },
  {
   "cell_type": "markdown",
   "metadata": {},
   "source": [
    "### Conclusion"
   ]
  },
  {
   "cell_type": "markdown",
   "metadata": {},
   "source": [
    "- Use (frozen)set when youa re dealing with collections and where what matters is fast memebership checking."
   ]
  },
  {
   "cell_type": "markdown",
   "metadata": {},
   "source": [
    "## List comprehensions 101"
   ]
  },
  {
   "cell_type": "markdown",
   "metadata": {},
   "source": [
    "### What is a list comprehension?"
   ]
  },
  {
   "cell_type": "markdown",
   "metadata": {},
   "source": [
    "A list comprehension is a Python expression that builds a list.\n",
    "\n"
   ]
  },
  {
   "cell_type": "markdown",
   "metadata": {},
   "source": [
    "### A loop that builds a list"
   ]
  },
  {
   "cell_type": "markdown",
   "metadata": {},
   "source": [
    "Consider the next loop. It builds a list called `squares` which contains the first square of numbers:"
   ]
  },
  {
   "cell_type": "code",
   "execution_count": 53,
   "metadata": {},
   "outputs": [
    {
     "name": "stdout",
     "output_type": "stream",
     "text": [
      "[0, 1, 4, 9, 16, 25, 36, 49, 64, 81]\n"
     ]
    }
   ],
   "source": [
    "squares = []\n",
    "for num in range(10):\n",
    "    squares.append(num**2)\n",
    "print(squares)"
   ]
  },
  {
   "cell_type": "markdown",
   "metadata": {},
   "source": [
    "The key idea behind list comprehensions is that many list can be built out of other, simpler iterables (lists, tuples, strings) by transforming the data that we get from those iterables. In such cases, we want to focus on the data transformation that we are doing."
   ]
  },
  {
   "cell_type": "code",
   "execution_count": 54,
   "metadata": {},
   "outputs": [
    {
     "name": "stdout",
     "output_type": "stream",
     "text": [
      "[0, 1, 4, 9, 16, 25, 36, 49, 64, 81]\n"
     ]
    }
   ],
   "source": [
    "squares_comprehension= [num**2 for num in range(10)]\n",
    "print(squares_comprehension)"
   ]
  },
  {
   "cell_type": "markdown",
   "metadata": {},
   "source": [
    "In this case we are dropping:\n",
    "- the initialisation of the list (`squares = []`)\n",
    "- the call to append (`squares.append(...)`)"
   ]
  },
  {
   "cell_type": "markdown",
   "metadata": {},
   "source": [
    "### Exercises: practice rewriting `for` loops as list of comprehensions"
   ]
  },
  {
   "cell_type": "markdown",
   "metadata": {},
   "source": [
    "1. Compute the first square numbers"
   ]
  },
  {
   "cell_type": "code",
   "execution_count": 57,
   "metadata": {},
   "outputs": [
    {
     "name": "stdout",
     "output_type": "stream",
     "text": [
      "[0, 1, 4, 9, 16, 25, 36, 49, 64, 81]\n",
      "[0, 1, 4, 9, 16, 25, 36, 49, 64, 81]\n"
     ]
    }
   ],
   "source": [
    "squares = []\n",
    "for n in range(10):\n",
    "    squares.append(n ** 2)\n",
    "print(squares)\n",
    "\n",
    "squares_comp = [n ** 2 for n in range(10)]\n",
    "print(squares_comp)"
   ]
  },
  {
   "cell_type": "markdown",
   "metadata": {},
   "source": [
    "2. Uppercasing a series of words:"
   ]
  },
  {
   "cell_type": "code",
   "execution_count": 59,
   "metadata": {},
   "outputs": [
    {
     "name": "stdout",
     "output_type": "stream",
     "text": [
      "['BANANA', 'PEAR', 'PEACH', 'STRAWBERRY', 'TOMATO']\n",
      "['BANANA', 'PEAR', 'PEACH', 'STRAWBERRY', 'TOMATO']\n"
     ]
    }
   ],
   "source": [
    "fruits = \"banana pear peach strawberry tomato\".split()\n",
    "upper_words = []\n",
    "for fruit in fruits:\n",
    "    upper_words.append(fruit.upper())\n",
    "print(upper_words)\n",
    "\n",
    "upper_comp = [fruit.upper() for fruit in fruits]\n",
    "print(upper_comp)"
   ]
  },
  {
   "cell_type": "markdown",
   "metadata": {},
   "source": [
    "3. Find the length of each word in a sentence:"
   ]
  },
  {
   "cell_type": "code",
   "execution_count": 3,
   "metadata": {},
   "outputs": [
    {
     "name": "stdout",
     "output_type": "stream",
     "text": [
      "[3, 5, 5, 3, 5, 4, 3, 4, 3]\n"
     ]
    }
   ],
   "source": [
    "words = \"the quick brown fox jumps over the lazy dog\".split()\n",
    "lengths = [len(word) for word in words]\n",
    "print(lengths)"
   ]
  },
  {
   "cell_type": "markdown",
   "metadata": {},
   "source": [
    "### Filtering data in a list comprehension"
   ]
  },
  {
   "cell_type": "markdown",
   "metadata": {},
   "source": [
    "List comprehensions allow you to filter data so that the new list only transforms some of the data that comes from the source iterable."
   ]
  },
  {
   "cell_type": "code",
   "execution_count": 8,
   "metadata": {},
   "outputs": [
    {
     "name": "stdout",
     "output_type": "stream",
     "text": [
      "[9, 25, 36, 81]\n",
      "[9, 25, 36, 81]\n"
     ]
    }
   ],
   "source": [
    "square_list = []\n",
    "for number in range(1, 10):\n",
    "    if (number % 3 == 0) or (number % 5 == 0):\n",
    "        square_list.append(number**2)\n",
    "print(square_list)\n",
    "\n",
    "square_list_comprehension = [\n",
    "    number ** 2 \n",
    "    for number in range(1, 10) \n",
    "    if (number % 3 == 0) or (number % 5 == 0)\n",
    "]\n",
    "print(square_list_comprehension)"
   ]
  },
  {
   "cell_type": "markdown",
   "metadata": {},
   "source": [
    "### More exercises"
   ]
  },
  {
   "cell_type": "markdown",
   "metadata": {},
   "source": [
    "1. Squaring"
   ]
  },
  {
   "cell_type": "code",
   "execution_count": 11,
   "metadata": {},
   "outputs": [
    {
     "name": "stdout",
     "output_type": "stream",
     "text": [
      "[0, 9, 25, 36, 81]\n",
      "[0, 9, 25, 36, 81]\n"
     ]
    }
   ],
   "source": [
    "fizz_buzz_squares = []\n",
    "for n in range(10):\n",
    "    if (n % 3 == 0) or (n % 5 == 0):\n",
    "        fizz_buzz_squares.append(n ** 2)\n",
    "print(fizz_buzz_squares)\n",
    "\n",
    "# List comprehension\n",
    "fb_list_comp = [\n",
    "    n ** 2 \n",
    "    for n in range(10) \n",
    "    if (n % 3 == 0) or (n % 5 == 0)\n",
    "]\n",
    "print(fb_list_comp)"
   ]
  },
  {
   "cell_type": "markdown",
   "metadata": {},
   "source": [
    "2. Upper cassing words"
   ]
  },
  {
   "cell_type": "code",
   "execution_count": 15,
   "metadata": {},
   "outputs": [
    {
     "name": "stdout",
     "output_type": "stream",
     "text": [
      "['PEAR', 'STRAWBERRY', 'TOMATO']\n",
      "['PEAR', 'STRAWBERRY', 'TOMATO']\n"
     ]
    }
   ],
   "source": [
    "fruits = \"Banana pear PEACH strawberry tomato\".split()\n",
    "upper_cased = []\n",
    "for fruit in fruits:\n",
    "    if (fruit.islower()):\n",
    "        upper_cased.append(fruit.upper())\n",
    "print(upper_cased)\n",
    "\n",
    "# List comprehension\n",
    "fruit_list_comp = [\n",
    "    fruit.upper()\n",
    "    for fruit in fruits\n",
    "    if fruit.islower()\n",
    "]\n",
    "print(fruit_list_comp)"
   ]
  },
  {
   "cell_type": "markdown",
   "metadata": {},
   "source": [
    "3. Finding length of words"
   ]
  },
  {
   "cell_type": "code",
   "execution_count": 17,
   "metadata": {},
   "outputs": [
    {
     "name": "stdout",
     "output_type": "stream",
     "text": [
      "[5, 3, 4, 3]\n",
      "[5, 3, 4, 3]\n"
     ]
    }
   ],
   "source": [
    "words = \"the quick brown fox jumps over the lazy dog\".split()\n",
    "lengths = []\n",
    "for word in words:\n",
    "    if \"o\" in word:\n",
    "        lengths.append(len(word))\n",
    "print(lengths)\n",
    "\n",
    "lengths_list_comp = [\n",
    "    len(word)\n",
    "    for word in words\n",
    "    if \"o\" in word\n",
    "]\n",
    "print(lengths_list_comp)"
   ]
  },
  {
   "cell_type": "markdown",
   "metadata": {},
   "source": [
    "### Full anatomy of a list comprehension"
   ]
  },
  {
   "cell_type": "markdown",
   "metadata": {},
   "source": [
    "The anatomy of a list comprehension is dictated by 3 components enclosed in square brackets:\n",
    "1. a data transformation\n",
    "2. a data source\n",
    "3. a data filter (optional)"
   ]
  },
  {
   "cell_type": "code",
   "execution_count": null,
   "metadata": {},
   "outputs": [],
   "source": [
    "ns = []\n",
    "my_list = [\n",
    "    n ** 2       # data transformation\n",
    "    for n in ns  # data source\n",
    "    if n == 0    # data filter\n",
    "]"
   ]
  },
  {
   "cell_type": "markdown",
   "metadata": {},
   "source": [
    "There's no restriction on the number of data sources or data filters in a list comprehension"
   ]
  },
  {
   "cell_type": "code",
   "execution_count": null,
   "metadata": {},
   "outputs": [],
   "source": [
    "my_list = []\n",
    "for it2 in it1:\n",
    "    for _ in it3:\n",
    "        if p1(it2):\n",
    "            for it4 in it2:\n",
    "                for v1 in it4:\n",
    "                    if p2(v1):\n",
    "                        if p3(it4):\n",
    "                            for it6 in it5:\n",
    "                                for v2, it7 in it6:\n",
    "                                    for v3, it8m, it9 in it7:\n",
    "                                        if p2(v1):\n",
    "                                            for v4, v5 in zip(it8, it9):\n",
    "                                                my_list.append(func(v1, v2, v3, v4, v5))"
   ]
  },
  {
   "cell_type": "markdown",
   "metadata": {},
   "source": [
    "This is the transformation to list comprehension"
   ]
  },
  {
   "cell_type": "code",
   "execution_count": null,
   "metadata": {},
   "outputs": [],
   "source": [
    "my_list = [\n",
    "    func(v1, v2, v3, v4, v5)\n",
    "    for it2 in it1\n",
    "    for _ in it3\n",
    "    if p1(it2)\n",
    "    for it4 in it2\n",
    "    for v1 in it4\n",
    "    if p2(v1)\n",
    "    if p3(it4)\n",
    "    for it6 in it5\n",
    "    for v2, it7 in it6\n",
    "    for v3, it8m, it9 in it7\n",
    "    if p2(v1)\n",
    "    for v4, v5 in zip(it8, it9)\n",
    "]"
   ]
  },
  {
   "cell_type": "markdown",
   "metadata": {},
   "source": [
    "List comprehensions should be kept simple. For most people, that's just one data source and one data filter (one `for` and one `if`) or two data sources and no data filters (two `for` and zero `if`)"
   ]
  },
  {
   "cell_type": "markdown",
   "metadata": {},
   "source": [
    "### Advantages of list comprehensions"
   ]
  },
  {
   "cell_type": "markdown",
   "metadata": {},
   "source": [
    "The main advantages over nested structures are:\n",
    "- speed\n",
    "- conciseness\n",
    "- purity\n",
    "- readability\n",
    "\n",
    "Keep in mind **the main advantage is readability**"
   ]
  },
  {
   "cell_type": "markdown",
   "metadata": {},
   "source": [
    "### Bad use cases"
   ]
  },
  {
   "cell_type": "markdown",
   "metadata": {},
   "source": [
    "#### Initialising another list"
   ]
  },
  {
   "cell_type": "code",
   "execution_count": null,
   "metadata": {},
   "outputs": [],
   "source": [
    "squares = []\n",
    "[squares.append(num ** 2) for num in range(10)]"
   ]
  },
  {
   "cell_type": "markdown",
   "metadata": {},
   "source": [
    "Here we are creating an empty list and we're appending to it from inside another list... Totally not the point.\n",
    "\n",
    "Also we created a list not assigned to any variable, so we are creating a list an wasting it."
   ]
  },
  {
   "cell_type": "code",
   "execution_count": 18,
   "metadata": {},
   "outputs": [
    {
     "name": "stdout",
     "output_type": "stream",
     "text": [
      "[None, None, None, None, None, None, None, None, None, None]\n"
     ]
    }
   ],
   "source": [
    "squares = []\n",
    "some_list = [squares.append(num ** 2) for num in range(10)]\n",
    "print(some_list)"
   ]
  },
  {
   "cell_type": "markdown",
   "metadata": {},
   "source": [
    "We get a bunch of `None` because that's the return value of method `append`"
   ]
  },
  {
   "cell_type": "markdown",
   "metadata": {},
   "source": [
    "#### Side effects"
   ]
  },
  {
   "cell_type": "code",
   "execution_count": 20,
   "metadata": {},
   "outputs": [
    {
     "name": "stdout",
     "output_type": "stream",
     "text": [
      "<generator object <genexpr> at 0x110546c80>\n"
     ]
    },
    {
     "data": {
      "text/plain": [
       "[None]"
      ]
     },
     "execution_count": 20,
     "metadata": {},
     "output_type": "execute_result"
    }
   ],
   "source": [
    "numbers = range(10)\n",
    "[print(value for value in numbers)]"
   ]
  },
  {
   "cell_type": "markdown",
   "metadata": {},
   "source": [
    "Again, this does things even if you don't assign the list to a variable, for this is better a normal for loop"
   ]
  },
  {
   "cell_type": "code",
   "execution_count": 21,
   "metadata": {},
   "outputs": [
    {
     "name": "stdout",
     "output_type": "stream",
     "text": [
      "0\n",
      "1\n",
      "2\n",
      "3\n",
      "4\n",
      "5\n",
      "6\n",
      "7\n",
      "8\n",
      "9\n"
     ]
    }
   ],
   "source": [
    "numbers = range(10)\n",
    "for value in numbers:\n",
    "    print(value)"
   ]
  },
  {
   "cell_type": "markdown",
   "metadata": {},
   "source": [
    "#### Replacing built-ins"
   ]
  },
  {
   "cell_type": "code",
   "execution_count": 23,
   "metadata": {},
   "outputs": [
    {
     "name": "stdout",
     "output_type": "stream",
     "text": [
      "range(0, 10)\n",
      "[0, 1, 2, 3, 4, 5, 6, 7, 8, 9]\n"
     ]
    }
   ],
   "source": [
    "numbers = range(10)\n",
    "print(numbers)\n",
    "my_list = [value for value in numbers]\n",
    "print(my_list)"
   ]
  },
  {
   "cell_type": "markdown",
   "metadata": {},
   "source": [
    "This looks like a perfect list but the code is equivalent to `list`"
   ]
  },
  {
   "cell_type": "code",
   "execution_count": 24,
   "metadata": {},
   "outputs": [
    {
     "name": "stdout",
     "output_type": "stream",
     "text": [
      "[0, 1, 2, 3, 4, 5, 6, 7, 8, 9]\n"
     ]
    }
   ],
   "source": [
    "my_other_list = list(numbers)\n",
    "print(my_other_list)"
   ]
  },
  {
   "cell_type": "markdown",
   "metadata": {},
   "source": [
    "Another built-in you may end up reinventing is `reversed`."
   ]
  },
  {
   "cell_type": "markdown",
   "metadata": {},
   "source": [
    "## Sequence indexing"
   ]
  },
  {
   "cell_type": "markdown",
   "metadata": {},
   "source": [
    "### Introduction"
   ]
  },
  {
   "cell_type": "markdown",
   "metadata": {},
   "source": [
    "This is using integers to index linear sequences. \n",
    "\n",
    "A very simple example is a string. \n",
    "\n",
    "To index a specific character we use square brackets. Python is 0-indexed, so the first character is at index 0."
   ]
  },
  {
   "cell_type": "code",
   "execution_count": 3,
   "metadata": {},
   "outputs": [
    {
     "name": "stdout",
     "output_type": "stream",
     "text": [
      "I\n",
      "n\n"
     ]
    }
   ],
   "source": [
    "s = \"Indexing is easy!\"\n",
    "print(s[0])\n",
    "print(s[1])"
   ]
  },
  {
   "cell_type": "markdown",
   "metadata": {},
   "source": [
    "### Maximum legal index and index errors"
   ]
  },
  {
   "cell_type": "markdown",
   "metadata": {},
   "source": [
    "Because indices start at 0, the maximum legal index is the length of the sequence minus 1."
   ]
  },
  {
   "cell_type": "code",
   "execution_count": 6,
   "metadata": {},
   "outputs": [
    {
     "name": "stdout",
     "output_type": "stream",
     "text": [
      "17\n",
      "!\n"
     ]
    },
    {
     "ename": "IndexError",
     "evalue": "string index out of range",
     "output_type": "error",
     "traceback": [
      "\u001b[0;31m---------------------------------------------------------------------------\u001b[0m",
      "\u001b[0;31mIndexError\u001b[0m                                Traceback (most recent call last)",
      "Cell \u001b[0;32mIn[6], line 4\u001b[0m\n\u001b[1;32m      2\u001b[0m \u001b[38;5;28mprint\u001b[39m(\u001b[38;5;28mlen\u001b[39m(s))\n\u001b[1;32m      3\u001b[0m \u001b[38;5;28mprint\u001b[39m(s[\u001b[38;5;241m16\u001b[39m])\n\u001b[0;32m----> 4\u001b[0m \u001b[38;5;28mprint\u001b[39m(\u001b[43ms\u001b[49m\u001b[43m[\u001b[49m\u001b[38;5;241;43m17\u001b[39;49m\u001b[43m]\u001b[49m)  \u001b[38;5;66;03m# This will raise an IndexError\u001b[39;00m\n",
      "\u001b[0;31mIndexError\u001b[0m: string index out of range"
     ]
    }
   ],
   "source": [
    "s = \"Indexing is easy!\"\n",
    "print(len(s))\n",
    "print(s[16])\n",
    "print(s[17])  # This will raise an IndexError"
   ]
  },
  {
   "cell_type": "markdown",
   "metadata": {},
   "source": [
    "### Negative indices"
   ]
  },
  {
   "cell_type": "markdown",
   "metadata": {},
   "source": [
    "If the last legal index is the length minus 1, then there is an obvious way to access the last element."
   ]
  },
  {
   "cell_type": "code",
   "execution_count": 9,
   "metadata": {},
   "outputs": [
    {
     "name": "stdout",
     "output_type": "stream",
     "text": [
      "!\n"
     ]
    }
   ],
   "source": [
    "s = \"Indexing is easy!\"\n",
    "print(s[len(s)-1])"
   ]
  },
  {
   "cell_type": "markdown",
   "metadata": {},
   "source": [
    "However, Python provides this feature where you can use negative indices to count from the end of the sequence. Thik about writing the sequence to the left of itself:\n",
    " \n",
    "|e |a |s |y |! |I|n|d|e|x|i|n|g| |i|\n",
    "|- |- |- |- |- |-|-|-|-|-|-|-|-|-|-|\n",
    "|-5|-4|-3|-2|-1|0|1|2|3|4|5|6|7|8|9|\n",
    "\n",
    "From this figure we can see that the index -1 refers to the last element, -2 to the second last, and so on."
   ]
  },
  {
   "cell_type": "code",
   "execution_count": 10,
   "metadata": {},
   "outputs": [
    {
     "name": "stdout",
     "output_type": "stream",
     "text": [
      "!\n",
      "y\n"
     ]
    }
   ],
   "source": [
    "s = \"Indexing is easy!\"\n",
    "print(s[-1])\n",
    "print(s[-2])"
   ]
  },
  {
   "cell_type": "markdown",
   "metadata": {},
   "source": [
    "Nother way to look at negative indices is to pretend there's a `len(s)` to their left."
   ]
  },
  {
   "cell_type": "code",
   "execution_count": 13,
   "metadata": {},
   "outputs": [
    {
     "name": "stdout",
     "output_type": "stream",
     "text": [
      "!\n",
      "!\n",
      "e\n",
      "e\n"
     ]
    }
   ],
   "source": [
    "s = \"Indexing is easy!\"\n",
    "\n",
    "print(s[len(s)-1])\n",
    "print(s[-1])\n",
    "\n",
    "print(s[len(s)-5])\n",
    "print(s[-5])"
   ]
  },
  {
   "cell_type": "markdown",
   "metadata": {},
   "source": [
    "### Indexing idioms"
   ]
  },
  {
   "cell_type": "markdown",
   "metadata": {},
   "source": [
    "Having seen the basic syntax for indexinf, there are a coupe of indices that would be helpful if you were able to read them immediatly for what they are, without having to think about them:"
   ]
  },
  {
   "cell_type": "code",
   "execution_count": null,
   "metadata": {},
   "outputs": [],
   "source": [
    "s = \"Indexing is easy!\"\n",
    "s[0]  # First element of s\n",
    "s[1]  # Second element of s\n",
    "s[-1]  # Last element of s\n",
    "s[-2]  # Second-to-last element of s"
   ]
  },
  {
   "cell_type": "markdown",
   "metadata": {},
   "source": [
    "### To index or not to index?"
   ]
  },
  {
   "cell_type": "markdown",
   "metadata": {},
   "source": [
    "Strings, lists and tuples are indexable with integers. Sets and dictionaries are not.\n",
    "\n",
    "Be careful of thinhs that you think are like a list, but aren't. These include `enumerate`, `zip`, `map` and other objexts. None of these are indexable, none ofthes have a `len` value."
   ]
  },
  {
   "cell_type": "code",
   "execution_count": 17,
   "metadata": {},
   "outputs": [
    {
     "ename": "TypeError",
     "evalue": "'map' object is not subscriptable",
     "output_type": "error",
     "traceback": [
      "\u001b[0;31m---------------------------------------------------------------------------\u001b[0m",
      "\u001b[0;31mTypeError\u001b[0m                                 Traceback (most recent call last)",
      "Cell \u001b[0;32mIn[17], line 10\u001b[0m\n\u001b[1;32m      7\u001b[0m \u001b[38;5;66;03m# print(z[3])\u001b[39;00m\n\u001b[1;32m      9\u001b[0m m \u001b[38;5;241m=\u001b[39m \u001b[38;5;28mmap\u001b[39m(\u001b[38;5;28mstr\u001b[39m, numbers)\n\u001b[0;32m---> 10\u001b[0m \u001b[38;5;28mprint\u001b[39m(\u001b[43mm\u001b[49m\u001b[43m[\u001b[49m\u001b[38;5;241;43m3\u001b[39;49m\u001b[43m]\u001b[49m)\n",
      "\u001b[0;31mTypeError\u001b[0m: 'map' object is not subscriptable"
     ]
    }
   ],
   "source": [
    "numbers = [0, 1, 2, 3, 4, 5, 6, 7, 8, 9]\n",
    "\n",
    "e = enumerate(numbers)\n",
    "# print(e[3])\n",
    "\n",
    "z = zip(numbers)\n",
    "# print(z[3])\n",
    "\n",
    "m = map(str, numbers)\n",
    "# print(m[3])"
   ]
  },
  {
   "cell_type": "markdown",
   "metadata": {},
   "source": [
    "### Best practices in code"
   ]
  },
  {
   "cell_type": "markdown",
   "metadata": {},
   "source": [
    "#### A looping pattern with `range`"
   ]
  },
  {
   "cell_type": "markdown",
   "metadata": {},
   "source": [
    "Because of the way both `range` and `len` work, one can understand that `range(len(s))` will generate all the legal indices for `s`."
   ]
  },
  {
   "cell_type": "code",
   "execution_count": 19,
   "metadata": {},
   "outputs": [
    {
     "name": "stdout",
     "output_type": "stream",
     "text": [
      "[0, 1, 2, 3, 4, 5, 6, 7, 8, 9, 10, 11, 12, 13, 14, 15, 16]\n",
      "I\n",
      "!\n"
     ]
    }
   ],
   "source": [
    "s = \"Indexing is easy!\"\n",
    "print(list(range(len(s))))\n",
    "print(s[0])\n",
    "print(s[16])"
   ]
  },
  {
   "cell_type": "markdown",
   "metadata": {},
   "source": [
    "Thes can lead to an anti-pattern for beginners. To exemplify this, suppose we want to wrtie a program to find unique characters in a string. This is the anti patter:"
   ]
  },
  {
   "cell_type": "code",
   "execution_count": 23,
   "metadata": {},
   "outputs": [
    {
     "name": "stdout",
     "output_type": "stream",
     "text": [
      "['I', 'n', 'd', 'e', 'x', 'i', 'g', ' ', 's', 'a', 'y', '!']\n"
     ]
    }
   ],
   "source": [
    "s = \"Indexing is easy!\"\n",
    "uniques = []\n",
    "for index in range(len(s)):\n",
    "    if s[index] not in uniques:\n",
    "        uniques.append(s[index])\n",
    "\n",
    "print(uniques)"
   ]
  },
  {
   "cell_type": "markdown",
   "metadata": {},
   "source": [
    "The better soultion is to use a set for more efficient implementation:"
   ]
  },
  {
   "cell_type": "code",
   "execution_count": 22,
   "metadata": {},
   "outputs": [
    {
     "name": "stdout",
     "output_type": "stream",
     "text": [
      "{'!', 'd', 'x', 'y', 'e', 'a', 'n', 'I', 'i', ' ', 'g', 's'}\n"
     ]
    }
   ],
   "source": [
    "s = \"Indexing is easy!\"\n",
    "print(set(s))"
   ]
  },
  {
   "cell_type": "markdown",
   "metadata": {},
   "source": [
    "Another way to do it's not using range because of Python's slicing:"
   ]
  },
  {
   "cell_type": "code",
   "execution_count": 24,
   "metadata": {},
   "outputs": [
    {
     "name": "stdout",
     "output_type": "stream",
     "text": [
      "['I', 'n', 'd', 'e', 'x', 'i', 'g', ' ', 's', 'a', 'y', '!']\n"
     ]
    }
   ],
   "source": [
    "s = \"Indexing is easy!\"\n",
    "uniques = []\n",
    "for letter in s:\n",
    "    if letter not in uniques:\n",
    "        uniques.append(letter)\n",
    "\n",
    "print(uniques)"
   ]
  },
  {
   "cell_type": "markdown",
   "metadata": {},
   "source": [
    "If you care about the indices, then use:"
   ]
  },
  {
   "cell_type": "code",
   "execution_count": 27,
   "metadata": {},
   "outputs": [
    {
     "name": "stdout",
     "output_type": "stream",
     "text": [
      "[0, 1, 2, 3, 4, 5, 6, 7, 8, 9, 10, 11, 12, 13, 14, 15, 16]\n"
     ]
    }
   ],
   "source": [
    "s = \"Indexing is easy!\"\n",
    "print(list(range(len(s))))"
   ]
  },
  {
   "cell_type": "markdown",
   "metadata": {},
   "source": [
    "When you need to work with indices and values:"
   ]
  },
  {
   "cell_type": "code",
   "execution_count": 28,
   "metadata": {},
   "outputs": [
    {
     "name": "stdout",
     "output_type": "stream",
     "text": [
      "[(0, 'I'), (1, 'n'), (2, 'd'), (3, 'e'), (4, 'x'), (5, 'i'), (6, 'n'), (7, 'g'), (8, ' '), (9, 'i'), (10, 's'), (11, ' '), (12, 'e'), (13, 'a'), (14, 's'), (15, 'y'), (16, '!')]\n"
     ]
    }
   ],
   "source": [
    "s = \"Indexing is easy!\"\n",
    "print(list(enumerate(s)))"
   ]
  },
  {
   "cell_type": "markdown",
   "metadata": {},
   "source": [
    "#### Large expressions as indices"
   ]
  },
  {
   "cell_type": "markdown",
   "metadata": {},
   "source": [
    "When you are dealing with sequences and indices for those sequences, you may end up needing to perform some calculations to compute new indices. For example, you want the middle element of a string and you don't know about `//` yet:"
   ]
  },
  {
   "cell_type": "code",
   "execution_count": 35,
   "metadata": {},
   "outputs": [
    {
     "ename": "TypeError",
     "evalue": "string indices must be integers, not 'float'",
     "output_type": "error",
     "traceback": [
      "\u001b[0;31m---------------------------------------------------------------------------\u001b[0m",
      "\u001b[0;31mTypeError\u001b[0m                                 Traceback (most recent call last)",
      "Cell \u001b[0;32mIn[35], line 2\u001b[0m\n\u001b[1;32m      1\u001b[0m s \u001b[38;5;241m=\u001b[39m \u001b[38;5;124m\"\u001b[39m\u001b[38;5;124mIndexing is so easy!\u001b[39m\u001b[38;5;124m\"\u001b[39m\n\u001b[0;32m----> 2\u001b[0m \u001b[38;5;28mprint\u001b[39m(\u001b[43ms\u001b[49m\u001b[43m[\u001b[49m\u001b[38;5;28;43mlen\u001b[39;49m\u001b[43m(\u001b[49m\u001b[43ms\u001b[49m\u001b[43m)\u001b[49m\u001b[38;5;241;43m/\u001b[39;49m\u001b[38;5;241;43m2\u001b[39;49m\u001b[43m]\u001b[49m)\n",
      "\u001b[0;31mTypeError\u001b[0m: string indices must be integers, not 'float'"
     ]
    }
   ],
   "source": [
    "s = \"Indexing is so easy!\"\n",
    "print(s[len(s)/2])"
   ]
  },
  {
   "cell_type": "code",
   "execution_count": 34,
   "metadata": {},
   "outputs": [
    {
     "name": "stdout",
     "output_type": "stream",
     "text": [
      "s\n",
      "s\n"
     ]
    }
   ],
   "source": [
    "import math\n",
    "s = \"Indexing is so easy!\"\n",
    "print(s[math.floor(len(s)/2)])\n",
    "print(s[len(s)//2])  # Pro-tip: the operation // is ideal here"
   ]
  },
  {
   "cell_type": "markdown",
   "metadata": {},
   "source": [
    "Another alternative is to create a well-named variable to hold the result of the computation:"
   ]
  },
  {
   "cell_type": "code",
   "execution_count": 36,
   "metadata": {},
   "outputs": [
    {
     "name": "stdout",
     "output_type": "stream",
     "text": [
      "s\n"
     ]
    }
   ],
   "source": [
    "import math\n",
    "s = \"Indexing is so easy!\"\n",
    "mid_char_idx = math.floor(len(s)/2)\n",
    "print(s[mid_char_idx])"
   ]
  },
  {
   "cell_type": "markdown",
   "metadata": {},
   "source": [
    "If you have large expressions to compute indices, consider using an intermediate variable with a descriptive name."
   ]
  },
  {
   "cell_type": "markdown",
   "metadata": {},
   "source": [
    "#### Unpacking with indexing"
   ]
  },
  {
   "cell_type": "markdown",
   "metadata": {},
   "source": [
    "You will find yourself often working with small groups of data, for example pairs of things that you keep together in a small list. For example:"
   ]
  },
  {
   "cell_type": "code",
   "execution_count": 39,
   "metadata": {},
   "outputs": [
    {
     "name": "stdout",
     "output_type": "stream",
     "text": [
      "Hello Miss Doe,\n",
      "Hey there Mary,\n"
     ]
    }
   ],
   "source": [
    "names = [\"Mary\", \"Doe\"]\n",
    "\n",
    "def greet(names, formal):\n",
    "    if formal:\n",
    "        print(f\"Hello Miss {names[1]}\")\n",
    "    else:\n",
    "        print(f\"Hey there {names[0]}\")\n",
    "\n",
    "greet(names, True)\n",
    "greet(names, False)"
   ]
  },
  {
   "cell_type": "markdown",
   "metadata": {},
   "source": [
    "You might consider unpacking the `names`before reach the if statement:"
   ]
  },
  {
   "cell_type": "code",
   "execution_count": 40,
   "metadata": {},
   "outputs": [
    {
     "name": "stdout",
     "output_type": "stream",
     "text": [
      "Hello Miss Doe\n",
      "Hey there Mary\n"
     ]
    }
   ],
   "source": [
    "names = [\"Mary\", \"Doe\"]\n",
    "\n",
    "def greet(names, formal):\n",
    "    first, last = names\n",
    "    if formal:\n",
    "        print(f\"Hello Miss {last}\")\n",
    "    else:\n",
    "        print(f\"Hey there {first}\")\n",
    "\n",
    "greet(names, True)\n",
    "greet(names, False)"
   ]
  },
  {
   "cell_type": "markdown",
   "metadata": {},
   "source": [
    "This makes the intent of the code much more obvious. Just from looking at the function first line we know `names` is supposed to be a pair of names. This forces your greet function to expect a pair of names."
   ]
  },
  {
   "cell_type": "code",
   "execution_count": 43,
   "metadata": {},
   "outputs": [
    {
     "ename": "ValueError",
     "evalue": "too many values to unpack (expected 2)",
     "output_type": "error",
     "traceback": [
      "\u001b[0;31m---------------------------------------------------------------------------\u001b[0m",
      "\u001b[0;31mValueError\u001b[0m                                Traceback (most recent call last)",
      "Cell \u001b[0;32mIn[43], line 11\u001b[0m\n\u001b[1;32m      8\u001b[0m         \u001b[38;5;28mprint\u001b[39m(\u001b[38;5;124mf\u001b[39m\u001b[38;5;124m\"\u001b[39m\u001b[38;5;124mHey there \u001b[39m\u001b[38;5;132;01m{\u001b[39;00mfirst\u001b[38;5;132;01m}\u001b[39;00m\u001b[38;5;124m\"\u001b[39m)\n\u001b[1;32m     10\u001b[0m \u001b[38;5;66;03m# greet(names, True)\u001b[39;00m\n\u001b[0;32m---> 11\u001b[0m \u001b[43mgreet\u001b[49m\u001b[43m(\u001b[49m\u001b[38;5;124;43m\"\u001b[39;49m\u001b[38;5;124;43mMary\u001b[39;49m\u001b[38;5;124;43m\"\u001b[39;49m\u001b[43m,\u001b[49m\u001b[43m \u001b[49m\u001b[38;5;28;43;01mFalse\u001b[39;49;00m\u001b[43m)\u001b[49m\n",
      "Cell \u001b[0;32mIn[43], line 4\u001b[0m, in \u001b[0;36mgreet\u001b[0;34m(names, formal)\u001b[0m\n\u001b[1;32m      3\u001b[0m \u001b[38;5;28;01mdef\u001b[39;00m \u001b[38;5;21mgreet\u001b[39m(names, formal):\n\u001b[0;32m----> 4\u001b[0m     first, last \u001b[38;5;241m=\u001b[39m names\n\u001b[1;32m      5\u001b[0m     \u001b[38;5;28;01mif\u001b[39;00m formal:\n\u001b[1;32m      6\u001b[0m         \u001b[38;5;28mprint\u001b[39m(\u001b[38;5;124mf\u001b[39m\u001b[38;5;124m\"\u001b[39m\u001b[38;5;124mHello Miss \u001b[39m\u001b[38;5;132;01m{\u001b[39;00mlast\u001b[38;5;132;01m}\u001b[39;00m\u001b[38;5;124m\"\u001b[39m)\n",
      "\u001b[0;31mValueError\u001b[0m: too many values to unpack (expected 2)"
     ]
    }
   ],
   "source": [
    "names = [\"Mary\", \"Doe\", \"Jane\"]\n",
    "\n",
    "def greet(names, formal):\n",
    "    first, last = names\n",
    "    if formal:\n",
    "        print(f\"Hello Miss {last}\")\n",
    "    else:\n",
    "        print(f\"Hey there {first}\")\n",
    "\n",
    "# greet(names, True)\n",
    "greet(\"Mary\", False)"
   ]
  },
  {
   "cell_type": "markdown",
   "metadata": {},
   "source": [
    "## Idiomatic sequence slicing"
   ]
  },
  {
   "cell_type": "markdown",
   "metadata": {},
   "source": [
    "### Introduction"
   ]
  },
  {
   "cell_type": "markdown",
   "metadata": {},
   "source": [
    "Slicing is a \"more advanced\" way f accessing portions of sequences"
   ]
  }
 ],
 "metadata": {
  "kernelspec": {
   "display_name": "venv",
   "language": "python",
   "name": "python3"
  },
  "language_info": {
   "codemirror_mode": {
    "name": "ipython",
    "version": 3
   },
   "file_extension": ".py",
   "mimetype": "text/x-python",
   "name": "python",
   "nbconvert_exporter": "python",
   "pygments_lexer": "ipython3",
   "version": "3.12.2"
  }
 },
 "nbformat": 4,
 "nbformat_minor": 2
}
