{
 "cells": [
  {
   "cell_type": "markdown",
   "metadata": {},
   "source": [
    "## Zip up"
   ]
  },
  {
   "cell_type": "markdown",
   "metadata": {},
   "source": [
    "### How zip works"
   ]
  },
  {
   "cell_type": "markdown",
   "metadata": {},
   "source": [
    "In a simple for loop we have an iterator `it`"
   ]
  },
  {
   "cell_type": "code",
   "execution_count": 45,
   "metadata": {},
   "outputs": [
    {
     "name": "stdout",
     "output_type": "stream",
     "text": [
      "0\n",
      "1\n",
      "2\n",
      "3\n",
      "4\n"
     ]
    }
   ],
   "source": [
    "it = range(5)\n",
    "for element in it:\n",
    "    print(element)"
   ]
  },
  {
   "cell_type": "markdown",
   "metadata": {},
   "source": [
    "An \"iterator\" is something that can be traversed linearly, like a list or a string.\n",
    "\n",
    "Sometimes you will have two iterators with related information  and we need to loop over those iterators to do something. Check this example:"
   ]
  },
  {
   "cell_type": "code",
   "execution_count": 46,
   "metadata": {},
   "outputs": [
    {
     "name": "stdout",
     "output_type": "stream",
     "text": [
      "John Doe\n",
      "Jane Smith\n",
      "Jack Johnson\n"
     ]
    }
   ],
   "source": [
    "firsts = [\"John\", \"Jane\", \"Jack\"]\n",
    "lasts = [\"Doe\", \"Smith\", \"Johnson\"]\n",
    "\n",
    "for i in range(len(firsts)):\n",
    "    print(f\"{firsts[i]} {lasts[i]}\")"
   ]
  },
  {
   "cell_type": "markdown",
   "metadata": {},
   "source": [
    "This is what `zip` is for: use a pair up iterables that you want to traverse at the same time."
   ]
  },
  {
   "cell_type": "code",
   "execution_count": 47,
   "metadata": {},
   "outputs": [
    {
     "name": "stdout",
     "output_type": "stream",
     "text": [
      "John Doe\n",
      "Jane Smith\n",
      "Jack Johnson\n"
     ]
    }
   ],
   "source": [
    "firsts = [\"John\", \"Jane\", \"Jack\"]\n",
    "lasts = [\"Doe\", \"Smith\", \"Johnson\"]\n",
    "\n",
    "for first, last in zip(firsts, lasts):\n",
    "    print(f\"{first} {last}\")"
   ]
  },
  {
   "cell_type": "markdown",
   "metadata": {},
   "source": [
    "We are doing an unpacking assignment because zip actually returns tuples."
   ]
  },
  {
   "cell_type": "code",
   "execution_count": 48,
   "metadata": {},
   "outputs": [
    {
     "name": "stdout",
     "output_type": "stream",
     "text": [
      "('John', 'Doe')\n",
      "('Jane', 'Smith')\n",
      "('Jack', 'Johnson')\n"
     ]
    }
   ],
   "source": [
    "firsts = [\"John\", \"Jane\", \"Jack\"]\n",
    "lasts = [\"Doe\", \"Smith\", \"Johnson\"]\n",
    "\n",
    "for z in zip(firsts, lasts):\n",
    "    print(z)"
   ]
  },
  {
   "cell_type": "markdown",
   "metadata": {},
   "source": [
    "### Zip is lazy"
   ]
  },
  {
   "cell_type": "markdown",
   "metadata": {},
   "source": [
    "`zip` does not create tuples immediatly. `zip` is lazy, meaning it generates tuples on the fly when you iterate over it, for example when you iterate over them in a `for` loop or when you convert it to a list."
   ]
  },
  {
   "cell_type": "code",
   "execution_count": 49,
   "metadata": {},
   "outputs": [
    {
     "name": "stdout",
     "output_type": "stream",
     "text": [
      "<zip object at 0x10a5e47c0>\n",
      "[('John', 'Doe'), ('Jane', 'Smith'), ('Jack', 'Johnson')]\n"
     ]
    }
   ],
   "source": [
    "firsts = [\"John\", \"Jane\", \"Jack\"]\n",
    "lasts = [\"Doe\", \"Smith\", \"Johnson\", \"Davis\"]\n",
    "z = zip(firsts, lasts)\n",
    "print(z)\n",
    "print(list(z))"
   ]
  },
  {
   "cell_type": "markdown",
   "metadata": {},
   "source": [
    "`zip` being lazy means that by itself is not that similar to a list. For example, you cannot ask for the length of a zip object."
   ]
  },
  {
   "cell_type": "code",
   "execution_count": 50,
   "metadata": {},
   "outputs": [
    {
     "ename": "TypeError",
     "evalue": "object of type 'zip' has no len()",
     "output_type": "error",
     "traceback": [
      "\u001b[0;31m---------------------------------------------------------------------------\u001b[0m",
      "\u001b[0;31mTypeError\u001b[0m                                 Traceback (most recent call last)",
      "Cell \u001b[0;32mIn[50], line 1\u001b[0m\n\u001b[0;32m----> 1\u001b[0m \u001b[38;5;28;43mlen\u001b[39;49m\u001b[43m(\u001b[49m\u001b[43mz\u001b[49m\u001b[43m)\u001b[49m\n",
      "\u001b[0;31mTypeError\u001b[0m: object of type 'zip' has no len()"
     ]
    }
   ],
   "source": [
    "len(z)"
   ]
  },
  {
   "cell_type": "markdown",
   "metadata": {},
   "source": [
    "### Three is a crowd"
   ]
  },
  {
   "cell_type": "markdown",
   "metadata": {},
   "source": [
    "`zip` can take three or more iterables and return a tuple of the same length as the shortest iterable."
   ]
  },
  {
   "cell_type": "code",
   "execution_count": 11,
   "metadata": {},
   "outputs": [
    {
     "name": "stdout",
     "output_type": "stream",
     "text": [
      "('John', 'Z.', 'Doe')\n",
      "('Jane', 'A.', 'Smith')\n",
      "('Jack', 'C.', 'Johnson')\n"
     ]
    }
   ],
   "source": [
    "firsts = [\"John\", \"Jane\", \"Jack\"]\n",
    "middles = [\"Z.\", \"A.\", \"C.\"]\n",
    "lasts = [\"Doe\", \"Smith\", \"Johnson\"]\n",
    "\n",
    "for z in zip(firsts, middles, lasts):\n",
    "    print(z)"
   ]
  },
  {
   "cell_type": "markdown",
   "metadata": {},
   "source": [
    "### Mismatched lengths"
   ]
  },
  {
   "cell_type": "markdown",
   "metadata": {},
   "source": [
    "If `zip`'s arguments have different lengths, it will stop as soon as it hits the end of the shortest iterable."
   ]
  },
  {
   "cell_type": "code",
   "execution_count": null,
   "metadata": {},
   "outputs": [],
   "source": [
    "firsts = [\"John\", \"Jane\", \"Jack\"]\n",
    "lasts = [\"Doe\", \"Smith\"]\n",
    "\n",
    "for z in zip(firsts, lasts):\n",
    "    print(z)"
   ]
  },
  {
   "cell_type": "markdown",
   "metadata": {},
   "source": [
    "Starting with Python 3.10, `zip` will be able to receive a keyword argument `strict` to error out if the iterables have different lengths."
   ]
  },
  {
   "cell_type": "code",
   "execution_count": 8,
   "metadata": {},
   "outputs": [
    {
     "name": "stdout",
     "output_type": "stream",
     "text": [
      "('John', 'Doe')\n",
      "('Jane', 'Smith')\n",
      "('Jack', 'Johnson')\n"
     ]
    },
    {
     "ename": "ValueError",
     "evalue": "zip() argument 2 is longer than argument 1",
     "output_type": "error",
     "traceback": [
      "\u001b[0;31m---------------------------------------------------------------------------\u001b[0m",
      "\u001b[0;31mValueError\u001b[0m                                Traceback (most recent call last)",
      "Cell \u001b[0;32mIn[8], line 4\u001b[0m\n\u001b[1;32m      1\u001b[0m firsts \u001b[38;5;241m=\u001b[39m [\u001b[38;5;124m\"\u001b[39m\u001b[38;5;124mJohn\u001b[39m\u001b[38;5;124m\"\u001b[39m, \u001b[38;5;124m\"\u001b[39m\u001b[38;5;124mJane\u001b[39m\u001b[38;5;124m\"\u001b[39m, \u001b[38;5;124m\"\u001b[39m\u001b[38;5;124mJack\u001b[39m\u001b[38;5;124m\"\u001b[39m]\n\u001b[1;32m      2\u001b[0m lasts \u001b[38;5;241m=\u001b[39m [\u001b[38;5;124m\"\u001b[39m\u001b[38;5;124mDoe\u001b[39m\u001b[38;5;124m\"\u001b[39m, \u001b[38;5;124m\"\u001b[39m\u001b[38;5;124mSmith\u001b[39m\u001b[38;5;124m\"\u001b[39m, \u001b[38;5;124m\"\u001b[39m\u001b[38;5;124mJohnson\u001b[39m\u001b[38;5;124m\"\u001b[39m, \u001b[38;5;124m\"\u001b[39m\u001b[38;5;124mDavis\u001b[39m\u001b[38;5;124m\"\u001b[39m]\n\u001b[0;32m----> 4\u001b[0m \u001b[38;5;28;43;01mfor\u001b[39;49;00m\u001b[43m \u001b[49m\u001b[43mz\u001b[49m\u001b[43m \u001b[49m\u001b[38;5;129;43;01min\u001b[39;49;00m\u001b[43m \u001b[49m\u001b[38;5;28;43mzip\u001b[39;49m\u001b[43m(\u001b[49m\u001b[43mfirsts\u001b[49m\u001b[43m,\u001b[49m\u001b[43m \u001b[49m\u001b[43mlasts\u001b[49m\u001b[43m,\u001b[49m\u001b[43m \u001b[49m\u001b[43mstrict\u001b[49m\u001b[38;5;241;43m=\u001b[39;49m\u001b[38;5;28;43;01mTrue\u001b[39;49;00m\u001b[43m)\u001b[49m\u001b[43m:\u001b[49m\n\u001b[1;32m      5\u001b[0m \u001b[43m    \u001b[49m\u001b[38;5;28;43mprint\u001b[39;49m\u001b[43m(\u001b[49m\u001b[43mz\u001b[49m\u001b[43m)\u001b[49m\n",
      "\u001b[0;31mValueError\u001b[0m: zip() argument 2 is longer than argument 1"
     ]
    }
   ],
   "source": [
    "firsts = [\"John\", \"Jane\", \"Jack\"]\n",
    "lasts = [\"Doe\", \"Smith\", \"Johnson\", \"Davis\"]\n",
    "\n",
    "for z in zip(firsts, lasts, strict=True):\n",
    "    print(z)"
   ]
  },
  {
   "cell_type": "markdown",
   "metadata": {},
   "source": [
    "`zip` only errors when finds the length mismatch, not when it's about to start iterating over the longer iterable; this is because the arguments to `zip` are lazy iterators.\n",
    "\n",
    "In general, `zip` is used with iterators that are expected to have the same lenght.  If that is the case is a good idea to always set `strict=True` to catch bugs in your code."
   ]
  },
  {
   "cell_type": "markdown",
   "metadata": {},
   "source": [
    "### Create a dictionary with zip"
   ]
  },
  {
   "cell_type": "markdown",
   "metadata": {},
   "source": [
    "You can create dictionaries by feeding key-value pairs to the dict function, which means `zip` can be used to create dictionaries from two lists."
   ]
  },
  {
   "cell_type": "code",
   "execution_count": 15,
   "metadata": {},
   "outputs": [
    {
     "name": "stdout",
     "output_type": "stream",
     "text": [
      "{'John': 'Doe', 'Jane': 'Smith', 'Jack': 'Johnson'}\n"
     ]
    }
   ],
   "source": [
    "firsts = [\"John\", \"Jane\", \"Jack\"]\n",
    "lasts = [\"Doe\", \"Smith\", \"Johnson\"]\n",
    "\n",
    "dictionary = dict(zip(firsts, lasts))\n",
    "print(dictionary)"
   ]
  },
  {
   "cell_type": "markdown",
   "metadata": {},
   "source": [
    "## Enumerate me"
   ]
  },
  {
   "cell_type": "markdown",
   "metadata": {},
   "source": [
    "### How enumerate works"
   ]
  },
  {
   "cell_type": "markdown",
   "metadata": {},
   "source": [
    "Python newcomers are usually exposed to this type of `for` loop very early."
   ]
  },
  {
   "cell_type": "code",
   "execution_count": 16,
   "metadata": {},
   "outputs": [
    {
     "name": "stdout",
     "output_type": "stream",
     "text": [
      "0\n",
      "1\n",
      "2\n"
     ]
    }
   ],
   "source": [
    "for i in range(3):\n",
    "    print(i)"
   ]
  },
  {
   "cell_type": "markdown",
   "metadata": {},
   "source": [
    "This leads them to \"learning\" this anti-pattern of `for` loops to go over a list:"
   ]
  },
  {
   "cell_type": "code",
   "execution_count": 18,
   "metadata": {},
   "outputs": [
    {
     "name": "stdout",
     "output_type": "stream",
     "text": [
      "'apple' has 5 characters.\n",
      "'banana' has 6 characters.\n",
      "'cherry' has 6 characters.\n"
     ]
    }
   ],
   "source": [
    "words = [\"apple\", \"banana\", \"cherry\"]\n",
    "for i in range(len(words)):\n",
    "    print(f\"'{words[i]}' has {len(words[i])} characters.\")"
   ]
  },
  {
   "cell_type": "markdown",
   "metadata": {},
   "source": [
    "The pythonic way of writing such a loop is iterating directly over the list:"
   ]
  },
  {
   "cell_type": "code",
   "execution_count": 19,
   "metadata": {},
   "outputs": [
    {
     "name": "stdout",
     "output_type": "stream",
     "text": [
      "'apple' has 5 characters.\n",
      "'banana' has 6 characters.\n",
      "'cherry' has 6 characters.\n"
     ]
    }
   ],
   "source": [
    "words = [\"apple\", \"banana\", \"cherry\"]\n",
    "for word in words:\n",
    "    print(f\"'{word}' has {len(word)} characters.\")"
   ]
  },
  {
   "cell_type": "markdown",
   "metadata": {},
   "source": [
    "However, the final step in this indices vs elements comes when you need to know the index of each element as well. For this, `enumerate` is your friend."
   ]
  },
  {
   "cell_type": "code",
   "execution_count": 21,
   "metadata": {},
   "outputs": [
    {
     "name": "stdout",
     "output_type": "stream",
     "text": [
      "Word #0: 'apple' has 5 characters.\n",
      "Word #1: 'banana' has 6 characters.\n",
      "Word #2: 'cherry' has 6 characters.\n"
     ]
    }
   ],
   "source": [
    "words = [\"apple\", \"banana\", \"cherry\"]\n",
    "for i, word in enumerate(words):\n",
    "    print(f\"Word #{i}: '{word}' has {len(word)} characters.\")"
   ]
  },
  {
   "cell_type": "markdown",
   "metadata": {},
   "source": [
    "### Optional `start` argument"
   ]
  },
  {
   "cell_type": "markdown",
   "metadata": {},
   "source": [
    "The `enumerate` function can also accept an optional `start` argument. This argument specifies the starting index for the enumeration."
   ]
  },
  {
   "cell_type": "code",
   "execution_count": 22,
   "metadata": {},
   "outputs": [
    {
     "name": "stdout",
     "output_type": "stream",
     "text": [
      "Word #1: 'apple' has 5 characters.\n",
      "Word #2: 'banana' has 6 characters.\n",
      "Word #3: 'cherry' has 6 characters.\n"
     ]
    }
   ],
   "source": [
    "words = [\"apple\", \"banana\", \"cherry\"]\n",
    "for i, word in enumerate(words, start=1):\n",
    "    print(f\"Word #{i}: '{word}' has {len(word)} characters.\")"
   ]
  },
  {
   "cell_type": "markdown",
   "metadata": {},
   "source": [
    "This optional `start` argument is useful when you want to start the enumeration from a specific index.\n",
    "\n",
    "By the way, the argument has to be an integer but can be negative."
   ]
  },
  {
   "cell_type": "code",
   "execution_count": 23,
   "metadata": {},
   "outputs": [
    {
     "name": "stdout",
     "output_type": "stream",
     "text": [
      "Index: -4000, Value: a\n",
      "Index: -3999, Value: b\n",
      "Index: -3998, Value: c\n"
     ]
    }
   ],
   "source": [
    "for i, v in enumerate(\"abc\", start=-4000):\n",
    "    print(f\"Index: {i}, Value: {v}\")"
   ]
  },
  {
   "cell_type": "markdown",
   "metadata": {},
   "source": [
    "### Unpacking when iterating"
   ]
  },
  {
   "cell_type": "markdown",
   "metadata": {},
   "source": [
    "The `enumerate` function returns a lazy iterator, which means the items you iterate only become available as you need them. This can be useful when you want to process large amounts of data without consuming too much memory.\n",
    "\n",
    "The items that `enumerate` returns are tuples, where the first element is the index and the second element is the value."
   ]
  },
  {
   "cell_type": "code",
   "execution_count": 24,
   "metadata": {},
   "outputs": [
    {
     "name": "stdout",
     "output_type": "stream",
     "text": [
      "(0, 'a')\n",
      "(1, 'b')\n",
      "(2, 'c')\n"
     ]
    }
   ],
   "source": [
    "for tuple in enumerate(\"abc\"):\n",
    "    print(tuple)"
   ]
  },
  {
   "cell_type": "markdown",
   "metadata": {},
   "source": [
    "### Deep unpacking"
   ]
  },
  {
   "cell_type": "markdown",
   "metadata": {},
   "source": [
    "Things can get more interesting when you use `enumerate`, for example, on a `zip`:"
   ]
  },
  {
   "cell_type": "code",
   "execution_count": null,
   "metadata": {},
   "outputs": [
    {
     "name": "stdout",
     "output_type": "stream",
     "text": [
      "[17, 32, 50]\n",
      "Chapter 1: 12 pages long. 5 17\n",
      "[17, 32, 50]\n",
      "Chapter 2: 15 pages long. 17 32\n",
      "[17, 32, 50]\n",
      "Chapter 3: 18 pages long. 32 50\n",
      "[17, 32, 50]\n"
     ]
    }
   ],
   "source": [
    "pages = [5, 17, 32, 50]\n",
    "for i, (start, end) in enumerate(zip(pages, pages[1:]), start=1):\n",
    "    print(f\"Chapter {i}: {end - start} pages long. {start} {end}\") \n"
   ]
  },
  {
   "cell_type": "markdown",
   "metadata": {},
   "source": [
    "This snippet takes a list of pages where chapters of a book start and prints the length of each chapter. Notice how `enumerate` returns tuples with indices and values, but those values are extracted from a `zip`, which iteself returns tuples.\n",
    "\n",
    "We use deep unpacking to access all the values directly."
   ]
  },
  {
   "cell_type": "markdown",
   "metadata": {},
   "source": [
    "## Chaining comparison operators"
   ]
  },
  {
   "cell_type": "markdown",
   "metadata": {},
   "source": [
    "### Chaining of comparison operators"
   ]
  },
  {
   "cell_type": "markdown",
   "metadata": {},
   "source": [
    "One excelent feature of Python is its ability to chain comparison operators. This can make your code more readable and easier to understand. Check this snippet that looks natural:"
   ]
  },
  {
   "cell_type": "code",
   "execution_count": 26,
   "metadata": {},
   "outputs": [
    {
     "name": "stdout",
     "output_type": "stream",
     "text": [
      "The numbers are in ascending order.\n"
     ]
    }
   ],
   "source": [
    "a = 1\n",
    "b = 2\n",
    "c = 3\n",
    "if a < b < c:\n",
    "    print(\"The numbers are in ascending order.\")"
   ]
  },
  {
   "cell_type": "markdown",
   "metadata": {},
   "source": [
    "When Python sees two comparisons in a row, like `a < b < c`, it behaves as if you wrote `a < b and b < c`, except that `b` is only evaluated once (which is relevant if `b` is an expression like a function call).\n",
    "\n",
    "Another example usage is for when you want to make sure that three values are the same:"
   ]
  },
  {
   "cell_type": "code",
   "execution_count": 29,
   "metadata": {},
   "outputs": [
    {
     "name": "stdout",
     "output_type": "stream",
     "text": [
      "The numbers are different.\n"
     ]
    }
   ],
   "source": [
    "a = b = 1\n",
    "c = 2\n",
    "\n",
    "if a == b == c:\n",
    "    print(\"The numbers are the same.\")\n",
    "else:\n",
    "    print(\"The numbers are different.\")"
   ]
  },
  {
   "cell_type": "markdown",
   "metadata": {},
   "source": [
    "You can chain any arbitrary number of comparison operators. For example `a < b < c < d` would check if `a < b`, `b < c`, and `c < d`."
   ]
  },
  {
   "cell_type": "markdown",
   "metadata": {},
   "source": [
    "### Pitfalls"
   ]
  },
  {
   "cell_type": "markdown",
   "metadata": {},
   "source": [
    "#### Non-transitive operators"
   ]
  },
  {
   "cell_type": "markdown",
   "metadata": {},
   "source": [
    "We can use `a == b == c` to check if three variables are equal, but this won't work for non-transitive operators like `!=` or `<>`."
   ]
  },
  {
   "cell_type": "code",
   "execution_count": 30,
   "metadata": {},
   "outputs": [
    {
     "name": "stdout",
     "output_type": "stream",
     "text": [
      "a, b, and c all diferent: 1 2 1\n"
     ]
    }
   ],
   "source": [
    "a = c = 1\n",
    "b = 2\n",
    "\n",
    "if a != b != c:\n",
    "    print(\"a, b, and c all diferent:\", a, b, c)"
   ]
  },
  {
   "cell_type": "markdown",
   "metadata": {},
   "source": [
    "The problem is that the check is `a != b` and `b!= c`, which checks that `b` is different from both `a` and `c`, but says nothing about whether `a` is different from `c`.\n",
    "\n",
    "This is because `!=` is a non-transitive operator, i.e., knowing how `a` relates to `b` and knowing how `b` relates to `c` doesn't tell you anything about how `a` relates to `c`."
   ]
  },
  {
   "cell_type": "markdown",
   "metadata": {},
   "source": [
    "#### Non-constant expressions or side-effects"
   ]
  },
  {
   "cell_type": "markdown",
   "metadata": {},
   "source": [
    "Chaining comparisons like `a < b < c` evaluates `b` only once.\n",
    "\n",
    "If `b` contains an expression with side-effects or if it's something that is not a constant, then the two expressions are not equivalent. Check this example which the element in the middle gets evaluated only once:"
   ]
  },
  {
   "cell_type": "code",
   "execution_count": 10,
   "metadata": {},
   "outputs": [
    {
     "name": "stdout",
     "output_type": "stream",
     "text": [
      "hey\n",
      "done\n"
     ]
    }
   ],
   "source": [
    "def f():\n",
    "    print(\"hey\")\n",
    "    return 3\n",
    "\n",
    "if 1 < f() < 5:\n",
    "    print(\"done\")"
   ]
  },
  {
   "cell_type": "markdown",
   "metadata": {},
   "source": [
    "Just to corroborate, that this will get evaluate `f()` twice:"
   ]
  },
  {
   "cell_type": "code",
   "execution_count": 11,
   "metadata": {},
   "outputs": [
    {
     "name": "stdout",
     "output_type": "stream",
     "text": [
      "hey\n",
      "hey\n",
      "done\n"
     ]
    }
   ],
   "source": [
    "if 1 < f() and f() < 5:\n",
    "    print(\"done\")"
   ]
  },
  {
   "cell_type": "markdown",
   "metadata": {},
   "source": [
    "This snippet shows that an expression like `1 < f() < 0` can actually evaluate to `True` when its unfolded:"
   ]
  },
  {
   "cell_type": "code",
   "execution_count": 16,
   "metadata": {},
   "outputs": [
    {
     "name": "stdout",
     "output_type": "stream",
     "text": [
      "ehh 2\n"
     ]
    }
   ],
   "source": [
    "l = [-2, 2]\n",
    "\n",
    "def f():\n",
    "    global l\n",
    "    l = l[::-1]  # Reverse the list\n",
    "    return l[0]\n",
    "\n",
    "# evaluated once f() = 2\n",
    "# if 1 < f() < 0:\n",
    "#     print(\"ehh\")  # Never gets printed\n",
    "\n",
    "# evaluated twice: first time f() = 2, second time f() = -2\n",
    "if 1 < f() and f() < 0:\n",
    "    print(\"ehh 2\")  # gets printed"
   ]
  },
  {
   "cell_type": "markdown",
   "metadata": {},
   "source": [
    "#### Ugly chains"
   ]
  },
  {
   "cell_type": "markdown",
   "metadata": {},
   "source": [
    "This feature looks neat, but some chains where operatos are not aligned look very ugly, so thes chains look good:"
   ]
  },
  {
   "cell_type": "code",
   "execution_count": null,
   "metadata": {},
   "outputs": [],
   "source": [
    "a == b == c\n",
    "a < b <= c\n",
    "a <= b < c"
   ]
  },
  {
   "cell_type": "markdown",
   "metadata": {},
   "source": [
    "but this chains look really ugly:"
   ]
  },
  {
   "cell_type": "code",
   "execution_count": null,
   "metadata": {},
   "outputs": [],
   "source": [
    "a < b > c   # it's better to use b > max(a, c), it's more readable and easier to understand\n",
    "a <= b > c\n",
    "a < b >= c"
   ]
  },
  {
   "cell_type": "markdown",
   "metadata": {},
   "source": [
    "Now there are some other chains that are just confusing:"
   ]
  },
  {
   "cell_type": "code",
   "execution_count": null,
   "metadata": {},
   "outputs": [],
   "source": [
    "lst = []\n",
    "a < b is True\n",
    "a == b in lst\n",
    "a in lst is True"
   ]
  },
  {
   "cell_type": "markdown",
   "metadata": {},
   "source": [
    "In Python, `is`, `is not`, `in` and `not in` are comparison operators, so you can also chain them. But this creates weird situations like"
   ]
  },
  {
   "cell_type": "code",
   "execution_count": null,
   "metadata": {},
   "outputs": [
    {
     "name": "stdout",
     "output_type": "stream",
     "text": [
      "is True\n"
     ]
    }
   ],
   "source": [
    "a = 3\n",
    "lst = [3, 5]\n",
    "if a in lst == True:\n",
    "    print(\"is True\")\n",
    "else:\n",
    "    print(\"is False\")"
   ]
  },
  {
   "cell_type": "markdown",
   "metadata": {},
   "source": [
    "Here is a break down of what this does:\n",
    "- `a in lst == True` is equivalent to `a in lst` and `lst == True`\n",
    "- `a in lst` is `True`, but\n",
    "- `lst == True` is `False`, so\n",
    "-  `a in lst == True` unfolds to `True and False`, which is `False`"
   ]
  },
  {
   "cell_type": "markdown",
   "metadata": {},
   "source": [
    "## Truthy, Falsy, and bool"
   ]
  },
  {
   "cell_type": "markdown",
   "metadata": {},
   "source": [
    "### \"Truthy\" and \"Falsy\""
   ]
  },
  {
   "cell_type": "markdown",
   "metadata": {},
   "source": [
    "Any object can be tested for truth value, for use in an `if` or `while` condition or as operand of the booleans operations `and`, `or`, and `not`."
   ]
  },
  {
   "cell_type": "code",
   "execution_count": 5,
   "metadata": {},
   "outputs": [
    {
     "data": {
      "text/plain": [
       "True"
      ]
     },
     "execution_count": 5,
     "metadata": {},
     "output_type": "execute_result"
    }
   ],
   "source": [
    "5 > 3"
   ]
  },
  {
   "cell_type": "markdown",
   "metadata": {},
   "source": [
    "The next step is using an object that is not boolean value, ex:"
   ]
  },
  {
   "cell_type": "code",
   "execution_count": 6,
   "metadata": {},
   "outputs": [
    {
     "name": "stdout",
     "output_type": "stream",
     "text": [
      "[1, 2, 3]\n"
     ]
    }
   ],
   "source": [
    "lst = [1, 2, 3]\n",
    "if lst:\n",
    "    print(lst)"
   ]
  },
  {
   "cell_type": "markdown",
   "metadata": {},
   "source": [
    "How can we now if an object is truthy or falsy? The answer is by using the built-in `bool` function."
   ]
  },
  {
   "cell_type": "code",
   "execution_count": 7,
   "metadata": {},
   "outputs": [
    {
     "data": {
      "text/plain": [
       "True"
      ]
     },
     "execution_count": 7,
     "metadata": {},
     "output_type": "execute_result"
    }
   ],
   "source": [
    "bool(lst)"
   ]
  },
  {
   "cell_type": "markdown",
   "metadata": {},
   "source": [
    "A value of a given type is Falsy when it is \"empty\" or \"without any useful value\". Examples of Falsy values are: empty list, empty string, empty tuple, empty set, empty dictionary, the number 0, the boolean value `False`, and `None`.\n",
    "- by defaault any object is Truthy\n",
    "- an object is Falsy if calling `len` on it returns `0`"
   ]
  },
  {
   "cell_type": "markdown",
   "metadata": {},
   "source": [
    "### The `__bool__` dunder method"
   ]
  },
  {
   "cell_type": "markdown",
   "metadata": {},
   "source": [
    "An object has a Falsy value if it defines a `__bool__` method that returns `False`.\n",
    "\n",
    "`__bool__` is a dunder method that you can use to tell your objects if they are considered \"truthy\" or \"falsy\", by implementing it in your class."
   ]
  },
  {
   "cell_type": "code",
   "execution_count": null,
   "metadata": {},
   "outputs": [
    {
     "name": "stdout",
     "output_type": "stream",
     "text": [
      "Go Away!\n"
     ]
    }
   ],
   "source": [
    "class A:\n",
    "    def __bool__(self):\n",
    "        return False\n",
    "    \n",
    "a = A()\n",
    "if a:\n",
    "    print(\"Go Away!\")"
   ]
  },
  {
   "cell_type": "markdown",
   "metadata": {},
   "source": [
    "When given an arbitrary Python object that needs to be tested fort a truth value, Python first tries to call `bool` on it, in an attempt to use its `__bool__` method.. If the object does not implement a `__bool__` method, then Python tries to call `len` on it. Finally, if that also fails, Python defaults to giving a Truthy value to the object."
   ]
  },
  {
   "cell_type": "markdown",
   "metadata": {},
   "source": [
    "### Remarks"
   ]
  },
  {
   "cell_type": "markdown",
   "metadata": {},
   "source": [
    "#### A note about containers with falsy objects"
   ]
  },
  {
   "cell_type": "markdown",
   "metadata": {},
   "source": [
    "Things like a list that only contains zeroes or a dictionary composed of zeroes and empty lists are not Falsy, because the containers themselves are not longer empty:"
   ]
  },
  {
   "cell_type": "code",
   "execution_count": 22,
   "metadata": {},
   "outputs": [
    {
     "name": "stdout",
     "output_type": "stream",
     "text": [
      "False\n",
      "False\n",
      "False\n",
      "True\n",
      "True\n"
     ]
    }
   ],
   "source": [
    "# These are false\n",
    "print(bool([]))\n",
    "print(bool({}))\n",
    "print(bool(0))\n",
    "\n",
    "# These are true\n",
    "print(bool([0]))\n",
    "print(bool({0: []}))"
   ]
  },
  {
   "cell_type": "markdown",
   "metadata": {},
   "source": [
    "#### A note about checking for `None`"
   ]
  },
  {
   "cell_type": "markdown",
   "metadata": {},
   "source": [
    "Imagine someone implemented the following function to return the integer square root of a number, returning `None` for negative inputs (because negative numbers don't have square roots). \n",
    "\n",
    "When you use this function, you know it returns `None` if the computation fails, so you might be tempted to use it like this:"
   ]
  },
  {
   "cell_type": "code",
   "execution_count": null,
   "metadata": {},
   "outputs": [
    {
     "name": "stdout",
     "output_type": "stream",
     "text": [
      "debug int_sqrt value:  0\n",
      "0\n"
     ]
    }
   ],
   "source": [
    "import math\n",
    "\n",
    "def int_square_root(n):\n",
    "    if n < 0:\n",
    "        return None\n",
    "    return math.floor(math.sqrt(n))\n",
    "\n",
    "n = int(input(\"Enter a number: \"))\n",
    "int_sqrt = int_square_root(n)\n",
    "\n",
    "print(\"debug int_sqrt value: \", int_sqrt)\n",
    "\n",
    "if not int_sqrt:\n",
    "    print(\"Negative numbers do not have an integer square root.\")\n",
    "else:\n",
    "    print(int_sqrt)"
   ]
  },
  {
   "cell_type": "markdown",
   "metadata": {},
   "source": [
    "The problem is that `int_square_root` returned  meaningful value which is `0`  but that value is still Falsy.\n",
    "\n",
    "So when you want to check fi a function returned `None` do not rely on the Truthy/Falsy value. Instead check explicitly if the returned value is `None`."
   ]
  },
  {
   "cell_type": "code",
   "execution_count": null,
   "metadata": {},
   "outputs": [],
   "source": [
    "returned = \"\"\n",
    "\n",
    "# Use\n",
    "if returned is None:\n",
    "    pass\n",
    "\n",
    "if returned is not None:\n",
    "    pass\n",
    "\n",
    "# Avoid\n",
    "if not returned:\n",
    "    pass\n",
    "\n",
    "if returned:\n",
    "    pass"
   ]
  },
  {
   "cell_type": "markdown",
   "metadata": {},
   "source": [
    "## Boolean short-circuiting"
   ]
  },
  {
   "cell_type": "markdown",
   "metadata": {},
   "source": [
    "### Return values of the `and` and `or` operators"
   ]
  },
  {
   "cell_type": "markdown",
   "metadata": {},
   "source": [
    "`x or y` returns `x` if `x` is `True`, otherwise it returns `y`. This is equivalent to the expression `(x or y) == (y if not x else x)`."
   ]
  },
  {
   "cell_type": "code",
   "execution_count": 19,
   "metadata": {},
   "outputs": [
    {
     "name": "stdout",
     "output_type": "stream",
     "text": [
      "Yeah\n"
     ]
    }
   ],
   "source": [
    "if 3 or 5:\n",
    "    print(\"Yeah\")\n",
    "else:\n",
    "    print(\"Nope\")"
   ]
  },
  {
   "cell_type": "markdown",
   "metadata": {},
   "source": [
    "Now look at the program below and see what it prints:"
   ]
  },
  {
   "cell_type": "code",
   "execution_count": 20,
   "metadata": {},
   "outputs": [
    {
     "name": "stdout",
     "output_type": "stream",
     "text": [
      "3\n"
     ]
    }
   ],
   "source": [
    "print(3 or 5)"
   ]
  },
  {
   "cell_type": "markdown",
   "metadata": {},
   "source": [
    "A similar thing happens with `and`. `x and y` returns `x` if `x` is `False`, otherwise it returns `y`. This is equivalent to the expression `(x and y) == (x if not x else y)`."
   ]
  },
  {
   "cell_type": "code",
   "execution_count": 24,
   "metadata": {},
   "outputs": [
    {
     "name": "stdout",
     "output_type": "stream",
     "text": [
      "False\n",
      "0\n"
     ]
    }
   ],
   "source": [
    "print(False and True)\n",
    "print(True and 0)"
   ]
  },
  {
   "cell_type": "markdown",
   "metadata": {},
   "source": [
    "### Short-circuiting"
   ]
  },
  {
   "cell_type": "markdown",
   "metadata": {},
   "source": [
    "This is what short-circuting is: not evaluating the whole expression (stopping short of evaluating it) if we already have enough information to determine the result."
   ]
  },
  {
   "cell_type": "markdown",
   "metadata": {},
   "source": [
    "#### or"
   ]
  },
  {
   "cell_type": "markdown",
   "metadata": {},
   "source": [
    "##### False ory"
   ]
  },
  {
   "cell_type": "markdown",
   "metadata": {},
   "source": [
    "`or` evaluatest to `True` if any of its operands is truthy. If the left operand to `or` is `False` the `or` operator hast to look to its right operand in order to determine the result."
   ]
  },
  {
   "cell_type": "code",
   "execution_count": 29,
   "metadata": {},
   "outputs": [
    {
     "name": "stdout",
     "output_type": "stream",
     "text": [
      "Got in!, y =  5\n"
     ]
    }
   ],
   "source": [
    "y = 5  # truthy value\n",
    "if False or y:\n",
    "    print(\"Got in!, y = \", y)\n",
    "else:\n",
    "    print(\"Didn't get in...\")"
   ]
  },
  {
   "cell_type": "code",
   "execution_count": 28,
   "metadata": {},
   "outputs": [
    {
     "name": "stdout",
     "output_type": "stream",
     "text": [
      "Didn't get in second...\n"
     ]
    }
   ],
   "source": [
    "y = []  # falsy value\n",
    "if False or y:\n",
    "    print(\"Got in!, y = \", y)\n",
    "else:\n",
    "    print(\"Didn't get in second...\")"
   ]
  },
  {
   "cell_type": "markdown",
   "metadata": {},
   "source": [
    "##### True ory"
   ]
  },
  {
   "cell_type": "markdown",
   "metadata": {},
   "source": [
    "On the other hand, if the left operand to `or` is `True`, we do not need to take a look at `y` because the result will be `True`."
   ]
  },
  {
   "cell_type": "markdown",
   "metadata": {},
   "source": [
    "Let's create a simple function that return its argument unchanged but that produces a side-effect of printing something in the screen, then we can use it to take a look at the things that Python evaluates when trying to determin the vale of `x or y`: "
   ]
  },
  {
   "cell_type": "code",
   "execution_count": 4,
   "metadata": {},
   "outputs": [
    {
     "name": "stdout",
     "output_type": "stream",
     "text": [
      "Inside `print_and_return` with x = False\n",
      "Inside `print_and_return` with x = 3\n",
      "3\n",
      "Inside `print_and_return` with x = True\n",
      "True\n"
     ]
    }
   ],
   "source": [
    "def print_and_return(x):\n",
    "    print(f\"Inside `print_and_return` with x = {x}\")\n",
    "    return x\n",
    "\n",
    "print(print_and_return(False) or print_and_return(3))\n",
    "print(print_and_return(True) or print_and_return(3))"
   ]
  },
  {
   "cell_type": "markdown",
   "metadata": {},
   "source": [
    "Notices that, in the second example, `print_and_return` only did one print because it never reached the `print_and_return(3)`"
   ]
  },
  {
   "cell_type": "markdown",
   "metadata": {},
   "source": [
    "##### Short-circuiting of `or` expressions "
   ]
  },
  {
   "cell_type": "markdown",
   "metadata": {},
   "source": [
    "Now we tie everything together. If the left operand to `or` is `False` or falsy, we know that `or` has to look to its right operand and will, therefore, return the vale of its right operand after evaluating it. On the other hand, if the left operand is `True` or truthy, `or` will return the value of the left operand without even evaluating the right operand."
   ]
  },
  {
   "cell_type": "markdown",
   "metadata": {},
   "source": [
    "#### and"
   ]
  },
  {
   "cell_type": "markdown",
   "metadata": {},
   "source": [
    "##### False andy"
   ]
  },
  {
   "cell_type": "markdown",
   "metadata": {},
   "source": [
    "`and` gives `True` if both operands are `True`. Therefore, if we have an expression like"
   ]
  },
  {
   "cell_type": "code",
   "execution_count": null,
   "metadata": {},
   "outputs": [
    {
     "name": "stdout",
     "output_type": "stream",
     "text": [
      "False\n"
     ]
    }
   ],
   "source": [
    "y = []  # falsy value\n",
    "val = False and y\n",
    "print(val)"
   ]
  },
  {
   "cell_type": "markdown",
   "metadata": {},
   "source": [
    "do we need to know what `y` is in order to figure out what `val` is? no, we do not, because regardless of wether `y` is `True` or `False`, `val` is always `False`:"
   ]
  },
  {
   "cell_type": "code",
   "execution_count": 11,
   "metadata": {},
   "outputs": [
    {
     "name": "stdout",
     "output_type": "stream",
     "text": [
      "False\n",
      "False\n"
     ]
    }
   ],
   "source": [
    "print(False and True)\n",
    "print(False and False)"
   ]
  },
  {
   "cell_type": "markdown",
   "metadata": {},
   "source": [
    "If we take the `False` and `y` expressions from this example and compare them with the `if` expression we wrote earlier which was\n",
    "\n",
    "    `(x and y) == (x if not x else y)`\n",
    "\n",
    "we see that, in this case, `x` was substituted by `False`, and, therefore, we have\n",
    "    \n",
    "    `(False and y) == (False if not False else y)`\n",
    "\n",
    "Now, the condition inside that `if` expresion reads\n",
    "\n",
    "    `not False`\n",
    "\n",
    "which we know evaluates to `True`, meaning that the `if` expression never returns `y`"
   ]
  },
  {
   "cell_type": "code",
   "execution_count": 35,
   "metadata": {},
   "outputs": [
    {
     "name": "stdout",
     "output_type": "stream",
     "text": [
      "Inside `print_and_return` with x = []\n",
      "[]\n",
      "Inside `print_and_return` with x = 0\n",
      "0\n",
      "Inside `print_and_return` with x = {}\n",
      "{}\n",
      "Inside `print_and_return` with x = 0\n",
      "0\n"
     ]
    }
   ],
   "source": [
    "def print_and_return(x):\n",
    "    print(f\"Inside `print_and_return` with x = {x}\")\n",
    "    return x\n",
    "\n",
    "print(print_and_return([]) and print_and_return(True))  # [] is falsy\n",
    "print(print_and_return(0) and print_and_return(True))  # 0 is falsy\n",
    "print(print_and_return({}) and print_and_return(True))  # {} is falsy\n",
    "print(print_and_return(0) and print_and_return(0))  # both are falsy, but only the left matters"
   ]
  },
  {
   "cell_type": "markdown",
   "metadata": {},
   "source": [
    "##### True andy"
   ]
  },
  {
   "cell_type": "markdown",
   "metadata": {},
   "source": [
    "If we evaluate `True and y`, we figure out that the result of such an expression is always the value of `y`, because the left operand being `True`, or any other truthy value, doesn't give `and` enough information."
   ]
  },
  {
   "cell_type": "markdown",
   "metadata": {},
   "source": [
    "##### Short-circuiting of `and` expressions "
   ]
  },
  {
   "cell_type": "markdown",
   "metadata": {},
   "source": [
    "To tie everything together. If the left operand to `and` is `False` or falsy, we know the expression returns the value of the left operand regardles of the right operand, and therefore we do not even evaluate the right operand. On the other hand, if the left operand to `and` is `True`, then `and` will evaluate the righ operand and return its value."
   ]
  },
  {
   "cell_type": "markdown",
   "metadata": {},
   "source": [
    "### Short-circuiting in plain English"
   ]
  },
  {
   "cell_type": "markdown",
   "metadata": {},
   "source": [
    "Instead of memorising rules about what sides get evaluated when, just remember that both `and` and `or` will evaluate as many operands as needed to determine the overall Boolean result, and will then return the value of the last side that they evaluated.\n",
    "\n",
    "As inmediate conclusion, the left operand is always evaluated, as you might imagine.\n"
   ]
  },
  {
   "cell_type": "markdown",
   "metadata": {},
   "source": [
    "### `all` and `any`"
   ]
  },
  {
   "cell_type": "markdown",
   "metadata": {},
   "source": [
    "The built-in functions `all` and `any` also short-circuit, as they are simple extensions of the behaviours provided by the `and` and `or` operators.\n",
    "\n",
    "`all` wants to make sure that all the values of its argument are truthy, so as soon as it finds a falsy value, it knows it's game over. The docs says `all` is equivalent to this:"
   ]
  },
  {
   "cell_type": "code",
   "execution_count": 22,
   "metadata": {},
   "outputs": [
    {
     "name": "stdout",
     "output_type": "stream",
     "text": [
      "True\n",
      "True\n",
      "False\n",
      "False\n"
     ]
    }
   ],
   "source": [
    "def custom_all(iterable):\n",
    "    for element in iterable:\n",
    "        if not element:\n",
    "            return False\n",
    "    return True\n",
    "\n",
    "my_list = [True, True, True, True]\n",
    "my_list_2 = [True, True, False, True]\n",
    "\n",
    "print(all(my_list))  # True\n",
    "print(custom_all([]))  # True\n",
    "\n",
    "print(all(my_list_2))  # False\n",
    "print(custom_all(my_list_2))  # False"
   ]
  },
  {
   "cell_type": "markdown",
   "metadata": {},
   "source": [
    "Similarly, `any` is going to fo its best to look for some value that is truthy. Therefore, as soon as it fins one, `any` knows it has achieved its goal. Something similar to this:"
   ]
  },
  {
   "cell_type": "code",
   "execution_count": 23,
   "metadata": {},
   "outputs": [
    {
     "name": "stdout",
     "output_type": "stream",
     "text": [
      "False\n",
      "False\n",
      "True\n",
      "True\n"
     ]
    }
   ],
   "source": [
    "def custom_any(iterable):\n",
    "    for element in iterable:\n",
    "        if element:\n",
    "            return True\n",
    "    return False\n",
    "\n",
    "my_list = [False, False, False, False]\n",
    "my_list_2 = [False, False, True, False]\n",
    "\n",
    "print(any(my_list))  # False\n",
    "print(custom_any(my_list))  # False\n",
    "\n",
    "print(any(my_list_2))  # True\n",
    "print(custom_any(my_list_2))  # True"
   ]
  },
  {
   "cell_type": "markdown",
   "metadata": {},
   "source": [
    "### Short-circuiting in chained comparisons"
   ]
  },
  {
   "cell_type": "markdown",
   "metadata": {},
   "source": [
    "Comparisons operators can be chained arbitrarily, and those are almost equivalent to a series of comparisons separated with `and`, except that the subexpressions are only evaluated once, to prevent wasting resources. Therefore, because we are also using an `and` in the background, chained comparisons are also short-circuiting."
   ]
  },
  {
   "cell_type": "code",
   "execution_count": 36,
   "metadata": {},
   "outputs": [
    {
     "name": "stdout",
     "output_type": "stream",
     "text": [
      "Inside `print_and_return` with x = 1\n",
      "Inside `print_and_return` with x = 2\n"
     ]
    },
    {
     "data": {
      "text/plain": [
       "False"
      ]
     },
     "execution_count": 36,
     "metadata": {},
     "output_type": "execute_result"
    }
   ],
   "source": [
    "def print_and_return(x):\n",
    "    print(f\"Inside `print_and_return` with x = {x}\")\n",
    "    return x\n",
    "\n",
    "## 1 > 2 is False, so there is no need to evaluate the right side.\n",
    "print_and_return(1) > print_and_return(2) > print_and_return(3)"
   ]
  },
  {
   "cell_type": "markdown",
   "metadata": {},
   "source": [
    "### Examples in code"
   ]
  },
  {
   "cell_type": "markdown",
   "metadata": {},
   "source": [
    "#### Short-circuit to save time"
   ]
  },
  {
   "cell_type": "markdown",
   "metadata": {},
   "source": [
    "This does not work but it shows that you should check for the simplier operand first."
   ]
  },
  {
   "cell_type": "code",
   "execution_count": 38,
   "metadata": {},
   "outputs": [
    {
     "ename": "NameError",
     "evalue": "name 'validate' is not defined",
     "output_type": "error",
     "traceback": [
      "\u001b[0;31m---------------------------------------------------------------------------\u001b[0m",
      "\u001b[0;31mNameError\u001b[0m                                 Traceback (most recent call last)",
      "Cell \u001b[0;32mIn[38], line 9\u001b[0m\n\u001b[1;32m      6\u001b[0m s \u001b[38;5;241m=\u001b[39m \u001b[38;5;124mb\u001b[39m\u001b[38;5;124m\"\u001b[39m\u001b[38;5;124ma\u001b[39m\u001b[38;5;124m\"\u001b[39m\u001b[38;5;241m*\u001b[39m\u001b[38;5;241m1000\u001b[39m \u001b[38;5;241m+\u001b[39m \u001b[38;5;124mb\u001b[39m\u001b[38;5;124m\"\u001b[39m\u001b[38;5;124m*\u001b[39m\u001b[38;5;124m\"\u001b[39m\n\u001b[1;32m      8\u001b[0m validate \u001b[38;5;241m=\u001b[39m \u001b[38;5;28;01mFalse\u001b[39;00m\n\u001b[0;32m----> 9\u001b[0m \u001b[38;5;28mprint\u001b[39m(\u001b[43mtimeit\u001b[49m\u001b[38;5;241;43m.\u001b[39;49m\u001b[43mtimeit\u001b[49m\u001b[43m(\u001b[49m\u001b[38;5;124;43m\"\u001b[39;49m\u001b[38;5;124;43mvalidate and not re.fullmatch(b\u001b[39;49m\u001b[38;5;124;43m'\u001b[39;49m\u001b[38;5;124;43m[A-Za-z0-9+/]*=[0,2]\u001b[39;49m\u001b[38;5;124;43m'\u001b[39;49m\u001b[38;5;124;43m, s)\u001b[39;49m\u001b[38;5;124;43m\"\u001b[39;49m\u001b[43m,\u001b[49m\u001b[43m \u001b[49m\u001b[43msetup\u001b[49m\u001b[43m)\u001b[49m)\n",
      "File \u001b[0;32m/usr/local/Cellar/python@3.12/3.12.2_1/Frameworks/Python.framework/Versions/3.12/lib/python3.12/timeit.py:237\u001b[0m, in \u001b[0;36mtimeit\u001b[0;34m(stmt, setup, timer, number, globals)\u001b[0m\n\u001b[1;32m    234\u001b[0m \u001b[38;5;28;01mdef\u001b[39;00m \u001b[38;5;21mtimeit\u001b[39m(stmt\u001b[38;5;241m=\u001b[39m\u001b[38;5;124m\"\u001b[39m\u001b[38;5;124mpass\u001b[39m\u001b[38;5;124m\"\u001b[39m, setup\u001b[38;5;241m=\u001b[39m\u001b[38;5;124m\"\u001b[39m\u001b[38;5;124mpass\u001b[39m\u001b[38;5;124m\"\u001b[39m, timer\u001b[38;5;241m=\u001b[39mdefault_timer,\n\u001b[1;32m    235\u001b[0m            number\u001b[38;5;241m=\u001b[39mdefault_number, \u001b[38;5;28mglobals\u001b[39m\u001b[38;5;241m=\u001b[39m\u001b[38;5;28;01mNone\u001b[39;00m):\n\u001b[1;32m    236\u001b[0m \u001b[38;5;250m    \u001b[39m\u001b[38;5;124;03m\"\"\"Convenience function to create Timer object and call timeit method.\"\"\"\u001b[39;00m\n\u001b[0;32m--> 237\u001b[0m     \u001b[38;5;28;01mreturn\u001b[39;00m \u001b[43mTimer\u001b[49m\u001b[43m(\u001b[49m\u001b[43mstmt\u001b[49m\u001b[43m,\u001b[49m\u001b[43m \u001b[49m\u001b[43msetup\u001b[49m\u001b[43m,\u001b[49m\u001b[43m \u001b[49m\u001b[43mtimer\u001b[49m\u001b[43m,\u001b[49m\u001b[43m \u001b[49m\u001b[38;5;28;43mglobals\u001b[39;49m\u001b[43m)\u001b[49m\u001b[38;5;241;43m.\u001b[39;49m\u001b[43mtimeit\u001b[49m\u001b[43m(\u001b[49m\u001b[43mnumber\u001b[49m\u001b[43m)\u001b[49m\n",
      "File \u001b[0;32m/usr/local/Cellar/python@3.12/3.12.2_1/Frameworks/Python.framework/Versions/3.12/lib/python3.12/timeit.py:180\u001b[0m, in \u001b[0;36mTimer.timeit\u001b[0;34m(self, number)\u001b[0m\n\u001b[1;32m    178\u001b[0m gc\u001b[38;5;241m.\u001b[39mdisable()\n\u001b[1;32m    179\u001b[0m \u001b[38;5;28;01mtry\u001b[39;00m:\n\u001b[0;32m--> 180\u001b[0m     timing \u001b[38;5;241m=\u001b[39m \u001b[38;5;28;43mself\u001b[39;49m\u001b[38;5;241;43m.\u001b[39;49m\u001b[43minner\u001b[49m\u001b[43m(\u001b[49m\u001b[43mit\u001b[49m\u001b[43m,\u001b[49m\u001b[43m \u001b[49m\u001b[38;5;28;43mself\u001b[39;49m\u001b[38;5;241;43m.\u001b[39;49m\u001b[43mtimer\u001b[49m\u001b[43m)\u001b[49m\n\u001b[1;32m    181\u001b[0m \u001b[38;5;28;01mfinally\u001b[39;00m:\n\u001b[1;32m    182\u001b[0m     \u001b[38;5;28;01mif\u001b[39;00m gcold:\n",
      "File \u001b[0;32m<timeit-src>:6\u001b[0m, in \u001b[0;36minner\u001b[0;34m(_it, _timer)\u001b[0m\n",
      "\u001b[0;31mNameError\u001b[0m: name 'validate' is not defined"
     ]
    }
   ],
   "source": [
    "import timeit\n",
    "\n",
    "\n",
    "setup = \"\"\n",
    "import re\n",
    "s = b\"a\"*1000 + b\"*\"\n",
    "\n",
    "validate = False\n",
    "print(timeit.timeit(\"validate and not re.fullmatch(b'[A-Za-z0-9+/]*=[0,2]', s)\", setup))"
   ]
  },
  {
   "cell_type": "markdown",
   "metadata": {},
   "source": [
    "#### Short-circuit to flatten `if` statements"
   ]
  },
  {
   "cell_type": "code",
   "execution_count": 39,
   "metadata": {},
   "outputs": [],
   "source": [
    "if validate:\n",
    "    print(\"Validating...\")\n",
    "    if re.fullmatch(b'[A-Za-z0-9+/]*=[0,2]', s):\n",
    "        print(\"Valid!\")\n",
    "    else:\n",
    "        print(\"Not valid!\")"
   ]
  },
  {
   "cell_type": "markdown",
   "metadata": {},
   "source": [
    "It's best to use a single ìf statement instead of a chain of `and` and `or` operators."
   ]
  },
  {
   "cell_type": "code",
   "execution_count": 40,
   "metadata": {},
   "outputs": [],
   "source": [
    "if validate and re.fullmatch(b'[A-Za-z0-9+/]*=[0,2]', s):\n",
    "    print(\"Valid!\")"
   ]
  },
  {
   "cell_type": "markdown",
   "metadata": {},
   "source": [
    "##### Checking preconditions before expression"
   ]
  },
  {
   "cell_type": "code",
   "execution_count": null,
   "metadata": {},
   "outputs": [],
   "source": [
    "def set_terminator(self, term):\n",
    "    if isinstance(term, str) and self.use_encoding:\n",
    "        term = bytes(term, self.encoding)\n",
    "    elif isinstance(term, int) and term < 0:\n",
    "        raise ValueError(\"Terminator must be a non-negative integer\")\n"
   ]
  },
  {
   "cell_type": "markdown",
   "metadata": {},
   "source": [
    "#### Define default values"
   ]
  },
  {
   "cell_type": "code",
   "execution_count": 42,
   "metadata": {},
   "outputs": [
    {
     "name": "stdout",
     "output_type": "stream",
     "text": [
      "Hello, Guest!\n"
     ]
    }
   ],
   "source": [
    "greet = input(\"Type your name >> \") or \"Guest\"\n",
    "print(f\"Hello, {greet}!\")"
   ]
  },
  {
   "cell_type": "markdown",
   "metadata": {},
   "source": [
    "#### Find witnesses in a sequence of items"
   ]
  },
  {
   "cell_type": "code",
   "execution_count": 44,
   "metadata": {},
   "outputs": [
    {
     "name": "stdout",
     "output_type": "stream",
     "text": [
      "Found an odd number: 35\n"
     ]
    }
   ],
   "source": [
    "items = [14, 16, 18, 20, 35, 41, 100]\n",
    "any_found = False\n",
    "\n",
    "for item in items:\n",
    "    any_found = item % 2\n",
    "    if any_found:\n",
    "        print(f\"Found an odd number: {item}\")\n",
    "        break"
   ]
  },
  {
   "cell_type": "markdown",
   "metadata": {},
   "source": [
    "Look as this neat simplified version:"
   ]
  },
  {
   "cell_type": "code",
   "execution_count": 33,
   "metadata": {},
   "outputs": [
    {
     "name": "stdout",
     "output_type": "stream",
     "text": [
      "Found an odd number: 35\n"
     ]
    }
   ],
   "source": [
    "items = [14, 16, 18, 20, 35, 41, 100]\n",
    "is_odd = lambda x: x % 2\n",
    "\n",
    "if any(is_odd(witness := item) for item in items):\n",
    "    print(f\"Found an odd number: {witness}\")"
   ]
  },
  {
   "cell_type": "markdown",
   "metadata": {},
   "source": [
    "## set and frozenset"
   ]
  },
  {
   "cell_type": "markdown",
   "metadata": {},
   "source": [
    "### (Mathematical) sets"
   ]
  },
  {
   "cell_type": "markdown",
   "metadata": {},
   "source": [
    "A set is simply a collection of unique items where order does not matter. Think a set as a shopping cart."
   ]
  },
  {
   "cell_type": "markdown",
   "metadata": {},
   "source": [
    "### No ordering"
   ]
  },
  {
   "cell_type": "markdown",
   "metadata": {},
   "source": [
    "If you go shopping, the order of the items you put in your shopping cart does not matter. The only thing that matters is the items that are in the cart.\n",
    "\n",
    "You could say that the groceries that you bought form a set.\n",
    "\n",
    "Both in maths and in Python, we use `{}` to denote a set. "
   ]
  },
  {
   "cell_type": "code",
   "execution_count": 9,
   "metadata": {},
   "outputs": [
    {
     "name": "stdout",
     "output_type": "stream",
     "text": [
      "{'bread', 'milk', 'cheese'}\n",
      "<class 'set'>\n",
      "set\n"
     ]
    }
   ],
   "source": [
    "groceries = {\"milk\", \"bread\", \"cheese\", \"milk\"}\n",
    "print(groceries)\n",
    "print(type(groceries))\n",
    "print(type(groceries).__name__)"
   ]
  },
  {
   "cell_type": "markdown",
   "metadata": {},
   "source": [
    "To make sure that the order really does not matter in sets, we can compare this set with other sets containing the same elements but in a different order."
   ]
  },
  {
   "cell_type": "code",
   "execution_count": 45,
   "metadata": {},
   "outputs": [
    {
     "name": "stdout",
     "output_type": "stream",
     "text": [
      "True\n",
      "True\n"
     ]
    }
   ],
   "source": [
    "groceries = {\"milk\", \"bread\", \"cheese\", \"milk\"}\n",
    "print(groceries == {\"cheese\", \"bread\", \"milk\"})\n",
    "print(groceries == {\"bread\", \"milk\", \"cheese\"})"
   ]
  },
  {
   "cell_type": "markdown",
   "metadata": {},
   "source": [
    "### Uniqueness"
   ]
  },
  {
   "cell_type": "markdown",
   "metadata": {},
   "source": [
    "Another key property of (mathematical) sets is that there are no duplicate elements.\n",
    "\n",
    "Think as someone told you to buy cheese, and when you go back home, someone asks you: \"Did you buy cheese?\" This is a yes/no question, either you bought cheese or you didn't.\n",
    "\n",
    "For sets, the same thing happens: the element is either in the set or it's not. We don't care about element count. We don't even consider it."
   ]
  },
  {
   "cell_type": "code",
   "execution_count": 12,
   "metadata": {},
   "outputs": [
    {
     "name": "stdout",
     "output_type": "stream",
     "text": [
      "{'milk', 'apple', 'banana'}\n"
     ]
    }
   ],
   "source": [
    "groceries = {\"apple\", \"banana\", \"apple\", \"milk\", \"milk\", \"milk\"}\n",
    "print(groceries)"
   ]
  },
  {
   "cell_type": "markdown",
   "metadata": {},
   "source": [
    "### (Common) Operations on sets"
   ]
  },
  {
   "cell_type": "markdown",
   "metadata": {},
   "source": [
    "#### Creation"
   ]
  },
  {
   "cell_type": "markdown",
   "metadata": {},
   "source": [
    "There are three main ways to create a set."
   ]
  },
  {
   "cell_type": "markdown",
   "metadata": {},
   "source": [
    "##### Explicit {} notation"
   ]
  },
  {
   "cell_type": "markdown",
   "metadata": {},
   "source": [
    "Using the `{}` notation, you write out the elements inside the set in a comma-separated list."
   ]
  },
  {
   "cell_type": "code",
   "execution_count": 46,
   "metadata": {},
   "outputs": [
    {
     "name": "stdout",
     "output_type": "stream",
     "text": [
      "{1, 2, 3}\n",
      "{'b', 'c', 'a'}\n"
     ]
    }
   ],
   "source": [
    "numbers = {1, 2, 3}\n",
    "letters = {\"a\", \"b\", \"c\"}\n",
    "print(numbers)\n",
    "print(letters)"
   ]
  },
  {
   "cell_type": "markdown",
   "metadata": {},
   "source": [
    "By the way, you cannot use `{}` to create an empty set! `{}` by itself will create an empty dictionary. To create an empty set, you need the next method."
   ]
  },
  {
   "cell_type": "markdown",
   "metadata": {},
   "source": [
    "##### Calling set on an iterable"
   ]
  },
  {
   "cell_type": "markdown",
   "metadata": {},
   "source": [
    "You can call the built-in functon `set()` on any iterable to create a set out of the elements of that iterable. Like range, strings, and lists."
   ]
  },
  {
   "cell_type": "code",
   "execution_count": 1,
   "metadata": {},
   "outputs": [
    {
     "name": "stdout",
     "output_type": "stream",
     "text": [
      "{0, 1, 2}\n",
      "{73, 'water', 42}\n"
     ]
    }
   ],
   "source": [
    "print(set(range(3)))\n",
    "print(set([73, \"water\", 42]))"
   ]
  },
  {
   "cell_type": "markdown",
   "metadata": {},
   "source": [
    "Calling `set` on a string produces a set with the characters of the string, not a set containing the whole string."
   ]
  },
  {
   "cell_type": "code",
   "execution_count": 47,
   "metadata": {},
   "outputs": [
    {
     "name": "stdout",
     "output_type": "stream",
     "text": [
      "mississippi\n",
      "{'m', 's', 'i', 'p'}\n"
     ]
    }
   ],
   "source": [
    "place = \"mississippi\"\n",
    "print(place)\n",
    "print(set(place))"
   ]
  },
  {
   "cell_type": "markdown",
   "metadata": {},
   "source": [
    "Calling `set` by itself produces an empty set."
   ]
  },
  {
   "cell_type": "code",
   "execution_count": 24,
   "metadata": {},
   "outputs": [
    {
     "name": "stdout",
     "output_type": "stream",
     "text": [
      "set()\n"
     ]
    }
   ],
   "source": [
    "my_set = set()\n",
    "print(my_set)"
   ]
  },
  {
   "cell_type": "markdown",
   "metadata": {},
   "source": [
    "##### Set comprehensions"
   ]
  },
  {
   "cell_type": "markdown",
   "metadata": {},
   "source": [
    "Using `{}`, one can also write what's called a set comprehension. Very similar to list comprehensions, but for sets."
   ]
  },
  {
   "cell_type": "code",
   "execution_count": 49,
   "metadata": {},
   "outputs": [
    {
     "name": "stdout",
     "output_type": "stream",
     "text": [
      "{'lettuce', 'carrot', 'spinach', 'broccoli'}\n"
     ]
    }
   ],
   "source": [
    "veggies = [\"broccoli\", \"carrot\", \"spinach\", \"lettuce\", \"pepper\", \"tomato\", \"carrot\"]\n",
    "veggies_set = {veggie for veggie in veggies if \"c\" in veggie}\n",
    "print(veggies_set)"
   ]
  },
  {
   "cell_type": "markdown",
   "metadata": {},
   "source": [
    "Secondly, a set of comprehension with two nested for loops."
   ]
  },
  {
   "cell_type": "code",
   "execution_count": 26,
   "metadata": {},
   "outputs": [
    {
     "name": "stdout",
     "output_type": "stream",
     "text": [
      "{'p', 't', 'o', 'r', 'n', 'c', 'a', 'i', 'm', 'b', 'e', 's', 'l', 'h', 'u'}\n"
     ]
    }
   ],
   "source": [
    "veggies = [\"broccoli\", \"carrot\", \"spinach\", \"lettuce\", \"pepper\", \"tomato\"]\n",
    "print({char for veggie in veggies for char in veggie})"
   ]
  },
  {
   "cell_type": "markdown",
   "metadata": {},
   "source": [
    "#### Operations on a single set"
   ]
  },
  {
   "cell_type": "markdown",
   "metadata": {},
   "source": [
    "Many common operations are done on with a single set, namely:\n",
    "\n",
    "- membership testing"
   ]
  },
  {
   "cell_type": "code",
   "execution_count": 1,
   "metadata": {},
   "outputs": [
    {
     "name": "stdout",
     "output_type": "stream",
     "text": [
      "True\n",
      "False\n"
     ]
    }
   ],
   "source": [
    "groceries = {\"broccoli\", \"carrot\", \"spinach\", \"lettuce\", \"pepper\", \"tomato\"}\n",
    "print(\"broccoli\" in groceries)  # True\n",
    "print(\"cucumber\" in groceries)  # False"
   ]
  },
  {
   "cell_type": "markdown",
   "metadata": {},
   "source": [
    "- computing the size of a set"
   ]
  },
  {
   "cell_type": "code",
   "execution_count": 58,
   "metadata": {},
   "outputs": [
    {
     "data": {
      "text/plain": [
       "6"
      ]
     },
     "execution_count": 58,
     "metadata": {},
     "output_type": "execute_result"
    }
   ],
   "source": [
    "groceries = {\"broccoli\", \"carrot\", \"spinach\", \"lettuce\", \"pepper\", \"tomato\"}\n",
    "len(groceries)  # 6"
   ]
  },
  {
   "cell_type": "markdown",
   "metadata": {},
   "source": [
    "- popping a random element from a set"
   ]
  },
  {
   "cell_type": "code",
   "execution_count": 55,
   "metadata": {},
   "outputs": [
    {
     "name": "stdout",
     "output_type": "stream",
     "text": [
      "tomato\n",
      "{'broccoli', 'lettuce', 'carrot', 'spinach', 'pepper'}\n"
     ]
    }
   ],
   "source": [
    "groceries = {\"broccoli\", \"carrot\", \"spinach\", \"lettuce\", \"pepper\", \"tomato\"}\n",
    "print(groceries.pop())\n",
    "print(groceries)"
   ]
  },
  {
   "cell_type": "markdown",
   "metadata": {},
   "source": [
    "- adding an element to a set"
   ]
  },
  {
   "cell_type": "code",
   "execution_count": 7,
   "metadata": {},
   "outputs": [
    {
     "name": "stdout",
     "output_type": "stream",
     "text": [
      "{'pepper', 'lettuce', 'carrot', 'broccoli', 'zucchini', 'spinach', 'tomato'}\n"
     ]
    }
   ],
   "source": [
    "groceries = {\"broccoli\", \"carrot\", \"spinach\", \"lettuce\", \"pepper\", \"tomato\"}\n",
    "groceries.add(\"zucchini\")\n",
    "print(groceries)"
   ]
  },
  {
   "cell_type": "markdown",
   "metadata": {},
   "source": [
    "#### Iteration"
   ]
  },
  {
   "cell_type": "markdown",
   "metadata": {},
   "source": [
    "Sets are similar to lists with unique elements, but lists are ordered: a list can be traversed from the beginning to the end, and a list can be indexed.\n",
    "\n",
    "Sets can also be iterated over (in an order you can't rely on)"
   ]
  },
  {
   "cell_type": "code",
   "execution_count": 59,
   "metadata": {},
   "outputs": [
    {
     "name": "stdout",
     "output_type": "stream",
     "text": [
      "tomato\n",
      "broccoli\n",
      "lettuce\n",
      "carrot\n",
      "spinach\n",
      "pepper\n"
     ]
    }
   ],
   "source": [
    "groceries = {\"broccoli\", \"carrot\", \"spinach\", \"lettuce\", \"pepper\", \"tomato\"}\n",
    "for item in groceries:\n",
    "    print(item)"
   ]
  },
  {
   "cell_type": "markdown",
   "metadata": {},
   "source": [
    "Sets cannot be indexed directly:"
   ]
  },
  {
   "cell_type": "code",
   "execution_count": 60,
   "metadata": {},
   "outputs": [
    {
     "ename": "TypeError",
     "evalue": "'set' object is not subscriptable",
     "output_type": "error",
     "traceback": [
      "\u001b[0;31m---------------------------------------------------------------------------\u001b[0m",
      "\u001b[0;31mTypeError\u001b[0m                                 Traceback (most recent call last)",
      "Cell \u001b[0;32mIn[60], line 2\u001b[0m\n\u001b[1;32m      1\u001b[0m groceries \u001b[38;5;241m=\u001b[39m {\u001b[38;5;124m\"\u001b[39m\u001b[38;5;124mbroccoli\u001b[39m\u001b[38;5;124m\"\u001b[39m, \u001b[38;5;124m\"\u001b[39m\u001b[38;5;124mcarrot\u001b[39m\u001b[38;5;124m\"\u001b[39m, \u001b[38;5;124m\"\u001b[39m\u001b[38;5;124mspinach\u001b[39m\u001b[38;5;124m\"\u001b[39m, \u001b[38;5;124m\"\u001b[39m\u001b[38;5;124mlettuce\u001b[39m\u001b[38;5;124m\"\u001b[39m, \u001b[38;5;124m\"\u001b[39m\u001b[38;5;124mpepper\u001b[39m\u001b[38;5;124m\"\u001b[39m, \u001b[38;5;124m\"\u001b[39m\u001b[38;5;124mtomato\u001b[39m\u001b[38;5;124m\"\u001b[39m}\n\u001b[0;32m----> 2\u001b[0m \u001b[38;5;28mprint\u001b[39m(\u001b[43mgroceries\u001b[49m\u001b[43m[\u001b[49m\u001b[38;5;241;43m0\u001b[39;49m\u001b[43m]\u001b[49m)  \u001b[38;5;66;03m# This will raise an error\u001b[39;00m\n",
      "\u001b[0;31mTypeError\u001b[0m: 'set' object is not subscriptable"
     ]
    }
   ],
   "source": [
    "groceries = {\"broccoli\", \"carrot\", \"spinach\", \"lettuce\", \"pepper\", \"tomato\"}\n",
    "print(groceries[0])  # This will raise an error"
   ]
  },
  {
   "cell_type": "markdown",
   "metadata": {},
   "source": [
    "#### Computation with multiple sets"
   ]
  },
  {
   "cell_type": "markdown",
   "metadata": {},
   "source": [
    "When having multiple sets you may need to do other sorts of operations. Here are some common ones:"
   ]
  },
  {
   "cell_type": "markdown",
   "metadata": {},
   "source": [
    "- check for overlap between two sets"
   ]
  },
  {
   "cell_type": "code",
   "execution_count": 61,
   "metadata": {},
   "outputs": [
    {
     "name": "stdout",
     "output_type": "stream",
     "text": [
      "{'cheese'}\n"
     ]
    }
   ],
   "source": [
    "groceries = {\"milk\", \"bread\", \"cheese\"}\n",
    "treats = {\"cake\", \"ice cream\", \"cookies\", \"cheese\"}\n",
    "\n",
    "print(groceries & treats)"
   ]
  },
  {
   "cell_type": "markdown",
   "metadata": {},
   "source": [
    "- join the two sets. Here the pipe is similar to the usage of | to merge dictionaries."
   ]
  },
  {
   "cell_type": "code",
   "execution_count": 62,
   "metadata": {},
   "outputs": [
    {
     "name": "stdout",
     "output_type": "stream",
     "text": [
      "{'cookies', 'bread', 'cake', 'ice cream', 'cheese', 'milk'}\n"
     ]
    }
   ],
   "source": [
    "groceries = {\"milk\", \"bread\", \"cheese\"}\n",
    "treats = {\"cake\", \"ice cream\", \"cookies\", \"cheese\"}\n",
    "\n",
    "print(groceries | treats)"
   ]
  },
  {
   "cell_type": "markdown",
   "metadata": {},
   "source": [
    "- find differences between two sets (what's on the left set but not on the right set)"
   ]
  },
  {
   "cell_type": "code",
   "execution_count": 63,
   "metadata": {},
   "outputs": [
    {
     "name": "stdout",
     "output_type": "stream",
     "text": [
      "{'milk', 'bread'}\n"
     ]
    }
   ],
   "source": [
    "groceries = {\"milk\", \"bread\", \"cheese\"}\n",
    "treats = {\"cake\", \"ice cream\", \"cookies\", \"cheese\"}\n",
    "\n",
    "print(groceries - treats)"
   ]
  },
  {
   "cell_type": "markdown",
   "metadata": {},
   "source": [
    "- check for containment using <, <=, >= and >"
   ]
  },
  {
   "cell_type": "code",
   "execution_count": 65,
   "metadata": {},
   "outputs": [
    {
     "name": "stdout",
     "output_type": "stream",
     "text": [
      "True\n",
      "False\n",
      "True\n",
      "True\n",
      "True\n",
      "True\n",
      "False\n"
     ]
    }
   ],
   "source": [
    "groceries = {\"milk\", \"bread\", \"cheese\"}\n",
    "treats = {\"cake\", \"ice cream\", \"cookies\", \"cheese\"}\n",
    "\n",
    "print({\"cheese\", \"milk\"} < groceries)\n",
    "print(groceries < groceries)\n",
    "\n",
    "print({\"cheese\", \"milk\"} <= groceries)\n",
    "print(groceries <= groceries)\n",
    "\n",
    "print(treats > {\"cake\"})\n",
    "print(treats >= {\"cake\", \"cheese\"})\n",
    "print(treats > {\"anything\"})"
   ]
  },
  {
   "cell_type": "markdown",
   "metadata": {},
   "source": [
    "### Differences between `set` and `frozenset`"
   ]
  },
  {
   "cell_type": "markdown",
   "metadata": {},
   "source": [
    "#### Creation"
   ]
  },
  {
   "cell_type": "markdown",
   "metadata": {},
   "source": [
    "While you can create a set with the built-in `set()` function or through the `{}` notation, `frozenset` can only be created with the built-in `frozenset()` function.\n",
    "\n",
    "`frozenset` can be created out of other sets or out of any iterables.\n",
    "\n",
    "When printed, `frozenset` display the indication that they are frozen."
   ]
  },
  {
   "cell_type": "code",
   "execution_count": 29,
   "metadata": {},
   "outputs": [
    {
     "name": "stdout",
     "output_type": "stream",
     "text": [
      "frozenset({'bread', 'cheese', 'milk'})\n",
      "frozenset({'water', 73, 42})\n"
     ]
    }
   ],
   "source": [
    "groceries = {\"milk\", \"bread\", \"cheese\"}\n",
    "print(frozenset(groceries))\n",
    "print(frozenset([73, \"water\", 42]))"
   ]
  },
  {
   "cell_type": "markdown",
   "metadata": {},
   "source": [
    "#### Mutability"
   ]
  },
  {
   "cell_type": "markdown",
   "metadata": {},
   "source": [
    "Sets are mutable. They can be changed after they are created. You can add, remove, or change elements.\n",
    "\n",
    "If you need to create an object that behaves like a set but is immutable, you can use `frozenset`.\n",
    "\n",
    "A `frozenset` is an instance of a `set`except that it cannot be changed after it is created."
   ]
  },
  {
   "cell_type": "code",
   "execution_count": 66,
   "metadata": {},
   "outputs": [
    {
     "ename": "AttributeError",
     "evalue": "'frozenset' object has no attribute 'pop'",
     "output_type": "error",
     "traceback": [
      "\u001b[0;31m---------------------------------------------------------------------------\u001b[0m",
      "\u001b[0;31mAttributeError\u001b[0m                            Traceback (most recent call last)",
      "Cell \u001b[0;32mIn[66], line 3\u001b[0m\n\u001b[1;32m      1\u001b[0m groceries_ \u001b[38;5;241m=\u001b[39m \u001b[38;5;28mfrozenset\u001b[39m({\u001b[38;5;124m\"\u001b[39m\u001b[38;5;124mmilk\u001b[39m\u001b[38;5;124m\"\u001b[39m, \u001b[38;5;124m\"\u001b[39m\u001b[38;5;124mbread\u001b[39m\u001b[38;5;124m\"\u001b[39m, \u001b[38;5;124m\"\u001b[39m\u001b[38;5;124mcheese\u001b[39m\u001b[38;5;124m\"\u001b[39m})\n\u001b[1;32m      2\u001b[0m \u001b[38;5;66;03m# groceries_.add(\"zucchini\")  # This will raise an error\u001b[39;00m\n\u001b[0;32m----> 3\u001b[0m \u001b[43mgroceries_\u001b[49m\u001b[38;5;241;43m.\u001b[39;49m\u001b[43mpop\u001b[49m()\n",
      "\u001b[0;31mAttributeError\u001b[0m: 'frozenset' object has no attribute 'pop'"
     ]
    }
   ],
   "source": [
    "groceries_ = frozenset({\"milk\", \"bread\", \"cheese\"})\n",
    "# groceries_.add(\"zucchini\")  # This will raise an error\n",
    "groceries_.pop()"
   ]
  },
  {
   "cell_type": "markdown",
   "metadata": {},
   "source": [
    "There's a very similar pair of built-in types that have this same dichotomy: lists and tuples.\n",
    "\n",
    "Lists are mutable, and tuples are immutable."
   ]
  },
  {
   "cell_type": "code",
   "execution_count": 67,
   "metadata": {},
   "outputs": [
    {
     "name": "stdout",
     "output_type": "stream",
     "text": [
      "apple\n",
      "milk\n",
      "['apple', 'banana', 'apple', 'milk', 'milk', 'zucchini']\n"
     ]
    },
    {
     "ename": "AttributeError",
     "evalue": "'tuple' object has no attribute 'pop'",
     "output_type": "error",
     "traceback": [
      "\u001b[0;31m---------------------------------------------------------------------------\u001b[0m",
      "\u001b[0;31mAttributeError\u001b[0m                            Traceback (most recent call last)",
      "Cell \u001b[0;32mIn[67], line 8\u001b[0m\n\u001b[1;32m      5\u001b[0m \u001b[38;5;28mprint\u001b[39m(my_list)\n\u001b[1;32m      7\u001b[0m my_tuple \u001b[38;5;241m=\u001b[39m (\u001b[38;5;124m\"\u001b[39m\u001b[38;5;124mapple\u001b[39m\u001b[38;5;124m\"\u001b[39m, \u001b[38;5;124m\"\u001b[39m\u001b[38;5;124mbanana\u001b[39m\u001b[38;5;124m\"\u001b[39m, \u001b[38;5;124m\"\u001b[39m\u001b[38;5;124mapple\u001b[39m\u001b[38;5;124m\"\u001b[39m, \u001b[38;5;124m\"\u001b[39m\u001b[38;5;124mmilk\u001b[39m\u001b[38;5;124m\"\u001b[39m, \u001b[38;5;124m\"\u001b[39m\u001b[38;5;124mmilk\u001b[39m\u001b[38;5;124m\"\u001b[39m, \u001b[38;5;124m\"\u001b[39m\u001b[38;5;124mmilk\u001b[39m\u001b[38;5;124m\"\u001b[39m)\n\u001b[0;32m----> 8\u001b[0m \u001b[43mmy_tuple\u001b[49m\u001b[38;5;241;43m.\u001b[39;49m\u001b[43mpop\u001b[49m()  \u001b[38;5;66;03m# This will raise an error\u001b[39;00m\n",
      "\u001b[0;31mAttributeError\u001b[0m: 'tuple' object has no attribute 'pop'"
     ]
    }
   ],
   "source": [
    "my_list = [\"apple\", \"banana\", \"apple\", \"milk\", \"milk\", \"milk\"]\n",
    "print(my_list[0])\n",
    "print(my_list.pop())\n",
    "my_list.append(\"zucchini\")\n",
    "print(my_list)\n",
    "\n",
    "my_tuple = (\"apple\", \"banana\", \"apple\", \"milk\", \"milk\", \"milk\")\n",
    "my_tuple.pop()  # This will raise an error"
   ]
  },
  {
   "cell_type": "markdown",
   "metadata": {},
   "source": [
    "### To be (hashable) or not to be"
   ]
  },
  {
   "cell_type": "markdown",
   "metadata": {},
   "source": [
    "An object that is hashable is an object for wich hash can be computed.\n",
    "\n",
    "A hash is an integer that the built-in function `hash()` computes to help with fast operations with fast operations with dictionaries, e.g. key lookups.\n",
    "\n",
    "The built-in function `hash` dictates what can and annot be a key dictionary: if it's hashable it can be if not, it can't.\n",
    "\n",
    "Lists are mutable and unhashable, while tuples are immutable and hashable."
   ]
  },
  {
   "cell_type": "code",
   "execution_count": null,
   "metadata": {},
   "outputs": [
    {
     "ename": "TypeError",
     "evalue": "unhashable type: 'list'",
     "output_type": "error",
     "traceback": [
      "\u001b[0;31m---------------------------------------------------------------------------\u001b[0m",
      "\u001b[0;31mTypeError\u001b[0m                                 Traceback (most recent call last)",
      "Cell \u001b[0;32mIn[8], line 2\u001b[0m\n\u001b[1;32m      1\u001b[0m dictionary \u001b[38;5;241m=\u001b[39m {}\n\u001b[0;32m----> 2\u001b[0m \u001b[43mdictionary\u001b[49m\u001b[43m[\u001b[49m\u001b[43m[\u001b[49m\u001b[38;5;241;43m1\u001b[39;49m\u001b[43m,\u001b[49m\u001b[43m \u001b[49m\u001b[38;5;241;43m2\u001b[39;49m\u001b[43m,\u001b[49m\u001b[43m \u001b[49m\u001b[38;5;241;43m3\u001b[39;49m\u001b[43m]\u001b[49m\u001b[43m]\u001b[49m \u001b[38;5;241m=\u001b[39m \u001b[38;5;241m73\u001b[39m  \u001b[38;5;66;03m# This will raise an error\u001b[39;00m\n\u001b[1;32m      3\u001b[0m dictionary[(\u001b[38;5;241m1\u001b[39m, \u001b[38;5;241m2\u001b[39m, \u001b[38;5;241m3\u001b[39m)] \u001b[38;5;241m=\u001b[39m \u001b[38;5;241m73\u001b[39m\n\u001b[1;32m      4\u001b[0m \u001b[38;5;28mprint\u001b[39m(dictionary)\n",
      "\u001b[0;31mTypeError\u001b[0m: unhashable type: 'list'"
     ]
    }
   ],
   "source": [
    "dictionary = {}\n",
    "# dictionary[[1, 2, 3]] = 73  # This will raise an error\n",
    "dictionary[(1, 2, 3)] = 73\n",
    "print(dictionary)"
   ]
  },
  {
   "cell_type": "markdown",
   "metadata": {},
   "source": [
    "Something similar occurs with sets and frozensets."
   ]
  },
  {
   "cell_type": "code",
   "execution_count": 6,
   "metadata": {},
   "outputs": [
    {
     "name": "stdout",
     "output_type": "stream",
     "text": [
      "{frozenset({1, 2, 3}): 73}\n"
     ]
    }
   ],
   "source": [
    "dictionary = {}\n",
    "# dictionary[{1, 2, 3}] = 73  # This will raise an error\n",
    "dictionary[frozenset({1, 2, 3})] = 73\n",
    "print(dictionary)"
   ]
  },
  {
   "cell_type": "markdown",
   "metadata": {},
   "source": [
    "### What are sets used for?"
   ]
  },
  {
   "cell_type": "markdown",
   "metadata": {},
   "source": [
    "Sets are useful when the problems at hand would inherit from mathematical sets:\n",
    "- membership testing\n",
    "- uniqueness\n",
    "\n",
    "Doing this in sets are much faster than lists."
   ]
  },
  {
   "cell_type": "markdown",
   "metadata": {},
   "source": [
    "### Examples"
   ]
  },
  {
   "cell_type": "markdown",
   "metadata": {},
   "source": [
    "Never do this, this is an anti-pattern"
   ]
  },
  {
   "cell_type": "code",
   "execution_count": 51,
   "metadata": {},
   "outputs": [],
   "source": [
    "seen_actions = set()\n",
    "action = \"test\"\n",
    "\n",
    "if action not in seen_actions:\n",
    "    seen_actions.add(action)    "
   ]
  },
  {
   "cell_type": "markdown",
   "metadata": {},
   "source": [
    "Checking if an element is inside a set or adding unconditionally is almost the same work, so this is doubling your work!"
   ]
  },
  {
   "cell_type": "markdown",
   "metadata": {},
   "source": [
    "### Conclusion"
   ]
  },
  {
   "cell_type": "markdown",
   "metadata": {},
   "source": [
    "- Use (frozen)set when youa re dealing with collections and where what matters is fast memebership checking."
   ]
  },
  {
   "cell_type": "markdown",
   "metadata": {},
   "source": [
    "## List comprehensions 101"
   ]
  },
  {
   "cell_type": "markdown",
   "metadata": {},
   "source": [
    "### What is a list comprehension?"
   ]
  },
  {
   "cell_type": "markdown",
   "metadata": {},
   "source": [
    "A list comprehension is a Python expression that builds a list.\n",
    "\n"
   ]
  },
  {
   "cell_type": "markdown",
   "metadata": {},
   "source": [
    "### A loop that builds a list"
   ]
  },
  {
   "cell_type": "markdown",
   "metadata": {},
   "source": [
    "Consider the next loop. It builds a list called `squares` which contains the first square of numbers:"
   ]
  },
  {
   "cell_type": "code",
   "execution_count": 53,
   "metadata": {},
   "outputs": [
    {
     "name": "stdout",
     "output_type": "stream",
     "text": [
      "[0, 1, 4, 9, 16, 25, 36, 49, 64, 81]\n"
     ]
    }
   ],
   "source": [
    "squares = []\n",
    "for num in range(10):\n",
    "    squares.append(num**2)\n",
    "print(squares)"
   ]
  },
  {
   "cell_type": "markdown",
   "metadata": {},
   "source": [
    "The key idea behind list comprehensions is that many list can be built out of other, simpler iterables (lists, tuples, strings) by transforming the data that we get from those iterables. In such cases, we want to focus on the data transformation that we are doing."
   ]
  },
  {
   "cell_type": "code",
   "execution_count": 54,
   "metadata": {},
   "outputs": [
    {
     "name": "stdout",
     "output_type": "stream",
     "text": [
      "[0, 1, 4, 9, 16, 25, 36, 49, 64, 81]\n"
     ]
    }
   ],
   "source": [
    "squares_comprehension= [num**2 for num in range(10)]\n",
    "print(squares_comprehension)"
   ]
  },
  {
   "cell_type": "markdown",
   "metadata": {},
   "source": [
    "In this case we are dropping:\n",
    "- the initialisation of the list (`squares = []`)\n",
    "- the call to append (`squares.append(...)`)"
   ]
  },
  {
   "cell_type": "markdown",
   "metadata": {},
   "source": [
    "### Exercises: practice rewriting `for` loops as list of comprehensions"
   ]
  },
  {
   "cell_type": "markdown",
   "metadata": {},
   "source": [
    "1. Compute the first square numbers"
   ]
  },
  {
   "cell_type": "code",
   "execution_count": 10,
   "metadata": {},
   "outputs": [
    {
     "name": "stdout",
     "output_type": "stream",
     "text": [
      "[0, 1, 4, 9, 16, 25, 36, 49, 64, 81]\n",
      "[0, 1, 4, 9, 16, 25, 36, 49, 64, 81]\n"
     ]
    }
   ],
   "source": [
    "squares = []\n",
    "for n in range(10):\n",
    "    squares.append(n ** 2)\n",
    "print(squares)\n",
    "\n",
    "squares_comp = [n**2 for n in range(10)]\n",
    "print(squares_comp)"
   ]
  },
  {
   "cell_type": "markdown",
   "metadata": {},
   "source": [
    "2. Uppercasing a series of words:"
   ]
  },
  {
   "cell_type": "code",
   "execution_count": 11,
   "metadata": {},
   "outputs": [
    {
     "name": "stdout",
     "output_type": "stream",
     "text": [
      "['BANANA', 'PEAR', 'PEACH', 'STRAWBERRY', 'TOMATO']\n",
      "['BANANA', 'PEAR', 'PEACH', 'STRAWBERRY', 'TOMATO']\n"
     ]
    }
   ],
   "source": [
    "fruits = \"banana pear peach strawberry tomato\".split()\n",
    "upper_words = []\n",
    "for fruit in fruits:\n",
    "    upper_words.append(fruit.upper())\n",
    "print(upper_words)\n",
    "\n",
    "upper_words_comp = [fruit.upper() for fruit in fruits]\n",
    "print(upper_words_comp)"
   ]
  },
  {
   "cell_type": "markdown",
   "metadata": {},
   "source": [
    "3. Find the length of each word in a sentence:"
   ]
  },
  {
   "cell_type": "code",
   "execution_count": 12,
   "metadata": {},
   "outputs": [
    {
     "name": "stdout",
     "output_type": "stream",
     "text": [
      "[3, 5, 5, 3, 5, 4, 3, 4, 3]\n"
     ]
    }
   ],
   "source": [
    "words = \"the quick brown fox jumps over the lazy dog\".split()\n",
    "length_words = [len(word) for word in words]\n",
    "print(length_words)"
   ]
  },
  {
   "cell_type": "markdown",
   "metadata": {},
   "source": [
    "### Filtering data in a list comprehension"
   ]
  },
  {
   "cell_type": "markdown",
   "metadata": {},
   "source": [
    "List comprehensions allow you to filter data so that the new list only transforms some of the data that comes from the source iterable."
   ]
  },
  {
   "cell_type": "code",
   "execution_count": 8,
   "metadata": {},
   "outputs": [
    {
     "name": "stdout",
     "output_type": "stream",
     "text": [
      "[9, 25, 36, 81]\n",
      "[9, 25, 36, 81]\n"
     ]
    }
   ],
   "source": [
    "square_list = []\n",
    "for number in range(1, 10):\n",
    "    if (number % 3 == 0) or (number % 5 == 0):\n",
    "        square_list.append(number**2)\n",
    "print(square_list)\n",
    "\n",
    "square_list_comprehension = [\n",
    "    number ** 2 \n",
    "    for number in range(1, 10) \n",
    "    if (number % 3 == 0) or (number % 5 == 0)\n",
    "]\n",
    "print(square_list_comprehension)"
   ]
  },
  {
   "cell_type": "markdown",
   "metadata": {},
   "source": [
    "### More exercises"
   ]
  },
  {
   "cell_type": "markdown",
   "metadata": {},
   "source": [
    "1. Squaring"
   ]
  },
  {
   "cell_type": "code",
   "execution_count": 13,
   "metadata": {},
   "outputs": [
    {
     "name": "stdout",
     "output_type": "stream",
     "text": [
      "[0, 9, 25, 36, 81]\n",
      "[0, 9, 25, 36, 81]\n"
     ]
    }
   ],
   "source": [
    "fizz_buzz_squares = []\n",
    "for n in range(10):\n",
    "    if (n % 3 == 0) or (n % 5 == 0):\n",
    "        fizz_buzz_squares.append(n ** 2)\n",
    "print(fizz_buzz_squares)\n",
    "\n",
    "# List comprehension\n",
    "fizz_buzz_comp = [\n",
    "    n ** 2\n",
    "    for n in range(10)\n",
    "    if (n % 3 == 0) or (n % 5 == 0)\n",
    "]\n",
    "print(fizz_buzz_comp)"
   ]
  },
  {
   "cell_type": "markdown",
   "metadata": {},
   "source": [
    "2. Upper cassing words"
   ]
  },
  {
   "cell_type": "code",
   "execution_count": 69,
   "metadata": {},
   "outputs": [
    {
     "name": "stdout",
     "output_type": "stream",
     "text": [
      "['PEAR', 'STRAWBERRY', 'TOMATO']\n",
      "['PEAR', 'STRAWBERRY', 'TOMATO']\n"
     ]
    }
   ],
   "source": [
    "fruits = \"Banana pear PEACH strawberry tomato\".split()\n",
    "upper_cased = []\n",
    "for fruit in fruits:\n",
    "    if (fruit.islower()):\n",
    "        upper_cased.append(fruit.upper())\n",
    "print(upper_cased)\n",
    "\n",
    "upper_cased_comp = [\n",
    "    fruit.upper()\n",
    "    for fruit in fruits\n",
    "    if fruit.islower()\n",
    "]\n",
    "print(upper_cased_comp)"
   ]
  },
  {
   "cell_type": "markdown",
   "metadata": {},
   "source": [
    "3. Finding length of words"
   ]
  },
  {
   "cell_type": "code",
   "execution_count": 70,
   "metadata": {},
   "outputs": [
    {
     "name": "stdout",
     "output_type": "stream",
     "text": [
      "[5, 3, 4, 3]\n",
      "[5, 3, 4, 3]\n"
     ]
    }
   ],
   "source": [
    "words = \"the quick brown fox jumps over the lazy dog\".split()\n",
    "lengths = []\n",
    "for word in words:\n",
    "    if \"o\" in word:\n",
    "        lengths.append(len(word))\n",
    "print(lengths)\n",
    "\n",
    "lengths_comp = [\n",
    "    len(word)\n",
    "    for word in words\n",
    "    if \"o\" in word\n",
    "]\n",
    "print(lengths_comp)\n"
   ]
  },
  {
   "cell_type": "markdown",
   "metadata": {},
   "source": [
    "### Full anatomy of a list comprehension"
   ]
  },
  {
   "cell_type": "markdown",
   "metadata": {},
   "source": [
    "The anatomy of a list comprehension is dictated by 3 components enclosed in square brackets:\n",
    "1. a data transformation\n",
    "2. a data source\n",
    "3. a data filter (optional)"
   ]
  },
  {
   "cell_type": "code",
   "execution_count": null,
   "metadata": {},
   "outputs": [],
   "source": [
    "ns = []\n",
    "my_list = [\n",
    "    n ** 2       # data transformation\n",
    "    for n in ns  # data source\n",
    "    if n == 0    # data filter\n",
    "]"
   ]
  },
  {
   "cell_type": "markdown",
   "metadata": {},
   "source": [
    "There's no restriction on the number of data sources or data filters in a list comprehension"
   ]
  },
  {
   "cell_type": "code",
   "execution_count": null,
   "metadata": {},
   "outputs": [],
   "source": [
    "my_list = []\n",
    "for it2 in it1:\n",
    "    for _ in it3:\n",
    "        if p1(it2):\n",
    "            for it4 in it2:\n",
    "                for v1 in it4:\n",
    "                    if p2(v1):\n",
    "                        if p3(it4):\n",
    "                            for it6 in it5:\n",
    "                                for v2, it7 in it6:\n",
    "                                    for v3, it8m, it9 in it7:\n",
    "                                        if p2(v1):\n",
    "                                            for v4, v5 in zip(it8, it9):\n",
    "                                                my_list.append(func(v1, v2, v3, v4, v5))"
   ]
  },
  {
   "cell_type": "markdown",
   "metadata": {},
   "source": [
    "This is the transformation to list comprehension"
   ]
  },
  {
   "cell_type": "code",
   "execution_count": null,
   "metadata": {},
   "outputs": [],
   "source": [
    "my_list = [\n",
    "    func(v1, v2, v3, v4, v5)\n",
    "    for it2 in it1\n",
    "    for _ in it3\n",
    "    if p1(it2)\n",
    "    for it4 in it2\n",
    "    for v1 in it4\n",
    "    if p2(v1)\n",
    "    if p3(it4)\n",
    "    for it6 in it5\n",
    "    for v2, it7 in it6\n",
    "    for v3, it8m, it9 in it7\n",
    "    if p2(v1)\n",
    "    for v4, v5 in zip(it8, it9)\n",
    "]"
   ]
  },
  {
   "cell_type": "markdown",
   "metadata": {},
   "source": [
    "List comprehensions should be kept simple. For most people, that's just one data source and one data filter (one `for` and one `if`) or two data sources and no data filters (two `for` and zero `if`)"
   ]
  },
  {
   "cell_type": "markdown",
   "metadata": {},
   "source": [
    "### Advantages of list comprehensions"
   ]
  },
  {
   "cell_type": "markdown",
   "metadata": {},
   "source": [
    "The main advantages over nested structures are:\n",
    "- speed\n",
    "- conciseness\n",
    "- purity\n",
    "- readability\n",
    "\n",
    "Keep in mind **the main advantage is readability**"
   ]
  },
  {
   "cell_type": "markdown",
   "metadata": {},
   "source": [
    "### Bad use cases"
   ]
  },
  {
   "cell_type": "markdown",
   "metadata": {},
   "source": [
    "#### Initialising another list"
   ]
  },
  {
   "cell_type": "code",
   "execution_count": 73,
   "metadata": {},
   "outputs": [
    {
     "name": "stdout",
     "output_type": "stream",
     "text": [
      "[None, None, None, None, None, None, None, None, None, None]\n",
      "[0, 1, 4, 9, 16, 25, 36, 49, 64, 81]\n"
     ]
    }
   ],
   "source": [
    "squares = []\n",
    "print([squares.append(num ** 2) for num in range(10)])\n",
    "print(squares)"
   ]
  },
  {
   "cell_type": "markdown",
   "metadata": {},
   "source": [
    "Here we are creating an empty list and we're appending to it from inside another list... Totally not the point.\n",
    "\n",
    "Also we created a list not assigned to any variable, so we are creating a list an wasting it."
   ]
  },
  {
   "cell_type": "code",
   "execution_count": 18,
   "metadata": {},
   "outputs": [
    {
     "name": "stdout",
     "output_type": "stream",
     "text": [
      "[None, None, None, None, None, None, None, None, None, None]\n"
     ]
    }
   ],
   "source": [
    "squares = []\n",
    "some_list = [squares.append(num ** 2) for num in range(10)]\n",
    "print(some_list)"
   ]
  },
  {
   "cell_type": "markdown",
   "metadata": {},
   "source": [
    "We get a bunch of `None` because that's the return value of method `append`"
   ]
  },
  {
   "cell_type": "markdown",
   "metadata": {},
   "source": [
    "#### Side effects"
   ]
  },
  {
   "cell_type": "code",
   "execution_count": 74,
   "metadata": {},
   "outputs": [
    {
     "name": "stdout",
     "output_type": "stream",
     "text": [
      "<generator object <genexpr> at 0x10abfa8c0>\n"
     ]
    },
    {
     "data": {
      "text/plain": [
       "[None]"
      ]
     },
     "execution_count": 74,
     "metadata": {},
     "output_type": "execute_result"
    }
   ],
   "source": [
    "numbers = range(10)\n",
    "[print(value for value in numbers)]"
   ]
  },
  {
   "cell_type": "markdown",
   "metadata": {},
   "source": [
    "Again, this does things even if you don't assign the list to a variable, for this is better a normal for loop"
   ]
  },
  {
   "cell_type": "code",
   "execution_count": 21,
   "metadata": {},
   "outputs": [
    {
     "name": "stdout",
     "output_type": "stream",
     "text": [
      "0\n",
      "1\n",
      "2\n",
      "3\n",
      "4\n",
      "5\n",
      "6\n",
      "7\n",
      "8\n",
      "9\n"
     ]
    }
   ],
   "source": [
    "numbers = range(10)\n",
    "for value in numbers:\n",
    "    print(value)"
   ]
  },
  {
   "cell_type": "markdown",
   "metadata": {},
   "source": [
    "#### Replacing built-ins"
   ]
  },
  {
   "cell_type": "code",
   "execution_count": 23,
   "metadata": {},
   "outputs": [
    {
     "name": "stdout",
     "output_type": "stream",
     "text": [
      "range(0, 10)\n",
      "[0, 1, 2, 3, 4, 5, 6, 7, 8, 9]\n"
     ]
    }
   ],
   "source": [
    "numbers = range(10)\n",
    "print(numbers)\n",
    "my_list = [value for value in numbers]\n",
    "print(my_list)"
   ]
  },
  {
   "cell_type": "markdown",
   "metadata": {},
   "source": [
    "This looks like a perfect list but the code is equivalent to `list`"
   ]
  },
  {
   "cell_type": "code",
   "execution_count": 24,
   "metadata": {},
   "outputs": [
    {
     "name": "stdout",
     "output_type": "stream",
     "text": [
      "[0, 1, 2, 3, 4, 5, 6, 7, 8, 9]\n"
     ]
    }
   ],
   "source": [
    "my_other_list = list(numbers)\n",
    "print(my_other_list)"
   ]
  },
  {
   "cell_type": "markdown",
   "metadata": {},
   "source": [
    "Another built-in you may end up reinventing is `reversed`."
   ]
  },
  {
   "cell_type": "markdown",
   "metadata": {},
   "source": [
    "## Sequence indexing"
   ]
  },
  {
   "cell_type": "markdown",
   "metadata": {},
   "source": [
    "### Introduction"
   ]
  },
  {
   "cell_type": "markdown",
   "metadata": {},
   "source": [
    "This is using integers to index linear sequences. \n",
    "\n",
    "A very simple example is a string. \n",
    "\n",
    "To index a specific character we use square brackets. Python is 0-indexed, so the first character is at index 0."
   ]
  },
  {
   "cell_type": "code",
   "execution_count": 3,
   "metadata": {},
   "outputs": [
    {
     "name": "stdout",
     "output_type": "stream",
     "text": [
      "I\n",
      "n\n"
     ]
    }
   ],
   "source": [
    "s = \"Indexing is easy!\"\n",
    "print(s[0])\n",
    "print(s[1])"
   ]
  },
  {
   "cell_type": "markdown",
   "metadata": {},
   "source": [
    "### Maximum legal index and index errors"
   ]
  },
  {
   "cell_type": "markdown",
   "metadata": {},
   "source": [
    "Because indices start at 0, the maximum legal index is the length of the sequence minus 1."
   ]
  },
  {
   "cell_type": "code",
   "execution_count": 6,
   "metadata": {},
   "outputs": [
    {
     "name": "stdout",
     "output_type": "stream",
     "text": [
      "17\n",
      "!\n"
     ]
    },
    {
     "ename": "IndexError",
     "evalue": "string index out of range",
     "output_type": "error",
     "traceback": [
      "\u001b[0;31m---------------------------------------------------------------------------\u001b[0m",
      "\u001b[0;31mIndexError\u001b[0m                                Traceback (most recent call last)",
      "Cell \u001b[0;32mIn[6], line 4\u001b[0m\n\u001b[1;32m      2\u001b[0m \u001b[38;5;28mprint\u001b[39m(\u001b[38;5;28mlen\u001b[39m(s))\n\u001b[1;32m      3\u001b[0m \u001b[38;5;28mprint\u001b[39m(s[\u001b[38;5;241m16\u001b[39m])\n\u001b[0;32m----> 4\u001b[0m \u001b[38;5;28mprint\u001b[39m(\u001b[43ms\u001b[49m\u001b[43m[\u001b[49m\u001b[38;5;241;43m17\u001b[39;49m\u001b[43m]\u001b[49m)  \u001b[38;5;66;03m# This will raise an IndexError\u001b[39;00m\n",
      "\u001b[0;31mIndexError\u001b[0m: string index out of range"
     ]
    }
   ],
   "source": [
    "s = \"Indexing is easy!\"\n",
    "print(len(s))\n",
    "print(s[16])\n",
    "print(s[17])  # This will raise an IndexError"
   ]
  },
  {
   "cell_type": "markdown",
   "metadata": {},
   "source": [
    "### Negative indices"
   ]
  },
  {
   "cell_type": "markdown",
   "metadata": {},
   "source": [
    "If the last legal index is the length minus 1, then there is an obvious way to access the last element."
   ]
  },
  {
   "cell_type": "code",
   "execution_count": 9,
   "metadata": {},
   "outputs": [
    {
     "name": "stdout",
     "output_type": "stream",
     "text": [
      "!\n"
     ]
    }
   ],
   "source": [
    "s = \"Indexing is easy!\"\n",
    "print(s[len(s)-1])"
   ]
  },
  {
   "cell_type": "markdown",
   "metadata": {},
   "source": [
    "However, Python provides this feature where you can use negative indices to count from the end of the sequence. Think about writing the sequence to the left of itself:\n",
    " \n",
    "|e |a |s |y |! |I|n|d|e|x|i|n|g| |i|\n",
    "|- |- |- |- |- |-|-|-|-|-|-|-|-|-|-|\n",
    "|-5|-4|-3|-2|-1|0|1|2|3|4|5|6|7|8|9|\n",
    "\n",
    "From this figure we can see that the index -1 refers to the last element, -2 to the second last, and so on."
   ]
  },
  {
   "cell_type": "code",
   "execution_count": 10,
   "metadata": {},
   "outputs": [
    {
     "name": "stdout",
     "output_type": "stream",
     "text": [
      "!\n",
      "y\n"
     ]
    }
   ],
   "source": [
    "s = \"Indexing is easy!\"\n",
    "print(s[-1])\n",
    "print(s[-2])"
   ]
  },
  {
   "cell_type": "markdown",
   "metadata": {},
   "source": [
    "Other way to look at negative indices is to pretend there's a `len(s)` to their left."
   ]
  },
  {
   "cell_type": "code",
   "execution_count": 13,
   "metadata": {},
   "outputs": [
    {
     "name": "stdout",
     "output_type": "stream",
     "text": [
      "!\n",
      "!\n",
      "e\n",
      "e\n"
     ]
    }
   ],
   "source": [
    "s = \"Indexing is easy!\"\n",
    "\n",
    "print(s[len(s)-1])\n",
    "print(s[-1])\n",
    "\n",
    "print(s[len(s)-5])\n",
    "print(s[-5])"
   ]
  },
  {
   "cell_type": "markdown",
   "metadata": {},
   "source": [
    "### Indexing idioms"
   ]
  },
  {
   "cell_type": "markdown",
   "metadata": {},
   "source": [
    "Having seen the basic syntax for indexing, there are a couple of indices that would be helpful if you were able to read them immediatly for what they are, without having to think about them:"
   ]
  },
  {
   "cell_type": "code",
   "execution_count": null,
   "metadata": {},
   "outputs": [],
   "source": [
    "s = \"Indexing is easy!\"\n",
    "s[0]  # First element of s\n",
    "s[1]  # Second element of s\n",
    "s[-1]  # Last element of s\n",
    "s[-2]  # Second-to-last element of s"
   ]
  },
  {
   "cell_type": "markdown",
   "metadata": {},
   "source": [
    "### To index or not to index?"
   ]
  },
  {
   "cell_type": "markdown",
   "metadata": {},
   "source": [
    "Strings, lists and tuples are indexable with integers. Sets and dictionaries are not.\n",
    "\n",
    "Be careful of things that you think are like a list, but aren't. These include `enumerate`, `zip`, `map` and other objects. None of these are indexable, none of these have a `len` value."
   ]
  },
  {
   "cell_type": "code",
   "execution_count": null,
   "metadata": {},
   "outputs": [
    {
     "name": "stdout",
     "output_type": "stream",
     "text": [
      "<class 'str'>\n",
      "<class 'str'>\n",
      "<class 'str'>\n",
      "<class 'str'>\n",
      "<class 'str'>\n",
      "<class 'str'>\n",
      "<class 'str'>\n",
      "<class 'str'>\n",
      "<class 'str'>\n",
      "<class 'str'>\n"
     ]
    }
   ],
   "source": [
    "numbers = [0, 1, 2, 3, 4, 5, 6, 7, 8, 9]\n",
    "\n",
    "e = enumerate(numbers)\n",
    "# print(e[3])\n",
    "\n",
    "z = zip(numbers)\n",
    "# print(z[3])\n",
    "\n",
    "m = map(str, numbers)\n",
    "# print(m[3])"
   ]
  },
  {
   "cell_type": "markdown",
   "metadata": {},
   "source": [
    "### Best practices in code"
   ]
  },
  {
   "cell_type": "markdown",
   "metadata": {},
   "source": [
    "#### A looping pattern with `range`"
   ]
  },
  {
   "cell_type": "markdown",
   "metadata": {},
   "source": [
    "Because of the way both `range` and `len` work, one can understand that `range(len(s))` will generate all the legal indices for `s`."
   ]
  },
  {
   "cell_type": "code",
   "execution_count": 19,
   "metadata": {},
   "outputs": [
    {
     "name": "stdout",
     "output_type": "stream",
     "text": [
      "[0, 1, 2, 3, 4, 5, 6, 7, 8, 9, 10, 11, 12, 13, 14, 15, 16]\n",
      "I\n",
      "!\n"
     ]
    }
   ],
   "source": [
    "s = \"Indexing is easy!\"\n",
    "print(list(range(len(s))))\n",
    "print(s[0])\n",
    "print(s[16])"
   ]
  },
  {
   "cell_type": "markdown",
   "metadata": {},
   "source": [
    "Thes can lead to an anti-pattern for beginners. To exemplify this, suppose we want to write a program to find unique characters in a string. This is the anti pattern:"
   ]
  },
  {
   "cell_type": "code",
   "execution_count": 23,
   "metadata": {},
   "outputs": [
    {
     "name": "stdout",
     "output_type": "stream",
     "text": [
      "['I', 'n', 'd', 'e', 'x', 'i', 'g', ' ', 's', 'a', 'y', '!']\n"
     ]
    }
   ],
   "source": [
    "s = \"Indexing is easy!\"\n",
    "uniques = []\n",
    "for index in range(len(s)):\n",
    "    if s[index] not in uniques:\n",
    "        uniques.append(s[index])\n",
    "\n",
    "print(uniques)"
   ]
  },
  {
   "cell_type": "markdown",
   "metadata": {},
   "source": [
    "The better solution is to use a set for more efficient implementation:"
   ]
  },
  {
   "cell_type": "code",
   "execution_count": 22,
   "metadata": {},
   "outputs": [
    {
     "name": "stdout",
     "output_type": "stream",
     "text": [
      "{'!', 'd', 'x', 'y', 'e', 'a', 'n', 'I', 'i', ' ', 'g', 's'}\n"
     ]
    }
   ],
   "source": [
    "s = \"Indexing is easy!\"\n",
    "print(set(s))"
   ]
  },
  {
   "cell_type": "markdown",
   "metadata": {},
   "source": [
    "Another way to do it's not using range because of Python's slicing:"
   ]
  },
  {
   "cell_type": "code",
   "execution_count": 24,
   "metadata": {},
   "outputs": [
    {
     "name": "stdout",
     "output_type": "stream",
     "text": [
      "['I', 'n', 'd', 'e', 'x', 'i', 'g', ' ', 's', 'a', 'y', '!']\n"
     ]
    }
   ],
   "source": [
    "s = \"Indexing is easy!\"\n",
    "uniques = []\n",
    "for letter in s:\n",
    "    if letter not in uniques:\n",
    "        uniques.append(letter)\n",
    "\n",
    "print(uniques)"
   ]
  },
  {
   "cell_type": "markdown",
   "metadata": {},
   "source": [
    "If you care about the indices, then use:"
   ]
  },
  {
   "cell_type": "code",
   "execution_count": 27,
   "metadata": {},
   "outputs": [
    {
     "name": "stdout",
     "output_type": "stream",
     "text": [
      "[0, 1, 2, 3, 4, 5, 6, 7, 8, 9, 10, 11, 12, 13, 14, 15, 16]\n"
     ]
    }
   ],
   "source": [
    "s = \"Indexing is easy!\"\n",
    "print(list(range(len(s))))"
   ]
  },
  {
   "cell_type": "markdown",
   "metadata": {},
   "source": [
    "When you need to work with indices and values:"
   ]
  },
  {
   "cell_type": "code",
   "execution_count": 28,
   "metadata": {},
   "outputs": [
    {
     "name": "stdout",
     "output_type": "stream",
     "text": [
      "[(0, 'I'), (1, 'n'), (2, 'd'), (3, 'e'), (4, 'x'), (5, 'i'), (6, 'n'), (7, 'g'), (8, ' '), (9, 'i'), (10, 's'), (11, ' '), (12, 'e'), (13, 'a'), (14, 's'), (15, 'y'), (16, '!')]\n"
     ]
    }
   ],
   "source": [
    "s = \"Indexing is easy!\"\n",
    "print(list(enumerate(s)))"
   ]
  },
  {
   "cell_type": "markdown",
   "metadata": {},
   "source": [
    "#### Large expressions as indices"
   ]
  },
  {
   "cell_type": "markdown",
   "metadata": {},
   "source": [
    "When you are dealing with sequences and indices for those sequences, you may end up needing to perform some calculations to compute new indices. For example, you want the middle element of a string and you don't know about `//` yet:"
   ]
  },
  {
   "cell_type": "code",
   "execution_count": 35,
   "metadata": {},
   "outputs": [
    {
     "ename": "TypeError",
     "evalue": "string indices must be integers, not 'float'",
     "output_type": "error",
     "traceback": [
      "\u001b[0;31m---------------------------------------------------------------------------\u001b[0m",
      "\u001b[0;31mTypeError\u001b[0m                                 Traceback (most recent call last)",
      "Cell \u001b[0;32mIn[35], line 2\u001b[0m\n\u001b[1;32m      1\u001b[0m s \u001b[38;5;241m=\u001b[39m \u001b[38;5;124m\"\u001b[39m\u001b[38;5;124mIndexing is so easy!\u001b[39m\u001b[38;5;124m\"\u001b[39m\n\u001b[0;32m----> 2\u001b[0m \u001b[38;5;28mprint\u001b[39m(\u001b[43ms\u001b[49m\u001b[43m[\u001b[49m\u001b[38;5;28;43mlen\u001b[39;49m\u001b[43m(\u001b[49m\u001b[43ms\u001b[49m\u001b[43m)\u001b[49m\u001b[38;5;241;43m/\u001b[39;49m\u001b[38;5;241;43m2\u001b[39;49m\u001b[43m]\u001b[49m)\n",
      "\u001b[0;31mTypeError\u001b[0m: string indices must be integers, not 'float'"
     ]
    }
   ],
   "source": [
    "s = \"Indexing is so easy!\"\n",
    "print(s[len(s)/2])"
   ]
  },
  {
   "cell_type": "code",
   "execution_count": 34,
   "metadata": {},
   "outputs": [
    {
     "name": "stdout",
     "output_type": "stream",
     "text": [
      "s\n",
      "s\n"
     ]
    }
   ],
   "source": [
    "import math\n",
    "s = \"Indexing is so easy!\"\n",
    "print(s[math.floor(len(s)/2)])\n",
    "print(s[len(s)//2])  # Pro-tip: the operation // is ideal here"
   ]
  },
  {
   "cell_type": "markdown",
   "metadata": {},
   "source": [
    "Another alternative is to create a well-named variable to hold the result of the computation:"
   ]
  },
  {
   "cell_type": "code",
   "execution_count": 36,
   "metadata": {},
   "outputs": [
    {
     "name": "stdout",
     "output_type": "stream",
     "text": [
      "s\n"
     ]
    }
   ],
   "source": [
    "import math\n",
    "s = \"Indexing is so easy!\"\n",
    "mid_char_idx = math.floor(len(s)/2)\n",
    "print(s[mid_char_idx])"
   ]
  },
  {
   "cell_type": "markdown",
   "metadata": {},
   "source": [
    "If you have large expressions to compute indices, consider using an intermediate variable with a descriptive name."
   ]
  },
  {
   "cell_type": "markdown",
   "metadata": {},
   "source": [
    "#### Unpacking with indexing"
   ]
  },
  {
   "cell_type": "markdown",
   "metadata": {},
   "source": [
    "You will find yourself often working with small groups of data, for example pairs of things that you keep together in a small list. For example:"
   ]
  },
  {
   "cell_type": "code",
   "execution_count": 39,
   "metadata": {},
   "outputs": [
    {
     "name": "stdout",
     "output_type": "stream",
     "text": [
      "Hello Miss Doe,\n",
      "Hey there Mary,\n"
     ]
    }
   ],
   "source": [
    "names = [\"Mary\", \"Doe\"]\n",
    "\n",
    "def greet(names, formal):\n",
    "    if formal:\n",
    "        print(f\"Hello Miss {names[1]}\")\n",
    "    else:\n",
    "        print(f\"Hey there {names[0]}\")\n",
    "\n",
    "greet(names, True)\n",
    "greet(names, False)"
   ]
  },
  {
   "cell_type": "markdown",
   "metadata": {},
   "source": [
    "You might consider unpacking the `names`before reach the if statement:"
   ]
  },
  {
   "cell_type": "code",
   "execution_count": 40,
   "metadata": {},
   "outputs": [
    {
     "name": "stdout",
     "output_type": "stream",
     "text": [
      "Hello Miss Doe\n",
      "Hey there Mary\n"
     ]
    }
   ],
   "source": [
    "names = [\"Mary\", \"Doe\"]\n",
    "\n",
    "def greet(names, formal):\n",
    "    first, last = names\n",
    "    if formal:\n",
    "        print(f\"Hello Miss {last}\")\n",
    "    else:\n",
    "        print(f\"Hey there {first}\")\n",
    "\n",
    "greet(names, True)\n",
    "greet(names, False)"
   ]
  },
  {
   "cell_type": "markdown",
   "metadata": {},
   "source": [
    "This makes the intent of the code much more obvious. Just from looking at the function first line we know `names` is supposed to be a pair of names. This forces your greet function to expect a pair of names."
   ]
  },
  {
   "cell_type": "code",
   "execution_count": 83,
   "metadata": {},
   "outputs": [
    {
     "ename": "ValueError",
     "evalue": "too many values to unpack (expected 2)",
     "output_type": "error",
     "traceback": [
      "\u001b[0;31m---------------------------------------------------------------------------\u001b[0m",
      "\u001b[0;31mValueError\u001b[0m                                Traceback (most recent call last)",
      "Cell \u001b[0;32mIn[83], line 11\u001b[0m\n\u001b[1;32m      8\u001b[0m         \u001b[38;5;28mprint\u001b[39m(\u001b[38;5;124mf\u001b[39m\u001b[38;5;124m\"\u001b[39m\u001b[38;5;124mHey there \u001b[39m\u001b[38;5;132;01m{\u001b[39;00mfirst\u001b[38;5;132;01m}\u001b[39;00m\u001b[38;5;124m\"\u001b[39m)\n\u001b[1;32m     10\u001b[0m \u001b[38;5;66;03m# greet(names, True)\u001b[39;00m\n\u001b[0;32m---> 11\u001b[0m \u001b[43mgreet\u001b[49m\u001b[43m(\u001b[49m\u001b[38;5;124;43m\"\u001b[39;49m\u001b[38;5;124;43mMary\u001b[39;49m\u001b[38;5;124;43m\"\u001b[39;49m\u001b[43m,\u001b[49m\u001b[43m \u001b[49m\u001b[38;5;28;43;01mFalse\u001b[39;49;00m\u001b[43m)\u001b[49m\n",
      "Cell \u001b[0;32mIn[83], line 4\u001b[0m, in \u001b[0;36mgreet\u001b[0;34m(names, formal)\u001b[0m\n\u001b[1;32m      3\u001b[0m \u001b[38;5;28;01mdef\u001b[39;00m \u001b[38;5;21mgreet\u001b[39m(names, formal):\n\u001b[0;32m----> 4\u001b[0m     first, last \u001b[38;5;241m=\u001b[39m names\n\u001b[1;32m      5\u001b[0m     \u001b[38;5;28;01mif\u001b[39;00m formal:\n\u001b[1;32m      6\u001b[0m         \u001b[38;5;28mprint\u001b[39m(\u001b[38;5;124mf\u001b[39m\u001b[38;5;124m\"\u001b[39m\u001b[38;5;124mHello Miss \u001b[39m\u001b[38;5;132;01m{\u001b[39;00mlast\u001b[38;5;132;01m}\u001b[39;00m\u001b[38;5;124m\"\u001b[39m)\n",
      "\u001b[0;31mValueError\u001b[0m: too many values to unpack (expected 2)"
     ]
    }
   ],
   "source": [
    "names = [\"Mary\", \"Doe\", \"Jane\"]\n",
    "\n",
    "def greet(names, formal):\n",
    "    first, last = names\n",
    "    if formal:\n",
    "        print(f\"Hello Miss {last}\")\n",
    "    else:\n",
    "        print(f\"Hey there {first}\")\n",
    "\n",
    "# greet(names, True)\n",
    "greet(\"Mary\", False)"
   ]
  },
  {
   "cell_type": "markdown",
   "metadata": {},
   "source": [
    "## Idiomatic sequence slicing"
   ]
  },
  {
   "cell_type": "markdown",
   "metadata": {},
   "source": [
    "### Introduction"
   ]
  },
  {
   "cell_type": "markdown",
   "metadata": {},
   "source": [
    "Slicing is a \"more advanced\" way of accessing portions of sequences"
   ]
  },
  {
   "cell_type": "markdown",
   "metadata": {},
   "source": [
    "### Slicing syntax"
   ]
  },
  {
   "cell_type": "markdown",
   "metadata": {},
   "source": [
    "Slice in Python is the act of accessing a sequence of elements that are extracted from successive positions of a larger sequence.\n",
    "\n",
    "Think of working with the same string as before, and extract \"icing\" from the string"
   ]
  },
  {
   "cell_type": "code",
   "execution_count": null,
   "metadata": {},
   "outputs": [
    {
     "name": "stdout",
     "output_type": "stream",
     "text": [
      "icing\n"
     ]
    }
   ],
   "source": [
    "s = \"Slicing is so easy!\"\n",
    "substring = \"\"\n",
    "\n",
    "for i in range(2, 7):\n",
    "    substring += s[i]\n",
    "\n",
    "print(substring)"
   ]
  },
  {
   "cell_type": "markdown",
   "metadata": {},
   "source": [
    "When you want to slice a sentence you need t use brackets `[]` and a colon `:`to separate the start and end points. The key is to figure out what the start and end points are."
   ]
  },
  {
   "cell_type": "code",
   "execution_count": 45,
   "metadata": {},
   "outputs": [
    {
     "name": "stdout",
     "output_type": "stream",
     "text": [
      "icing\n"
     ]
    }
   ],
   "source": [
    "s = \"Slicing is so easy!\"\n",
    "print(s[2:7])"
   ]
  },
  {
   "cell_type": "markdown",
   "metadata": {},
   "source": [
    "The start point is the index of the first element that is included in the slice, whereas the end point is the index of the first element that is not included in the slice."
   ]
  },
  {
   "cell_type": "markdown",
   "metadata": {},
   "source": [
    "### What to slice?"
   ]
  },
  {
   "cell_type": "markdown",
   "metadata": {},
   "source": [
    "Things that you can slice:\n",
    "- strings\n",
    "- lists\n",
    "- tuples\n",
    "- ranges"
   ]
  },
  {
   "cell_type": "code",
   "execution_count": 1,
   "metadata": {},
   "outputs": [
    {
     "name": "stdout",
     "output_type": "stream",
     "text": [
      "ll\n",
      "[2, 3]\n",
      "(2, 3)\n",
      "range(1, 3)\n",
      "[1, 2]\n"
     ]
    }
   ],
   "source": [
    "print(\"Hello\"[2:4])  # strings\n",
    "\n",
    "print([1, 2, 3, 4][1:3])  # lists\n",
    "\n",
    "print((1, 2, 3, 4)[1:3])  # tuples\n",
    "\n",
    "rg = range(5) # ranges\n",
    "slice = rg[1:3]\n",
    "print(slice)  # outputs: range(1, 3)\n",
    "print(list(slice))  # outputs: [1, 2]"
   ]
  },
  {
   "cell_type": "markdown",
   "metadata": {},
   "source": [
    "### Slicing from the beginning"
   ]
  },
  {
   "cell_type": "markdown",
   "metadata": {},
   "source": [
    "Now assume we want to extract the word \"Slicing\" from the string.\n",
    "\n",
    "Notices that when we use `range` with one argument assumes that the first argument is `0`.\n",
    "\n",
    "When slicing we can do a similar thing:"
   ]
  },
  {
   "cell_type": "code",
   "execution_count": 52,
   "metadata": {},
   "outputs": [
    {
     "name": "stdout",
     "output_type": "stream",
     "text": [
      "Slicing\n",
      "Slicing\n"
     ]
    }
   ],
   "source": [
    "s = \"Slicing is so easy!\"\n",
    "\n",
    "print(s[0:7])\n",
    "print(s[:7])"
   ]
  },
  {
   "cell_type": "markdown",
   "metadata": {},
   "source": [
    "It's like you never tell Python where the slicing starts, so the bar that is hovering the string ends up covering the whole beginning of the string, stopping at the position you indicate."
   ]
  },
  {
   "cell_type": "markdown",
   "metadata": {},
   "source": [
    "### Slicing until the end"
   ]
  },
  {
   "cell_type": "markdown",
   "metadata": {},
   "source": [
    "Similar to omitting the start point, you can omit the end point of the slice.\n",
    "\n",
    "Therefore, if we do not specify the end point, we extract all the elements from the point specified to the end."
   ]
  },
  {
   "cell_type": "code",
   "execution_count": 57,
   "metadata": {},
   "outputs": [
    {
     "name": "stdout",
     "output_type": "stream",
     "text": [
      "is so easy!\n",
      "is so easy!\n"
     ]
    }
   ],
   "source": [
    "s = \"Slicing is so easy!\"\n",
    "print(s[8:len(s)])\n",
    "print(s[8:])"
   ]
  },
  {
   "cell_type": "markdown",
   "metadata": {},
   "source": [
    "### Silicing with negative indices"
   ]
  },
  {
   "cell_type": "markdown",
   "metadata": {},
   "source": [
    "Slicing can also use negative indexes with the same logic as indexing."
   ]
  },
  {
   "cell_type": "code",
   "execution_count": 58,
   "metadata": {},
   "outputs": [
    {
     "name": "stdout",
     "output_type": "stream",
     "text": [
      "icing\n"
     ]
    }
   ],
   "source": [
    "s = \"Slicing is so easy!\"\n",
    "print(s[-17:-12])"
   ]
  },
  {
   "cell_type": "markdown",
   "metadata": {},
   "source": [
    "In fact, using `-17` and `-12` would work in `range` solution but the first one is preferred."
   ]
  },
  {
   "cell_type": "code",
   "execution_count": 59,
   "metadata": {},
   "outputs": [
    {
     "name": "stdout",
     "output_type": "stream",
     "text": [
      "icing\n"
     ]
    }
   ],
   "source": [
    "s = \"Slicing is so easy!\"\n",
    "substring = \"\"\n",
    "for i in range(-17, -12):\n",
    "    substring += s[i]\n",
    "print(substring)"
   ]
  },
  {
   "cell_type": "markdown",
   "metadata": {},
   "source": [
    "### Slicing and `range`"
   ]
  },
  {
   "cell_type": "markdown",
   "metadata": {},
   "source": [
    "If you are looking at a slice and you have no clue what items are going to be picked up by it, try thinking about the slice in this way, with the `range`. "
   ]
  },
  {
   "cell_type": "markdown",
   "metadata": {},
   "source": [
    "### Idiomatic slicing patterns"
   ]
  },
  {
   "cell_type": "markdown",
   "metadata": {},
   "source": [
    "Suppose you have a variable `n` that is a positive integer (think a small integer like `1` or `2`) and supose `s` is some sequence that supports slicing. Here are the 4 idiomatic slicing patterns:\n",
    "- s[n:]\n",
    "- s[-n:]\n",
    "- s[:n]\n",
    "- s[:-n]\n",
    "\n",
    "Why are these \"idiomatic\" slicing patterns? Because with little practice, you stop looking at them as \"slice `s` starting at position blah and ending at position blah\""
   ]
  },
  {
   "cell_type": "code",
   "execution_count": 64,
   "metadata": {},
   "outputs": [
    {
     "name": "stdout",
     "output_type": "stream",
     "text": [
      "icing is so easy!\n",
      "y!\n",
      "Sl\n",
      "Slicing is so eas\n"
     ]
    }
   ],
   "source": [
    "s = \"Slicing is so easy!\"\n",
    "n = 2\n",
    "\n",
    "print(s[n:])\n",
    "print(s[-n:])\n",
    "print(s[:n])\n",
    "print(s[:-n])"
   ]
  },
  {
   "cell_type": "markdown",
   "metadata": {},
   "source": [
    "#### s[n:]"
   ]
  },
  {
   "cell_type": "markdown",
   "metadata": {},
   "source": [
    "If `n` is not negative (so 0 or more), then `s[n:]` means \"skip the first `n` elements of `s`\""
   ]
  },
  {
   "cell_type": "code",
   "execution_count": 67,
   "metadata": {},
   "outputs": [
    {
     "name": "stdout",
     "output_type": "stream",
     "text": [
      "icing is so easy!\n",
      "cing is so easy!\n",
      "ing is so easy!\n"
     ]
    }
   ],
   "source": [
    "s = \"Slicing is so easy!\"\n",
    "\n",
    "print(s[2:])\n",
    "print(s[3:])\n",
    "print(s[4:])"
   ]
  },
  {
   "cell_type": "markdown",
   "metadata": {},
   "source": [
    "#### s[-n:]"
   ]
  },
  {
   "cell_type": "markdown",
   "metadata": {},
   "source": [
    "If `n` is positive (so 1 or more), then `s[-n:]` means \"the last `n` elements of `s`\""
   ]
  },
  {
   "cell_type": "code",
   "execution_count": 68,
   "metadata": {},
   "outputs": [
    {
     "name": "stdout",
     "output_type": "stream",
     "text": [
      "y!\n",
      "sy!\n",
      "asy!\n"
     ]
    }
   ],
   "source": [
    "s = \"Slicing is so easy!\"\n",
    "\n",
    "print(s[-2:])\n",
    "print(s[-3:])\n",
    "print(s[-4:])"
   ]
  },
  {
   "cell_type": "markdown",
   "metadata": {},
   "source": [
    "Careful with `n = 0`, 0 cannot be negative so it will be the first pattern."
   ]
  },
  {
   "cell_type": "markdown",
   "metadata": {},
   "source": [
    "#### s[:n]"
   ]
  },
  {
   "cell_type": "markdown",
   "metadata": {},
   "source": [
    "If `n` is not negative (so 0 or more), then `s[:n]` can be read as \"the first `n` elements of `s`\""
   ]
  },
  {
   "cell_type": "code",
   "execution_count": 69,
   "metadata": {},
   "outputs": [
    {
     "name": "stdout",
     "output_type": "stream",
     "text": [
      "Sl\n",
      "Sli\n",
      "Slic\n"
     ]
    }
   ],
   "source": [
    "s = \"Slicing is so easy!\"\n",
    "\n",
    "print(s[:2])\n",
    "print(s[:3])\n",
    "print(s[:4])"
   ]
  },
  {
   "cell_type": "markdown",
   "metadata": {},
   "source": [
    "#### s[:-n]"
   ]
  },
  {
   "cell_type": "markdown",
   "metadata": {},
   "source": [
    "If `n` is positive (so 1 or more), then `s[:-n]` means \"drop the last `n` elements of `s`\""
   ]
  },
  {
   "cell_type": "code",
   "execution_count": 76,
   "metadata": {},
   "outputs": [
    {
     "name": "stdout",
     "output_type": "stream",
     "text": [
      "Slicing is so eas\n",
      "Slicing is so ea\n",
      "Slicing is so e\n",
      "\n"
     ]
    }
   ],
   "source": [
    "s = \"Slicing is so easy!\"\n",
    "\n",
    "print(s[:-2])\n",
    "print(s[:-3])\n",
    "print(s[:-4])"
   ]
  },
  {
   "cell_type": "markdown",
   "metadata": {},
   "source": [
    "### Empty slices"
   ]
  },
  {
   "cell_type": "markdown",
   "metadata": {},
   "source": [
    "If you get your start and end points mixed uo, you will end up with empty slices, because your start point is to the right of the end point... And because of negative indices, it is not enough to check if the start point is less than the end point."
   ]
  },
  {
   "cell_type": "code",
   "execution_count": null,
   "metadata": {},
   "outputs": [],
   "source": [
    "s = \"Slicing is so easy!\"\n",
    "\n",
    "print(s[10:3])\n",
    "print(s[-6:-10])\n",
    "print(s[-9:3])\n",
    "print(s[10:-10])"
   ]
  },
  {
   "cell_type": "markdown",
   "metadata": {},
   "source": [
    "### More empty slices"
   ]
  },
  {
   "cell_type": "markdown",
   "metadata": {},
   "source": [
    "If you use numbers that are too high or too low, slicing still works and does not raise `IndexError`.\n",
    "\n",
    "If `s[50:]` is \"skip the first 50 elements of s\" and s only has 16 elements then `s[50:]` will be an empty slice."
   ]
  },
  {
   "cell_type": "markdown",
   "metadata": {},
   "source": [
    "### Examples in code"
   ]
  },
  {
   "cell_type": "markdown",
   "metadata": {},
   "source": [
    "#### Ensuring at most `n` elements."
   ]
  },
  {
   "cell_type": "code",
   "execution_count": 83,
   "metadata": {},
   "outputs": [
    {
     "name": "stdout",
     "output_type": "stream",
     "text": [
      "['apple', 'banana', 'cherry']\n"
     ]
    }
   ],
   "source": [
    "ordered = [\"apple\", \"banana\", \"cherry\", \"date\", \"elderberry\"]\n",
    "\n",
    "# Return max 3 elements\n",
    "print(ordered[:3])"
   ]
  },
  {
   "cell_type": "markdown",
   "metadata": {},
   "source": [
    "#### Start/end of a string"
   ]
  },
  {
   "cell_type": "code",
   "execution_count": 87,
   "metadata": {},
   "outputs": [
    {
     "name": "stdout",
     "output_type": "stream",
     "text": [
      "True\n",
      "True\n",
      "True\n"
     ]
    }
   ],
   "source": [
    "my_string = \"Hello, World!\"\n",
    "\n",
    "print(my_string[:5] == \"Hello\")\n",
    "print(my_string.startswith(\"Hello\"))\n",
    "print(my_string.endswith(\"World!\"))"
   ]
  },
  {
   "cell_type": "markdown",
   "metadata": {},
   "source": [
    "#### Removing prefixes and suffixes"
   ]
  },
  {
   "cell_type": "code",
   "execution_count": 89,
   "metadata": {},
   "outputs": [
    {
     "name": "stdout",
     "output_type": "stream",
     "text": [
      "World!\n",
      "Hello, World\n"
     ]
    }
   ],
   "source": [
    "my_string = \"Hello, World!\"\n",
    "print(my_string.removeprefix(\"Hello, \"))\n",
    "print(my_string.removesuffix(\"!\"))"
   ]
  },
  {
   "cell_type": "markdown",
   "metadata": {},
   "source": [
    "## str and repr"
   ]
  },
  {
   "cell_type": "markdown",
   "metadata": {},
   "source": [
    "### Explanation"
   ]
  },
  {
   "cell_type": "markdown",
   "metadata": {},
   "source": [
    "Python has two built-ins mechanism that allow you to convert an object to a string:\n",
    "- `str` class\n",
    "- `repr` built-in function\n",
    "\n",
    "When to use them:\n",
    "- The `str` class is used when you want to convert something to the string type.\n",
    "- The `repr` function is used to create an unambiguos representation of its argument."
   ]
  },
  {
   "cell_type": "markdown",
   "metadata": {},
   "source": [
    "The `print` function calls `str` on its argument then displays it, so both are printed the same way, you have no way to tell if the original object is an integer or a string."
   ]
  },
  {
   "cell_type": "code",
   "execution_count": 2,
   "metadata": {},
   "outputs": [
    {
     "name": "stdout",
     "output_type": "stream",
     "text": [
      "3\n",
      "3\n"
     ]
    }
   ],
   "source": [
    "print(3)\n",
    "print(\"3\")"
   ]
  },
  {
   "cell_type": "markdown",
   "metadata": {},
   "source": [
    "In the REPL returns an unambiguos representation of the object: you can tell integers from strings apart, because REPL is using `repr`."
   ]
  },
  {
   "cell_type": "code",
   "execution_count": 9,
   "metadata": {},
   "outputs": [
    {
     "data": {
      "text/plain": [
       "3"
      ]
     },
     "execution_count": 9,
     "metadata": {},
     "output_type": "execute_result"
    }
   ],
   "source": [
    "3"
   ]
  },
  {
   "cell_type": "code",
   "execution_count": 10,
   "metadata": {},
   "outputs": [
    {
     "data": {
      "text/plain": [
       "'3'"
      ]
     },
     "execution_count": 10,
     "metadata": {},
     "output_type": "execute_result"
    }
   ],
   "source": [
    "\"3\""
   ]
  },
  {
   "cell_type": "markdown",
   "metadata": {},
   "source": [
    "`repr` is also used when your object is inside a container like a list or a dictionary.."
   ]
  },
  {
   "cell_type": "code",
   "execution_count": 12,
   "metadata": {},
   "outputs": [
    {
     "name": "stdout",
     "output_type": "stream",
     "text": [
      "[3, '3']\n"
     ]
    }
   ],
   "source": [
    "print([3, '3'])"
   ]
  },
  {
   "cell_type": "markdown",
   "metadata": {},
   "source": [
    "### The `__str__` and `__repr__` dunder metods"
   ]
  },
  {
   "cell_type": "markdown",
   "metadata": {},
   "source": [
    "If you want to display your objects properly, you will want to implement the `__str__` and `__repr__` dunder methods in your class, and the implementation should follow the use case of `str` and `repr` above: \n",
    "- the implementation of `__str__` should provide a nice, readable representation of the object.\n",
    "- the implementation of `__repr__` should represent unambigusly the object.\n",
    "\n",
    "When implementing custom classes, you should start by implementing `__repr__`, as `__str__` will default to using `__repr__` if no custom implementation is given."
   ]
  },
  {
   "cell_type": "code",
   "execution_count": 13,
   "metadata": {},
   "outputs": [
    {
     "data": {
      "text/plain": [
       "<__main__.A at 0x10c19bd70>"
      ]
     },
     "execution_count": 13,
     "metadata": {},
     "output_type": "execute_result"
    }
   ],
   "source": [
    "class A:\n",
    "    def __str__(self):\n",
    "        return \"A\"\n",
    "\n",
    "a = A()\n",
    "a"
   ]
  },
  {
   "cell_type": "code",
   "execution_count": 14,
   "metadata": {},
   "outputs": [
    {
     "data": {
      "text/plain": [
       "B"
      ]
     },
     "execution_count": 14,
     "metadata": {},
     "output_type": "execute_result"
    }
   ],
   "source": [
    "class B:\n",
    "    def __repr__(self):\n",
    "        return \"B\"\n",
    "b = B()\n",
    "b"
   ]
  },
  {
   "cell_type": "markdown",
   "metadata": {},
   "source": [
    "### Examples in code"
   ]
  },
  {
   "cell_type": "markdown",
   "metadata": {},
   "source": [
    "#### datetime"
   ]
  },
  {
   "cell_type": "markdown",
   "metadata": {},
   "source": [
    "Notice that from its `str` we can't even tell that we were dealing with a `datetime.datetime` object."
   ]
  },
  {
   "cell_type": "code",
   "execution_count": 18,
   "metadata": {},
   "outputs": [
    {
     "name": "stdout",
     "output_type": "stream",
     "text": [
      "2024-01-02 00:00:00\n",
      "datetime.datetime(2024, 1, 2, 0, 0)\n",
      "2024-01-02 00:00:00\n"
     ]
    }
   ],
   "source": [
    "import datetime\n",
    "date = datetime.datetime(2024, 1, 2)\n",
    "\n",
    "print(date)\n",
    "print(repr(date))\n",
    "print(str(date))"
   ]
  },
  {
   "cell_type": "markdown",
   "metadata": {},
   "source": [
    "#### 2D point"
   ]
  },
  {
   "cell_type": "markdown",
   "metadata": {},
   "source": [
    "This is a simple 2D point class with a custom usage of `__str__` and `__repr__`."
   ]
  },
  {
   "cell_type": "code",
   "execution_count": 19,
   "metadata": {},
   "outputs": [
    {
     "name": "stdout",
     "output_type": "stream",
     "text": [
      "To build the point (3, 4) in your code, try writing Point2D(3, 4)\n"
     ]
    }
   ],
   "source": [
    "class Point2D:\n",
    "    \"\"\"A class to represent points in a 2D space.\"\"\"\n",
    "    def __init__(self, x, y):\n",
    "        self.x = x\n",
    "        self.y = y\n",
    "\n",
    "    def __str__(self):\n",
    "        \"\"\"Provide a good looking representation of the object\"\"\"\n",
    "        return f\"({self.x}, {self.y})\"\n",
    "    \n",
    "    def __repr__(self):\n",
    "        \"\"\"Provide a unambigus representation of the object\"\"\"\n",
    "        return f\"Point2D({repr(self.x)}, {repr(self.y)})\"\n",
    "    \n",
    "p = Point2D(3, 4)\n",
    "print(f\"To build the point {p} in your code, try writing {repr(p)}\")"
   ]
  },
  {
   "cell_type": "markdown",
   "metadata": {},
   "source": [
    "## String formatting comparison"
   ]
  },
  {
   "cell_type": "markdown",
   "metadata": {},
   "source": [
    "### Three string formatting methods"
   ]
  },
  {
   "cell_type": "markdown",
   "metadata": {},
   "source": [
    "1. `langugage_info_cstyle` uses old-style string formatting, borrowed from the similar C syntax that does the same thing.\n",
    "2. `language_info_format` uses the string method `.format`, introduced in PEP 3101.\n",
    "3. `language_info_fstring` uses the f-string syntax introduced in PEP 498."
   ]
  },
  {
   "cell_type": "markdown",
   "metadata": {},
   "source": [
    "#### C-style formatting"
   ]
  },
  {
   "cell_type": "markdown",
   "metadata": {},
   "source": [
    "Is characterised by a series of perecent signs (\"%\") that show up in the template.\n",
    "\n",
    "These signs indicate the places where the bits of information should go, and the character that comes next (`%s`.`%d`)\n",
    "\n",
    "The way which we apply the formatting is trough the binary operator `%`: on the left you put the template string, and on the right you put the arguments."
   ]
  },
  {
   "cell_type": "code",
   "execution_count": 7,
   "metadata": {},
   "outputs": [
    {
     "name": "stdout",
     "output_type": "stream",
     "text": [
      "Python rocks! Did you know that Python has around 100 users?!\n"
     ]
    }
   ],
   "source": [
    "phrase = \"%s rocks! Did you know that %s has around %d users?!\" % (\"Python\", \"Python\", 100)\n",
    "print(phrase)"
   ]
  },
  {
   "cell_type": "markdown",
   "metadata": {},
   "source": [
    "#### String method `.format`"
   ]
  },
  {
   "cell_type": "markdown",
   "metadata": {},
   "source": [
    "Is a method of the string type. You typically have a format string and, when you get access to the missing pieces of information, you just call the `.format` method on that string.\n",
    "\n",
    "Strings that use `.format` are characterised by the occurrence of a series of curly braces \"{}\""
   ]
  },
  {
   "cell_type": "code",
   "execution_count": 27,
   "metadata": {},
   "outputs": [
    {
     "name": "stdout",
     "output_type": "stream",
     "text": [
      "Python rocks! Did you know that Python has around 100 users?!\n"
     ]
    }
   ],
   "source": [
    "phrase = \"{} rocks! Did you know that {} has around {} users?!\".format(\"Python\", \"Python\", 100)\n",
    "print(phrase)"
   ]
  },
  {
   "cell_type": "markdown",
   "metadata": {},
   "source": [
    "#### Literal string interpolation, or f-strings"
   ]
  },
  {
   "cell_type": "markdown",
   "metadata": {},
   "source": [
    "Is the process through which you interpolate values into strings.\n",
    "\n",
    "I characterised by the `f` prefix on the string literals, and also the curly braces \"{}\" inside the string.\n",
    "\n",
    "Using a letter as a prefix to a string literal is not an idea introduced by string interpolation."
   ]
  },
  {
   "cell_type": "code",
   "execution_count": 28,
   "metadata": {},
   "outputs": [
    {
     "name": "stdout",
     "output_type": "stream",
     "text": [
      "b'This is a bytes object!'\n",
      "<class 'bytes'>\n",
      "This is a raw string object!\\nThis string contains newline characters.\n",
      "<class 'str'>\n",
      "This is a f-string object!\n",
      "This string contains newline characters.\n",
      "<class 'str'>\n"
     ]
    }
   ],
   "source": [
    "# bytes\n",
    "b_object = b\"This is a bytes object!\"\n",
    "print(b_object)\n",
    "print(type(b_object))\n",
    "\n",
    "# raw\n",
    "r_object = r\"This is a raw string object!\\nThis string contains newline characters.\"\n",
    "print(r_object)\n",
    "print(type(r_object))\n",
    "\n",
    "# fstring\n",
    "f_object = f\"This is a f-string object!\\nThis string contains newline characters.\"\n",
    "print(f_object)\n",
    "print(type(f_object))"
   ]
  },
  {
   "cell_type": "markdown",
   "metadata": {},
   "source": [
    "### Value conversion"
   ]
  },
  {
   "cell_type": "markdown",
   "metadata": {},
   "source": [
    "When doing string formatting, the objects that we want to format into the template string need to be converted to strings.\n",
    "\n",
    "This is done by calling `str`. However, sometimes it's beneficial to have the object be represented with the result from calling `repr`.\n",
    "\n",
    "There are special ways to determine which type of string conversion happens."
   ]
  },
  {
   "cell_type": "code",
   "execution_count": 35,
   "metadata": {},
   "outputs": [
    {
     "name": "stdout",
     "output_type": "stream",
     "text": [
      "str repr\n",
      "str repr\n",
      "str repr\n"
     ]
    }
   ],
   "source": [
    "class Data:\n",
    "    def __str__(self):\n",
    "        return \"str\"\n",
    "    \n",
    "    def __repr__(self):\n",
    "        return \"repr\"\n",
    "\n",
    "data = Data()\n",
    "\n",
    "# C-style formatting\n",
    "my_str = \"%s %r\" % (data, data)\n",
    "print(my_str)\n",
    "\n",
    "# String method `.format`\n",
    "my_str = \"{!s} {!r}\".format(data, data)\n",
    "print(my_str)\n",
    "\n",
    "# Literal string interpolation, or f-strings\n",
    "my_str = f\"{data!s} {data!r}\"\n",
    "print(my_str)\n"
   ]
  },
  {
   "cell_type": "markdown",
   "metadata": {},
   "source": [
    "### Alignment"
   ]
  },
  {
   "cell_type": "markdown",
   "metadata": {},
   "source": [
    "When we need to format many values across many lines, like a table, we might want to align all values and pad them accordingly."
   ]
  },
  {
   "cell_type": "code",
   "execution_count": 12,
   "metadata": {},
   "outputs": [
    {
     "name": "stdout",
     "output_type": "stream",
     "text": [
      "'Python    '\n",
      "'Python    '\n",
      "'Python    '\n"
     ]
    }
   ],
   "source": [
    "lang = \"Python\"\n",
    "\n",
    "# C-style formatting\n",
    "my_str = \"'%-10s'\" % lang\n",
    "print(my_str)\n",
    "\n",
    "# String method `.format`\n",
    "my_str = \"'{:<10}'\".format(lang)\n",
    "print(my_str)\n",
    "\n",
    "# Literal string interpolation, or f-strings\n",
    "my_str = f\"'{lang:<10}'\"\n",
    "print(my_str)"
   ]
  },
  {
   "cell_type": "markdown",
   "metadata": {},
   "source": [
    "The C-styles aligns on the right, whereas `.format` and f-strings align to the left. Hence, we could have written."
   ]
  },
  {
   "cell_type": "code",
   "execution_count": 10,
   "metadata": {},
   "outputs": [
    {
     "name": "stdout",
     "output_type": "stream",
     "text": [
      "'Python    '\n",
      "'Python    '\n"
     ]
    }
   ],
   "source": [
    "# String method `.format`\n",
    "my_str = \"'{:10}'\".format(lang)\n",
    "print(my_str)\n",
    "\n",
    "# Literal string interpolation, or f-strings\n",
    "my_str = f\"'{lang:10}'\"\n",
    "print(my_str)"
   ]
  },
  {
   "cell_type": "markdown",
   "metadata": {},
   "source": [
    "With the two modern methods we can align to the center but not with C-style formatting."
   ]
  },
  {
   "cell_type": "code",
   "execution_count": 44,
   "metadata": {},
   "outputs": [
    {
     "name": "stdout",
     "output_type": "stream",
     "text": [
      "'  Python  '\n",
      "'  Python  '\n"
     ]
    }
   ],
   "source": [
    "# String method `.format`\n",
    "my_str = \"'{:^10}'\".format(lang)\n",
    "print(my_str)\n",
    "\n",
    "# Literal string interpolation, or f-strings\n",
    "my_str = f\"'{lang:^10}'\"\n",
    "print(my_str)"
   ]
  },
  {
   "cell_type": "markdown",
   "metadata": {},
   "source": [
    "To the right."
   ]
  },
  {
   "cell_type": "code",
   "execution_count": 46,
   "metadata": {},
   "outputs": [
    {
     "name": "stdout",
     "output_type": "stream",
     "text": [
      "'    Python'\n",
      "'    Python'\n",
      "'    Python'\n"
     ]
    }
   ],
   "source": [
    "# C-style formatting\n",
    "my_str = \"'%10s'\" % lang\n",
    "print(my_str)\n",
    "\n",
    "# String method `.format`\n",
    "my_str = \"'{:>10}'\".format(lang)\n",
    "print(my_str)\n",
    "\n",
    "# Literal string interpolation, or f-strings\n",
    "my_str = f\"'{lang:>10}'\"\n",
    "print(my_str)"
   ]
  },
  {
   "cell_type": "markdown",
   "metadata": {},
   "source": [
    "### Named placeholders"
   ]
  },
  {
   "cell_type": "markdown",
   "metadata": {},
   "source": [
    "For longer strings, it may be helpful to include placeholder strings. With f-strings this is automatically done, but can also be done with `.format` and C-style formatting."
   ]
  },
  {
   "cell_type": "code",
   "execution_count": 50,
   "metadata": {},
   "outputs": [
    {
     "name": "stdout",
     "output_type": "stream",
     "text": [
      "John Doe is 30 years old\n",
      "John Doe is 30 years old\n",
      "John Doe is 30 years old\n"
     ]
    }
   ],
   "source": [
    "name, age = \"John Doe\", 30\n",
    "\n",
    "# C-style formatting\n",
    "my_str = \"%(name)s is %(age)d years old\" % {\"name\": name, \"age\": age}\n",
    "print(my_str)\n",
    "\n",
    "# String method `.format`\n",
    "my_str = \"{name} is {age} years old\".format(name=name, age=age)\n",
    "print(my_str)\n",
    "\n",
    "# Literal string interpolation, or f-strings\n",
    "my_str = f\"{name} is {age} years old\"\n",
    "print(my_str)"
   ]
  },
  {
   "cell_type": "markdown",
   "metadata": {},
   "source": [
    "### Accessing nested data structures"
   ]
  },
  {
   "cell_type": "markdown",
   "metadata": {},
   "source": [
    "Let's imagine that the name and age were actually stored in a dictionary."
   ]
  },
  {
   "cell_type": "code",
   "execution_count": 53,
   "metadata": {},
   "outputs": [
    {
     "name": "stdout",
     "output_type": "stream",
     "text": [
      "John Doe is 30 years old\n",
      "John Doe is 30 years old\n",
      "John Doe is 30 years old\n"
     ]
    }
   ],
   "source": [
    "data = {\"name\": \"John Doe\", \"age\": 30}\n",
    "\n",
    "# C-style formatting\n",
    "my_str = \"%(name)s is %(age)d years old\" % data\n",
    "print(my_str)\n",
    "\n",
    "# String method `.format`\n",
    "my_str = \"{name} is {age} years old\".format(**data)\n",
    "print(my_str)\n",
    "\n",
    "# Literal string interpolation, or f-strings\n",
    "my_str = f\"{data['name']} is {data['age']} years old\"\n",
    "print(my_str)"
   ]
  },
  {
   "cell_type": "code",
   "execution_count": 57,
   "metadata": {},
   "outputs": [
    {
     "name": "stdout",
     "output_type": "stream",
     "text": [
      "Name is: John Doe\n",
      "Name is: John Doe\n"
     ]
    }
   ],
   "source": [
    "class ConvultedExample:\n",
    "    values = [{\"name\": \"John Doe\", \"age\": 30}, {\"name\": \"Jane Doe\", \"age\": 25}]\n",
    "\n",
    "ce = ConvultedExample()\n",
    "\n",
    "my_str = \"Name is: {ce.values[0][name]}\".format(ce=ce)\n",
    "print(my_str)\n",
    "\n",
    "my_str = f\"Name is: {ce.values[0]['name']}\"\n",
    "print(my_str)"
   ]
  },
  {
   "cell_type": "markdown",
   "metadata": {},
   "source": [
    "### Parametrised formatting"
   ]
  },
  {
   "cell_type": "markdown",
   "metadata": {},
   "source": [
    "Sometimes, you want to do some string formatting, but the exact formatting is dynamic.\n",
    "\n",
    "Say you have a list of companies and their countries of origin, and you want that to be aligned."
   ]
  },
  {
   "cell_type": "code",
   "execution_count": 1,
   "metadata": {},
   "outputs": [
    {
     "name": "stdout",
     "output_type": "stream",
     "text": [
      " Toyota,     Japan\n",
      "   Ford,       USA\n"
     ]
    }
   ],
   "source": [
    "data = [(\"Toyota\", \"Japan\"), (\"Ford\", \"USA\")]\n",
    "\n",
    "for brand, country in data:\n",
    "    print(f\"{brand:>7}, {country:>9}\")"
   ]
  },
  {
   "cell_type": "markdown",
   "metadata": {},
   "source": [
    "The thing is, what if we now include a company with a longer name?"
   ]
  },
  {
   "cell_type": "code",
   "execution_count": 2,
   "metadata": {},
   "outputs": [
    {
     "name": "stdout",
     "output_type": "stream",
     "text": [
      " Toyota,     Japan\n",
      "   Ford,       USA\n",
      "Lamborghini,     Italy\n"
     ]
    }
   ],
   "source": [
    "data = [(\"Toyota\", \"Japan\"), (\"Ford\", \"USA\"), (\"Lamborghini\", \"Italy\")]\n",
    "\n",
    "\n",
    "for brand, country in data:\n",
    "    print(f\"{brand:>7}, {country:>9}\")"
   ]
  },
  {
   "cell_type": "markdown",
   "metadata": {},
   "source": [
    "Output is no longer aligned, we need to dynamically compute the maximum lengths and use them to create the correct format specifications. This is where parametrised formatting comes in handy."
   ]
  },
  {
   "cell_type": "code",
   "execution_count": 4,
   "metadata": {},
   "outputs": [
    {
     "name": "stdout",
     "output_type": "stream",
     "text": [
      "      Toyota,  Japan\n",
      "        Ford,    USA\n",
      " Lamborghini,  Italy\n"
     ]
    }
   ],
   "source": [
    "data = [(\"Toyota\", \"Japan\"), (\"Ford\", \"USA\"), (\"Lamborghini\", \"Italy\")]\n",
    "\n",
    "# Compute brand width and cpuntry with needed for formatting\n",
    "bw = 1 + max(len(brand) for brand, _ in data)\n",
    "cw = 1 + max(len(country) for _, country in data)\n",
    "\n",
    "for brand, country in data:\n",
    "    print(f\"{brand:>{bw}}, {country:>{cw}}\")"
   ]
  },
  {
   "cell_type": "markdown",
   "metadata": {},
   "source": [
    "Old style formatting only allows parametrisation of the width of the field and the precision used. For the string method `.format` and f-strings, parametrisation can be used with all the format specifier options"
   ]
  },
  {
   "cell_type": "code",
   "execution_count": 7,
   "metadata": {},
   "outputs": [
    {
     "name": "stdout",
     "output_type": "stream",
     "text": [
      "Nov = 2.726\n",
      "Nov = 2.726\n",
      "Nov = 2.726\n"
     ]
    }
   ],
   "source": [
    "month = \"November\"\n",
    "prec = 3\n",
    "value = 2.7256\n",
    "\n",
    "# C-style formatting\n",
    "my_str = \"%.*s = %.*f\" % (prec, month, prec, value)\n",
    "print(my_str)\n",
    "\n",
    "# String method `.format`\n",
    "my_str = \"{:.{prec}} = {:.{prec}f}\".format(month, value, prec=prec)\n",
    "print(my_str)\n",
    "\n",
    "# Literal string interpolation, or f-strings\n",
    "my_str = f\"{month:.{prec}} = {value:.{prec}f}\"\n",
    "print(my_str)"
   ]
  },
  {
   "cell_type": "markdown",
   "metadata": {},
   "source": [
    "### Custom formatting"
   ]
  },
  {
   "cell_type": "markdown",
   "metadata": {},
   "source": [
    "The string method `.format` and f-strings allow you to define how your own custom objects should be formatted through the dunder method `__format__`.\n",
    "\n",
    "`__format__` accepts a string (format specification) and it returns the corresponding string."
   ]
  },
  {
   "cell_type": "code",
   "execution_count": 15,
   "metadata": {},
   "outputs": [
    {
     "name": "stdout",
     "output_type": "stream",
     "text": [
      "Y\n",
      "N\n"
     ]
    }
   ],
   "source": [
    "class Person:\n",
    "    def __format__(self, format_spec):\n",
    "        return \"N\" if \"n\" in format_spec else \"Y\"\n",
    "    \n",
    "person = Person()\n",
    "\n",
    "print(\"{:aaabbbccc}\".format(person))\n",
    "print(f\"{person:nope}\")"
   ]
  },
  {
   "cell_type": "markdown",
   "metadata": {},
   "source": [
    "### Examples"
   ]
  },
  {
   "cell_type": "markdown",
   "metadata": {},
   "source": [
    "Better to use f-strings or `.format` than old style except when maintaining legacy code."
   ]
  },
  {
   "cell_type": "markdown",
   "metadata": {},
   "source": [
    "#### Plain formatting"
   ]
  },
  {
   "cell_type": "markdown",
   "metadata": {},
   "source": [
    "F-strings are short, have good locality, and fast."
   ]
  },
  {
   "cell_type": "code",
   "execution_count": 19,
   "metadata": {},
   "outputs": [
    {
     "name": "stdout",
     "output_type": "stream",
     "text": [
      "John Doe 'John Doe'\n",
      "John Doe  \n",
      "John Doe is 30 years old\n",
      " John Doe \n",
      "John Doe 'John Doe'\n",
      "John Doe  \n",
      "John Doe is 30 years old\n",
      " John Doe \n"
     ]
    }
   ],
   "source": [
    "name, age, width = \"John Doe\", 30, 10\n",
    "\n",
    "# Prefer\n",
    "print(f\"{name!s} {name!r}\")\n",
    "print(f\"{name:<10}\")\n",
    "print(f\"{name} is {age} years old\")\n",
    "print(f\"{name:^{width}}\")\n",
    "\n",
    "# Over\n",
    "print(\"{!s} {!r}\".format(name, name))\n",
    "print(\"{:<10}\".format(name))\n",
    "print(\"{name} is {age} years old\".format(name=name, age=age))\n",
    "print(\"{:^{w}}\".format(name, w=width))"
   ]
  },
  {
   "cell_type": "markdown",
   "metadata": {},
   "source": [
    "#### Data in dictionary"
   ]
  },
  {
   "cell_type": "markdown",
   "metadata": {},
   "source": [
    "If all your formatting data is already in a dictionary, then using `.format` might be the best way to go. Because f-strings will be more verbose when compared with the usage of `**` in `.format`."
   ]
  },
  {
   "cell_type": "code",
   "execution_count": 21,
   "metadata": {},
   "outputs": [
    {
     "name": "stdout",
     "output_type": "stream",
     "text": [
      "John Doe is 30 years old\n",
      "John Doe is 30 years old\n"
     ]
    }
   ],
   "source": [
    "data = {\"name\": \"John Doe\", \"age\": 30}\n",
    "\n",
    "# Nice\n",
    "print(\"{name} is {age} years old\".format(**data))\n",
    "\n",
    "# This is cumbersome\n",
    "print(f\"{data['name']} is {data['age']} years old\")"
   ]
  },
  {
   "cell_type": "markdown",
   "metadata": {},
   "source": [
    "#### Deferred formatting"
   ]
  },
  {
   "cell_type": "markdown",
   "metadata": {},
   "source": [
    "If you need to create your formatting string first, and only format it later, then you cannot use f-strings."
   ]
  },
  {
   "cell_type": "code",
   "execution_count": 16,
   "metadata": {},
   "outputs": [
    {
     "data": {
      "text/plain": [
       "'Hello, test'"
      ]
     },
     "execution_count": 16,
     "metadata": {},
     "output_type": "execute_result"
    }
   ],
   "source": [
    "def get_greeting(language):\n",
    "    if language == \"pt\":\n",
    "        return \"Olá, {}\"\n",
    "    else:\n",
    "        return \"Hello, {}\"\n",
    "    \n",
    "lang = input(\" [en/pt] >> \")\n",
    "name = input(\" your name >> \")\n",
    "\n",
    "get_greeting(lang).format(name)"
   ]
  },
  {
   "cell_type": "markdown",
   "metadata": {},
   "source": [
    "## Assignment expressions and the walrus operator `:=`"
   ]
  },
  {
   "cell_type": "markdown",
   "metadata": {},
   "source": [
    "### Walrus operator and assignment expressions"
   ]
  },
  {
   "cell_type": "markdown",
   "metadata": {},
   "source": [
    "The walrus operator is written as `:=` and was introduced in Python 3.8. The walrus operator is used in assignments expressions, which means assignments can now be used as a part of an expression, whereas before the assignments were only possible as statements.\n",
    "\n",
    "An assignment statement assigns a value to a variable name. With an assignment expression, that value can then be immediatly reused."
   ]
  },
  {
   "cell_type": "code",
   "execution_count": 17,
   "metadata": {},
   "outputs": [
    {
     "name": "stdout",
     "output_type": "stream",
     "text": [
      "3\n"
     ]
    }
   ],
   "source": [
    "a = 3\n",
    "print(a)"
   ]
  },
  {
   "cell_type": "code",
   "execution_count": 18,
   "metadata": {},
   "outputs": [
    {
     "ename": "TypeError",
     "evalue": "'b' is an invalid keyword argument for print()",
     "output_type": "error",
     "traceback": [
      "\u001b[0;31m---------------------------------------------------------------------------\u001b[0m",
      "\u001b[0;31mTypeError\u001b[0m                                 Traceback (most recent call last)",
      "Cell \u001b[0;32mIn[18], line 1\u001b[0m\n\u001b[0;32m----> 1\u001b[0m \u001b[38;5;28;43mprint\u001b[39;49m\u001b[43m(\u001b[49m\u001b[43mb\u001b[49m\u001b[43m \u001b[49m\u001b[38;5;241;43m=\u001b[39;49m\u001b[43m \u001b[49m\u001b[38;5;241;43m3\u001b[39;49m\u001b[43m)\u001b[49m\n",
      "\u001b[0;31mTypeError\u001b[0m: 'b' is an invalid keyword argument for print()"
     ]
    }
   ],
   "source": [
    "print(b = 3)"
   ]
  },
  {
   "cell_type": "code",
   "execution_count": 19,
   "metadata": {},
   "outputs": [
    {
     "name": "stdout",
     "output_type": "stream",
     "text": [
      "3\n"
     ]
    }
   ],
   "source": [
    "print(b := 3)"
   ]
  },
  {
   "cell_type": "markdown",
   "metadata": {},
   "source": [
    "A good usage of assignment expressions can help write better code: code that is clearer and runs faster.\n",
    "\n",
    "Assignment expressions should be avoided when they make the code too convoluted. It's better to write readable code."
   ]
  },
  {
   "cell_type": "code",
   "execution_count": 22,
   "metadata": {},
   "outputs": [
    {
     "ename": "SystemExit",
     "evalue": "",
     "output_type": "error",
     "traceback": [
      "An exception has occurred, use %tb to see the full traceback.\n",
      "\u001b[0;31mSystemExit\u001b[0m\n"
     ]
    },
    {
     "name": "stderr",
     "output_type": "stream",
     "text": [
      "/Users/kzms664/Documents/tests_folder/pydonts/venv/lib/python3.12/site-packages/IPython/core/interactiveshell.py:3585: UserWarning: To exit: use 'exit', 'quit', or Ctrl-D.\n",
      "  warn(\"To exit: use 'exit', 'quit', or Ctrl-D.\", stacklevel=1)\n"
     ]
    }
   ],
   "source": [
    "import sys\n",
    "\n",
    "if(i := input())[0] == \"q\" or i == \"exit\":\n",
    "    sys.exit()"
   ]
  },
  {
   "cell_type": "markdown",
   "metadata": {},
   "source": [
    "A better alternative would have been:"
   ]
  },
  {
   "cell_type": "code",
   "execution_count": 23,
   "metadata": {},
   "outputs": [
    {
     "ename": "SystemExit",
     "evalue": "",
     "output_type": "error",
     "traceback": [
      "An exception has occurred, use %tb to see the full traceback.\n",
      "\u001b[0;31mSystemExit\u001b[0m\n"
     ]
    }
   ],
   "source": [
    "import sys\n",
    "\n",
    "i = input()\n",
    "if i[0] == \"q\" or i == \"exit\":\n",
    "    sys.exit()"
   ]
  },
  {
   "cell_type": "markdown",
   "metadata": {},
   "source": [
    "The second alternative is much easier to read than the first one.\n",
    "\n",
    "However, good uses of assignment expressions can:\n",
    "- make your code faster\n",
    "- make it more readable/expressive\n",
    "- make your code shorter"
   ]
  },
  {
   "cell_type": "markdown",
   "metadata": {},
   "source": [
    "### Examples in code"
   ]
  },
  {
   "cell_type": "markdown",
   "metadata": {},
   "source": [
    "#### Controlling a while loop with initialisation"
   ]
  },
  {
   "cell_type": "markdown",
   "metadata": {},
   "source": [
    "Consider the following `while` loop:"
   ]
  },
  {
   "cell_type": "code",
   "execution_count": 26,
   "metadata": {},
   "outputs": [],
   "source": [
    "inp = input()\n",
    "while inp:\n",
    "    eval(inp)\n",
    "    inp = input()"
   ]
  },
  {
   "cell_type": "markdown",
   "metadata": {},
   "source": [
    "This code can be used to create a very basic Python repl inside your Python program, and the REPL stops when given an empty input. First, you have to initialise `inp`, because you want to use it in the `while` condition, but then you have to update `inp` inside the loop.\n",
    "\n",
    "With assignment expressions, the code can be written as:"
   ]
  },
  {
   "cell_type": "code",
   "execution_count": null,
   "metadata": {},
   "outputs": [],
   "source": [
    "while inp := input():\n",
    "    eval(inp)"
   ]
  },
  {
   "cell_type": "markdown",
   "metadata": {},
   "source": [
    "#### Reducing visual noise"
   ]
  },
  {
   "cell_type": "markdown",
   "metadata": {},
   "source": [
    "Say you want to count the number of trailing zeros in an integer. An easy way to do so would be to convert the integer to a string, find its length, and then substract the length of that same string with all its trailing zeroes."
   ]
  },
  {
   "cell_type": "code",
   "execution_count": null,
   "metadata": {},
   "outputs": [],
   "source": [
    "def count_trailing_zeros(n):\n",
    "    s = str(n)\n",
    "    return len(s) - len(s.rstrip(\"0\"))"
   ]
  },
  {
   "cell_type": "markdown",
   "metadata": {},
   "source": [
    "For such a simple function, it kind of looks sad to have such a short `s = str(n)` line. With assignment expressions, you can make the code more concise:"
   ]
  },
  {
   "cell_type": "code",
   "execution_count": null,
   "metadata": {},
   "outputs": [],
   "source": [
    "def count_trailing_zeros(n):\n",
    "    return len(s := str(n)) - len(s.rstrip(\"0\"))"
   ]
  },
  {
   "cell_type": "markdown",
   "metadata": {},
   "source": [
    "#### Reuse computations in list comprehensions"
   ]
  },
  {
   "cell_type": "markdown",
   "metadata": {},
   "source": [
    "Suppose you are writing a list comprehension with an `if` filter, but the filter test in the comprehension uses a value that you also want to use in the list itself.\n",
    "\n",
    "For example, you have a list of integers, and want to keep the factorials of the numbers for which the factorial has more than 50 trailing zeroes."
   ]
  },
  {
   "cell_type": "code",
   "execution_count": null,
   "metadata": {},
   "outputs": [
    {
     "name": "stdout",
     "output_type": "stream",
     "text": [
      "[48119977967797748601669900935813797818348080406726138081308559411630575189001095591292230585206733851868464009619343585194052091124618166270271481881393331431627962810299844149333789044689395510487167879769325303699470467829234399263326545652860748605075746366928323606645492277541120083438086727369377887676000211405318480244354207419604864176969950581435222198851194568984095705945549589054568321792338919149442985919957734792959402499096845643020401869381175603964424333222114125974374817804242633309769804293952870034619354125014210045647664063240162007560108665290568646128342557147350985358724154623253371867470765120422073867963935775258692109753041762094343569050497470353531764481503174750911858230906998361066084787758316110585736013365377431860738572261325738233656835271947352695180865573043834027955539012765489372645042504406597752357481931532872356635411224578334040522294746402829585458478708778346379431862368824819009177091444034885941394319343910223168655869761799669075059527608502465593181398566214786801211651657222004123456498258513120359126022843038535083709796101565934859483203933443308601475813108363074118562404412420191947127585482919172173045961122122701434297870691932154082986945954748251105782181586397275820342101470457300633590139512919549474113721711616912519714191760699935509810254849967087635936181176363954224186031346682928878492872249485456690138831610135377916327940503701400290125509132140782614640495733518048670983360134097860364762638658894873174499870133559364805443430831459505987809215393353387232078177562975021460595422358573128085417162336030235138652735438053034531962620811566019896879275257163988352090874930346115518331202927263708446729394381879888839549731876978682249320628599631628662375508826209854754631984276392670919216923002770077734756077549035942976209159416211581439461484509549370357486770276807687544580164314647595031368948490282897173328013518435758700056425922638411889496527975846052717958044813737086806600171993703579485864029383208714528950303253881360812631162134750100307772634337467012820470715650810714689905121432259528505483053930402217400686061612471659630192434864094539828085677465383026128353771071152304197549798870706139893609140045659756285435787771636258253666592102151236142132724425850991205720020493660580896600891888594659612927724357866265934517615841298789154462249169688860092640284756382431746120357767933119589280468687348061788072986362788582227019465263474828590646048451070702923434422714349595857654843699542321849363652767771978314681013589442955219879702008068934096624650625769705233333462826013860098698155180331145365652453482955497979915586438474687345677874451117702250441711504844638414485210092261397271970571029038581873069951161330495772310508760528249706514238384269808639507080418298318311361373628512041716415196868334254119137139589149597210032153545941114666530498906529240798164804007394775927836045668573993316428972539932745757171947402454257142633700815922407278403640595355142075599446056337986717212316223257763412164180899532722039383244462511410346646148863397237096276822656157561194665545757017429842404840309758925618650507921043007241637877939825811059339138925526124514467627126548126795078784022672860886251974581362141782786407402896309678008909663263987018538107050886193489012497405005820727271232733728141775132722013860591169620692789290456794698409808557447756701311883266010859016027592252397754508251628808293537776536569608111330584797160694847898923196743970244451842702266403326317319092117151143971679500042590269255093130215984418097418435474300467281949798227102529873732749027992079700287275900856241172902880909546551703263202853584498085358955307673717177961902081098618729046348849060249600000000000000000000000000000000000000000000000000000000000000000000000000000000000000000000000000000000000000000000000000000000000000000000000000000000000000000000000000000000000000000000000000000000000000000000000000000000000000000000000000000000000000000000000000000000000000000000000000000000000000000000000000000000000000000000000000000000000000000000000000000000000000]\n"
     ]
    }
   ],
   "source": [
    "from math import factorial\n",
    "\n",
    "def count_trailing_zeros(n):\n",
    "    return len(s := str(n)) - len(s.rstrip(\"0\"))\n",
    "\n",
    "l = [2, 17, 89, 15, 58, 193]\n",
    "facts = [factorial(num) for num in l if count_trailing_zeros(factorial(num)) > 50]\n",
    "print(facts)"
   ]
  },
  {
   "cell_type": "markdown",
   "metadata": {},
   "source": [
    "The problem is that the code above computes the factorial for each number twice, and if numbers get big, this can become really slow. Using assignment expressions, you can compute the factorial once and reuse it:"
   ]
  },
  {
   "cell_type": "code",
   "execution_count": 36,
   "metadata": {},
   "outputs": [
    {
     "name": "stdout",
     "output_type": "stream",
     "text": [
      "[]\n"
     ]
    }
   ],
   "source": [
    "from math import factorial\n",
    "\n",
    "def count_trailing_zeros(n):\n",
    "    return len(s := str(n)) - len(s.rstrip(\"0\"))\n",
    "\n",
    "l = [2, 17, 89, 15, 58, 193]\n",
    "facts = [f for num in l if count_trailing_zeros(f := factorial(num)) > 50]\n",
    "print(facts)"
   ]
  },
  {
   "cell_type": "markdown",
   "metadata": {},
   "source": [
    "The use of `:=` allows to reuse the expensive computaton of the factorial `num`.\n",
    "\n",
    "Two other alternatives without assignment expressions, would be"
   ]
  },
  {
   "cell_type": "code",
   "execution_count": null,
   "metadata": {},
   "outputs": [],
   "source": [
    "from math import factorial\n",
    "\n",
    "l = [2, 17, 89, 15, 58, 193]\n",
    "\n",
    "# Alternative 1\n",
    "facts = [factorial(num) for num in l]\n",
    "facts = [num for num in facts if count_trailing_zeros(num) > 50]\n",
    "\n",
    "# Alternative 2\n",
    "facts = [num for num in map(factorial, l) if count_trailing_zeros(num) > 50]"
   ]
  },
  {
   "cell_type": "markdown",
   "metadata": {},
   "source": [
    "The second one can be more efficient because it only computes the factorials as they are needed."
   ]
  },
  {
   "cell_type": "markdown",
   "metadata": {},
   "source": [
    "#### Flattening related logic"
   ]
  },
  {
   "cell_type": "markdown",
   "metadata": {},
   "source": [
    "Imagine you reach a point in your code where you need to pick an operation to do to your data, and you have a series of things you would like to try.\n",
    "\n",
    "As a very simple example, suppose you have a string that may contain an email or a phone number."
   ]
  },
  {
   "cell_type": "code",
   "execution_count": null,
   "metadata": {},
   "outputs": [],
   "source": [
    "import re\n",
    "\n",
    "string = input(\"Your contact info: >> \")\n",
    "email = re.search(r\"\\b(\\w+@\\w+\\.com)\\b\", string)\n",
    "\n",
    "if email:\n",
    "    print(f\"Email found: {email.group(1)}\")\n",
    "else:\n",
    "    phone = re.search(r\"\\d{9}\", string)\n",
    "    if phone:\n",
    "        print(f\"Phone number found: {phone.group(0)}\")\n",
    "    else:\n",
    "        print(\"No email or phone number found.\")"
   ]
  },
  {
   "cell_type": "markdown",
   "metadata": {},
   "source": [
    "Notice the code above is nested but the logic is flat: look for successive things and stop as soon as we find something."
   ]
  },
  {
   "cell_type": "code",
   "execution_count": null,
   "metadata": {},
   "outputs": [],
   "source": [
    "import re\n",
    "\n",
    "string = input(\"Your contact info: >> \")\n",
    "\n",
    "if email := re.search(r\"\\b(\\w+@\\w+\\.com)\\b\", string):\n",
    "    print(f\"Email found: {email.group(1)}\")\n",
    "elif phone := re.search(r\"\\d{9}\", string):\n",
    "    print(f\"Phone number found: {phone.group(0)}\")\n",
    "else:\n",
    "    print(\"No email or phone number found.\")"
   ]
  },
  {
   "cell_type": "markdown",
   "metadata": {},
   "source": [
    "## String translate ande maketrans methods"
   ]
  },
  {
   "cell_type": "markdown",
   "metadata": {},
   "source": [
    "### `str.translate`"
   ]
  },
  {
   "cell_type": "markdown",
   "metadata": {},
   "source": [
    "`str.translate(table)` method returns a copy of the string in which each character has been mapped through the given translation table.\n",
    "\n",
    "The translationt able being mentioned here is the only argument thath `str.translate` accepts.\n",
    "\n",
    "In its simplest form `str.translate` is similar to the method `str.replace`"
   ]
  },
  {
   "cell_type": "code",
   "execution_count": 13,
   "metadata": {},
   "outputs": [
    {
     "name": "stdout",
     "output_type": "stream",
     "text": [
      "HeLLo, WorLd!\n"
     ]
    }
   ],
   "source": [
    "my_string = \"Hello, World!\"\n",
    "print(my_string.replace(\"l\", \"L\"))\n"
   ]
  },
  {
   "cell_type": "markdown",
   "metadata": {},
   "source": [
    "#### Character code points"
   ]
  },
  {
   "cell_type": "markdown",
   "metadata": {},
   "source": [
    "Unicode is an standar to map characters to numbers.\n",
    "\n",
    "Python provides two useful built-in functions to do these conversions:\n",
    "- `chr`\n",
    "- `ord`"
   ]
  },
  {
   "cell_type": "code",
   "execution_count": 18,
   "metadata": {},
   "outputs": [
    {
     "name": "stdout",
     "output_type": "stream",
     "text": [
      "65\n",
      "97\n",
      "32\n",
      "A\n",
      "a\n",
      " \n",
      "🐍\n"
     ]
    }
   ],
   "source": [
    "print(ord(\"A\"))\n",
    "print(ord(\"a\"))\n",
    "print(ord(\" \"))\n",
    "\n",
    "print(chr(65))\n",
    "print(chr(97))\n",
    "print(chr(32))\n",
    "print(chr(128013))"
   ]
  },
  {
   "cell_type": "markdown",
   "metadata": {},
   "source": [
    "`chr` takes an integer and returns the character that the integer represents.\n",
    "\n",
    "`ord` takes a character and returns the integer correspoindinto its Unicode code point.\n",
    "\n",
    "The \"code point\" of a character is the integer that corresponds to it in the standard being used - Unicode standard in the case of Python."
   ]
  },
  {
   "cell_type": "markdown",
   "metadata": {},
   "source": [
    "#### Translation dictionaries"
   ]
  },
  {
   "cell_type": "markdown",
   "metadata": {},
   "source": [
    "The translation dict that is fed as an argument to `str.translate` specifies substitutions that are going to take place in the target string.\n",
    "\n",
    "The dictionary needs to map Unicode code points to other Unicode points, to other strings, or to `None`."
   ]
  },
  {
   "cell_type": "code",
   "execution_count": 37,
   "metadata": {},
   "outputs": [
    {
     "name": "stdout",
     "output_type": "stream",
     "text": [
      "97 98 99\n",
      "65\n",
      "AAA BBBBBBBBB \n",
      "Hey, AAA BBBBBBBBB , how Are you?\n"
     ]
    }
   ],
   "source": [
    "print(ord(\"a\"), ord(\"b\"), ord(\"c\"))\n",
    "print(ord(\"A\"))\n",
    "\n",
    "translaton = \"aaa bbb ccc\".translate({97:65, 98:\"BBB\", 99:None})\n",
    "print(translaton)\n",
    "\n",
    "other_trans = \"Hey, aaa bbb ccc, how are you?\".translate({97:65, 98:\"BBB\", 99:None})\n",
    "print(other_trans)"
   ]
  },
  {
   "cell_type": "markdown",
   "metadata": {},
   "source": [
    "### Non-equivalence to `str.replace`"
   ]
  },
  {
   "cell_type": "markdown",
   "metadata": {},
   "source": [
    "Rewriting this using `str.replace`."
   ]
  },
  {
   "cell_type": "code",
   "execution_count": 23,
   "metadata": {},
   "outputs": [
    {
     "name": "stdout",
     "output_type": "stream",
     "text": [
      "Hey, AAA BBBBBBBBB , how Are you?\n"
     ]
    }
   ],
   "source": [
    "my_str = \"Hey, aaa bbb ccc, how are you?\"\n",
    "from_ = \"abc\"\n",
    "to_ = [\"A\", \"BBB\", \"\"]\n",
    "\n",
    "for f,t in zip(from_, to_):\n",
    "    my_str = my_str.replace(f, t)\n",
    "\n",
    "print(my_str)"
   ]
  },
  {
   "cell_type": "markdown",
   "metadata": {},
   "source": [
    "This is doing more work than `str.translate` because for every loop iteration the `str.replace` has to go over the whole string looking for the characters to replace."
   ]
  },
  {
   "cell_type": "markdown",
   "metadata": {},
   "source": [
    "What if we wanted to take a sring of zeroes and ones and replace all zeroes with ones, and vice-versa? Here's the solution with `str.replace`."
   ]
  },
  {
   "cell_type": "code",
   "execution_count": 24,
   "metadata": {},
   "outputs": [
    {
     "name": "stdout",
     "output_type": "stream",
     "text": [
      "000000000000000\n"
     ]
    }
   ],
   "source": [
    "s = \"001011010101001\"\n",
    "from_ = \"01\"\n",
    "to_ = \"10\"\n",
    "\n",
    "for f,t in zip(from_, to_):\n",
    "    s = s.replace(f, t)\n",
    "print(s)"
   ]
  },
  {
   "cell_type": "markdown",
   "metadata": {},
   "source": [
    "This did not work because the first iteration converts all into ones and the second iteration has no way to know what ones are original and which ones used to be zeroes. \n",
    "\n",
    "In order to achieve the correct effect, we need `str.translate`."
   ]
  },
  {
   "cell_type": "code",
   "execution_count": 25,
   "metadata": {},
   "outputs": [
    {
     "name": "stdout",
     "output_type": "stream",
     "text": [
      "110100101010110\n"
     ]
    }
   ],
   "source": [
    "s = \"001011010101001\".translate({ord(\"0\"):\"1\", ord(\"1\"):\"0\"})\n",
    "print(s)"
   ]
  },
  {
   "cell_type": "markdown",
   "metadata": {},
   "source": [
    "### Generic translation tables"
   ]
  },
  {
   "cell_type": "markdown",
   "metadata": {},
   "source": [
    "`str.translate`accepts a \"translation table\", but that table does not need to be a dictionary. It can be any object that supports indexing with square brackets. People use mappings or sequences, but you can use your own custom objects."
   ]
  },
  {
   "cell_type": "code",
   "execution_count": 4,
   "metadata": {},
   "outputs": [
    {
     "name": "stdout",
     "output_type": "stream",
     "text": [
      "[0, 1, 2, 3, 4, 5, 6, 7, 8, 9, 10, 11, 12, 13, 14, 15, 16, 17, 18, 19, 20, 21, 22, 23, 24, 25, 26, 27, 28, 29, 30, 31, 32, 33, 34, 35, 36, 37, 38, 39, 40, 41, 42, 43, 44, 45, 46, 47, 48, 49, 50, 51, 52, 53, 54, 55, 56, 57, 58, 59, 60, 61, 62, 63, 64, 65, 66, 67, 68, 69, 70, 71, 72, 73, 74, 75, 76, 77, 78, 79, 80, 81, 82, 83, 84, 85, 86, 87, 88, 89, 90]\n",
      "[0, 1, 2, 3, 4, 5, 6, 7, 8, 9, 10, 11, 12, 13, 14, 15, 16, 17, 18, 19, 20, 21, 22, 23, 24, 25, 26, 27, 28, 29, 30, 31, 32, 33, 34, 35, 36, 37, 38, 39, 40, 41, 42, 43, 44, 45, 46, 47, 48, 49, 50, 51, 52, 53, 54, 55, 56, 57, 58, 59, 60, 61, 62, 63, 64, 'aa', 'bb', 'cc', 'dd', 'ee', 'ff', 'gg', 'hh', 'ii', 'jj', 'kk', 'll', 'mm', 'nn', 'oo', 'pp', 'qq', 'rr', 'ss', 'tt', 'uu', 'vv', 'ww', 'xx', 'yy', 'zz']\n",
      "hhey, what's uupp?\n"
     ]
    }
   ],
   "source": [
    "translation_table = [i for i in range(91)]\n",
    "print(translation_table)\n",
    "\n",
    "for letter in \"ABCDEFGHIJKLMNOPQRSTUVWXYZ\":\n",
    "    translation_table[ord(letter)] = 2 * letter.lower()\n",
    "\n",
    "print(translation_table)\n",
    "\n",
    "translation = \"Hey, what's UP?\".translate(translation_table)\n",
    "print(translation)"
   ]
  },
  {
   "cell_type": "markdown",
   "metadata": {},
   "source": [
    "### `str.maketrans`"
   ]
  },
  {
   "cell_type": "markdown",
   "metadata": {},
   "source": [
    "The method `str.maketrans` is a utility method that provides for a convenient way of creating translations tables that can be used with `str.translate`.\n",
    "\n",
    "`str.maketrans` accepts up to 3 arguments, so let's break them down."
   ]
  },
  {
   "cell_type": "markdown",
   "metadata": {},
   "source": [
    "#### Single argument"
   ]
  },
  {
   "cell_type": "markdown",
   "metadata": {},
   "source": [
    "The version of `str.maketrans` that only accepts one argument has the purpose of making it simpler for us, users, to define dictionaries that can be used with `str.translate`.\n",
    "\n",
    "When using dictionaries as translation tables we need to make sure that the keys of the dictionary are the code points of the characters we want to replace.\n",
    "\n",
    "This introduces some boilerplate, because we know the characters we want to replace, not their code points, so we need to do the conversion by hand previously, or when defining the dictionary with `ord`.\n",
    "\n",
    "This is ugly:"
   ]
  },
  {
   "cell_type": "code",
   "execution_count": null,
   "metadata": {},
   "outputs": [
    {
     "data": {
      "text/plain": [
       "'110100101010110'"
      ]
     },
     "execution_count": 5,
     "metadata": {},
     "output_type": "execute_result"
    }
   ],
   "source": [
    "\"001011010101001\".translate(\n",
    "    {ord(\"0\"): \"1\", ord(\"1\"): \"0\"}\n",
    ")"
   ]
  },
  {
   "cell_type": "markdown",
   "metadata": {},
   "source": [
    "It would be better if we could just write the dictionary in its most natural form, for this we need to use `str.maketrans`"
   ]
  },
  {
   "cell_type": "code",
   "execution_count": 1,
   "metadata": {},
   "outputs": [
    {
     "data": {
      "text/plain": [
       "'110100101010110'"
      ]
     },
     "execution_count": 1,
     "metadata": {},
     "output_type": "execute_result"
    }
   ],
   "source": [
    "\"001011010101001\".translate(\n",
    "    str.maketrans({\"0\": \"1\", \"1\": \"0\"})\n",
    ")"
   ]
  },
  {
   "cell_type": "markdown",
   "metadata": {},
   "source": [
    "#### Two arguments"
   ]
  },
  {
   "cell_type": "markdown",
   "metadata": {},
   "source": [
    "In the previous example we replaced some characters with some other single characters.\n",
    "\n",
    "This is so common, that the method `str.maketrans` can be used to create translation tables of this sort. For that the first argument to `str.maketrans` should be a string consisting of the characters to be replaced, and the second argument is the string with the corresponding new characters."
   ]
  },
  {
   "cell_type": "code",
   "execution_count": 13,
   "metadata": {},
   "outputs": [
    {
     "data": {
      "text/plain": [
       "'110100101010110'"
      ]
     },
     "execution_count": 13,
     "metadata": {},
     "output_type": "execute_result"
    }
   ],
   "source": [
    "\"001011010101001\".translate(\n",
    "    str.maketrans(\"01\", \"10\")\n",
    ")"
   ]
  },
  {
   "cell_type": "code",
   "execution_count": 12,
   "metadata": {},
   "outputs": [
    {
     "data": {
      "text/plain": [
       "'#0F45CD'"
      ]
     },
     "execution_count": 12,
     "metadata": {},
     "output_type": "execute_result"
    }
   ],
   "source": [
    "\"#0F45cd\".translate(\n",
    "    str.maketrans(\"abcdef\", \"ABCDEF\")\n",
    ")"
   ]
  },
  {
   "cell_type": "markdown",
   "metadata": {},
   "source": [
    "#### The third argument"
   ]
  },
  {
   "cell_type": "markdown",
   "metadata": {},
   "source": [
    "The third argument to `str.translate` is simply a string of all the characters that should be mapped to `None` or, on other words, that should be removed altogether from the string."
   ]
  },
  {
   "cell_type": "code",
   "execution_count": 15,
   "metadata": {},
   "outputs": [
    {
     "data": {
      "text/plain": [
       "'0F45CD'"
      ]
     },
     "execution_count": 15,
     "metadata": {},
     "output_type": "execute_result"
    }
   ],
   "source": [
    "\"# 0F45cd\".translate(\n",
    "    str.maketrans(\"abcdef\", \"ABCDEF\", \"# \")\n",
    ")"
   ]
  },
  {
   "cell_type": "markdown",
   "metadata": {},
   "source": [
    "### Examples in code"
   ]
  },
  {
   "cell_type": "markdown",
   "metadata": {},
   "source": [
    "#### Caesar cipher"
   ]
  },
  {
   "cell_type": "markdown",
   "metadata": {},
   "source": [
    "Caesar cipher is a function that takes two arguments. The first, a string, specifies some text. The second, an integer, specifies an integer key. Then, the upper case letters of the argument string should be shifted, along the alphabet, by the amount specified by the key."
   ]
  },
  {
   "cell_type": "code",
   "execution_count": 2,
   "metadata": {},
   "outputs": [
    {
     "name": "stdout",
     "output_type": "stream",
     "text": [
      "ABCDEFGHIJKLMNOPQRSTUVWXYZ\n"
     ]
    },
    {
     "data": {
      "text/plain": [
       "'OLSSV'"
      ]
     },
     "execution_count": 2,
     "metadata": {},
     "output_type": "execute_result"
    }
   ],
   "source": [
    "from string import ascii_uppercase\n",
    "\n",
    "ABC = ascii_uppercase\n",
    "\n",
    "print(ABC)\n",
    "\n",
    "\n",
    "def caesar(msg, key):\n",
    "    return msg.translate(\n",
    "        str.maketrans(ABC, ABC[key:] + ABC[:key])\n",
    "    )\n",
    "\n",
    "caesar(\"HELLO\", 7)"
   ]
  },
  {
   "cell_type": "markdown",
   "metadata": {},
   "source": [
    "#### Sanitising file names"
   ]
  },
  {
   "cell_type": "code",
   "execution_count": 3,
   "metadata": {},
   "outputs": [
    {
     "data": {
      "text/plain": [
       "'My_File'"
      ]
     },
     "execution_count": 3,
     "metadata": {},
     "output_type": "execute_result"
    }
   ],
   "source": [
    "def sanitize_windows_name(arcname):\n",
    "    illegal = ':<>|\"?*'\n",
    "    table = str.maketrans(illegal, '_' * len(illegal))\n",
    "    return arcname.translate(table)\n",
    "\n",
    "sanitize_windows_name(\"My:File\")"
   ]
  },
  {
   "cell_type": "markdown",
   "metadata": {},
   "source": [
    "## Conditional expressions\n"
   ]
  },
  {
   "cell_type": "markdown",
   "metadata": {},
   "source": [
    "### What is a conditional expression?"
   ]
  },
  {
   "cell_type": "markdown",
   "metadata": {},
   "source": [
    "A conditional expression in Python is an expression whose value depends on a condition."
   ]
  },
  {
   "cell_type": "markdown",
   "metadata": {},
   "source": [
    "#### Expresions and statements"
   ]
  },
  {
   "cell_type": "code",
   "execution_count": 4,
   "metadata": {},
   "outputs": [
    {
     "data": {
      "text/plain": [
       "23"
      ]
     },
     "execution_count": 4,
     "metadata": {},
     "output_type": "execute_result"
    }
   ],
   "source": [
    "3 + 4 * 5"
   ]
  },
  {
   "cell_type": "markdown",
   "metadata": {},
   "source": [
    "This code is an expression, and that that expression evaluates to 23.\n",
    "\n",
    "Some pieces of code are not expressions. For example, `pass` is just a statement, it does not \"have\" or \"evaluate to\" any result.\n",
    "\n",
    "Easy way to identify expressions try to stick it in a `print` function. Expressions can be used inside other expressions. Statements not because print want to print *something* but p.e. `pass` gives nothing."
   ]
  },
  {
   "cell_type": "code",
   "execution_count": 30,
   "metadata": {},
   "outputs": [
    {
     "name": "stdout",
     "output_type": "stream",
     "text": [
      "23\n"
     ]
    }
   ],
   "source": [
    "print(3 + 4 * 5)"
   ]
  },
  {
   "cell_type": "code",
   "execution_count": 5,
   "metadata": {},
   "outputs": [
    {
     "ename": "SyntaxError",
     "evalue": "invalid syntax (635316705.py, line 1)",
     "output_type": "error",
     "traceback": [
      "\u001b[0;36m  Cell \u001b[0;32mIn[5], line 1\u001b[0;36m\u001b[0m\n\u001b[0;31m    print(pass)\u001b[0m\n\u001b[0m          ^\u001b[0m\n\u001b[0;31mSyntaxError\u001b[0m\u001b[0;31m:\u001b[0m invalid syntax\n"
     ]
    }
   ],
   "source": [
    "print(pass)"
   ]
  },
  {
   "cell_type": "markdown",
   "metadata": {},
   "source": [
    "#### Conditions"
   ]
  },
  {
   "cell_type": "markdown",
   "metadata": {},
   "source": [
    "We are very used to using `if` statements to run pieces of code when certain conditions are met. Rewording that, a condition can dictate what piece of code run.\n",
    "\n",
    "In conditional expressions, we will use a condition to change the value to which the expression evaluates."
   ]
  },
  {
   "cell_type": "markdown",
   "metadata": {},
   "source": [
    "#### Syntax"
   ]
  },
  {
   "cell_type": "markdown",
   "metadata": {},
   "source": [
    "A conditional expression is composed of 3 sub-expressions and the keywords `if` and `else`. None of these components are optional. All of them have to be present."
   ]
  },
  {
   "cell_type": "code",
   "execution_count": null,
   "metadata": {},
   "outputs": [],
   "source": [
    "expression_if_true if condition else expression_if_false"
   ]
  },
  {
   "cell_type": "markdown",
   "metadata": {},
   "source": [
    "First, `condition` is evaluated. Then depending on whether `condition` evaluates to Thruty or Falsy, the expression evaluates `expression_if_true` or `expression_if_false`.\n",
    "\n",
    "`expression_if_true` and `expression_if_false` can themselves be expressions. This means they can be simple literal values like `42` or other complicated expressions like other conditional expressions."
   ]
  },
  {
   "cell_type": "markdown",
   "metadata": {},
   "source": [
    "#### Examples of conditional expressions"
   ]
  },
  {
   "cell_type": "code",
   "execution_count": 32,
   "metadata": {},
   "outputs": [
    {
     "data": {
      "text/plain": [
       "42"
      ]
     },
     "execution_count": 32,
     "metadata": {},
     "output_type": "execute_result"
    }
   ],
   "source": [
    "42 if True else 0"
   ]
  },
  {
   "cell_type": "code",
   "execution_count": 6,
   "metadata": {},
   "outputs": [
    {
     "data": {
      "text/plain": [
       "0"
      ]
     },
     "execution_count": 6,
     "metadata": {},
     "output_type": "execute_result"
    }
   ],
   "source": [
    "42 if False else 0"
   ]
  },
  {
   "cell_type": "code",
   "execution_count": 34,
   "metadata": {},
   "outputs": [
    {
     "data": {
      "text/plain": [
       "'mathsapp'"
      ]
     },
     "execution_count": 34,
     "metadata": {},
     "output_type": "execute_result"
    }
   ],
   "source": [
    "\"Mathsapp\".lower() if pow(3, 27, 10) > 5 else \"Oh boy\""
   ]
  },
  {
   "cell_type": "markdown",
   "metadata": {},
   "source": [
    "#### Reading a conditional expression"
   ]
  },
  {
   "cell_type": "markdown",
   "metadata": {},
   "source": [
    "While the conditional expression presents the operands in an order that may throw you off, it is easy to read it as an English sentence."
   ]
  },
  {
   "cell_type": "code",
   "execution_count": null,
   "metadata": {},
   "outputs": [],
   "source": [
    "value if condition else other_value"
   ]
  },
  {
   "cell_type": "markdown",
   "metadata": {},
   "source": [
    "This can be read as:\n",
    "\n",
    "\"Evaluate to value if condition is true, otherwise evaluate to other_value\"\n",
    "\n",
    "or \n",
    "\n",
    "\"Give value if condition is true and other_value otherwise\""
   ]
  },
  {
   "cell_type": "markdown",
   "metadata": {},
   "source": [
    "#### Does Python have a ternary operator?"
   ]
  },
  {
   "cell_type": "markdown",
   "metadata": {},
   "source": [
    "Many other languages have a ternary operator that looks like `condition ? expr_if_true : expr_if_false`. Python does not have such ternary operator, but conditional expressions are similar."
   ]
  },
  {
   "cell_type": "markdown",
   "metadata": {},
   "source": [
    "### Rationale"
   ]
  },
  {
   "cell_type": "markdown",
   "metadata": {},
   "source": [
    "Programmers are often faced with a situation where they have to pick one of two values."
   ]
  },
  {
   "cell_type": "markdown",
   "metadata": {},
   "source": [
    "#### Examples with `if` statements"
   ]
  },
  {
   "cell_type": "markdown",
   "metadata": {},
   "source": [
    "computing the pairty of an integer"
   ]
  },
  {
   "cell_type": "code",
   "execution_count": 35,
   "metadata": {},
   "outputs": [
    {
     "name": "stdout",
     "output_type": "stream",
     "text": [
      "odd\n",
      "even\n"
     ]
    }
   ],
   "source": [
    "def pairity(n):\n",
    "    if n % 2:\n",
    "        return \"odd\"\n",
    "    else:\n",
    "        return \"even\"\n",
    "    \n",
    "print(pairity(15))\n",
    "print(pairity(42))"
   ]
  },
  {
   "cell_type": "markdown",
   "metadata": {},
   "source": [
    "computing absolute value of a number (there's already a built-in function in Python)"
   ]
  },
  {
   "cell_type": "code",
   "execution_count": 37,
   "metadata": {},
   "outputs": [
    {
     "name": "stdout",
     "output_type": "stream",
     "text": [
      "10\n",
      "42\n"
     ]
    }
   ],
   "source": [
    "def absolute_number(x):\n",
    "    if x > 0:\n",
    "        return x\n",
    "    else:\n",
    "        return -x\n",
    "    \n",
    "print(absolute_number(-10))\n",
    "print(absolute_number(42))"
   ]
  },
  {
   "cell_type": "markdown",
   "metadata": {},
   "source": [
    "#### Refactored examples"
   ]
  },
  {
   "cell_type": "code",
   "execution_count": 38,
   "metadata": {},
   "outputs": [
    {
     "name": "stdout",
     "output_type": "stream",
     "text": [
      "odd\n",
      "even\n"
     ]
    }
   ],
   "source": [
    "def pairity(n):\n",
    "    return \"odd\" if n % 2 else \"even\"\n",
    "\n",
    "print(pairity(15))\n",
    "print(pairity(42))"
   ]
  },
  {
   "cell_type": "code",
   "execution_count": 39,
   "metadata": {},
   "outputs": [
    {
     "name": "stdout",
     "output_type": "stream",
     "text": [
      "10\n",
      "42\n"
     ]
    }
   ],
   "source": [
    "def absolute_number(x):\n",
    "    return x if x > 0 else -x\n",
    "\n",
    "print(absolute_number(-10))\n",
    "print(absolute_number(42))"
   ]
  },
  {
   "cell_type": "markdown",
   "metadata": {},
   "source": [
    "### Short-circuiting"
   ]
  },
  {
   "cell_type": "markdown",
   "metadata": {},
   "source": [
    "Conditional expressions also short-circuit. Example:"
   ]
  },
  {
   "cell_type": "code",
   "execution_count": 40,
   "metadata": {},
   "outputs": [
    {
     "name": "stdout",
     "output_type": "stream",
     "text": [
      "A\n",
      "65\n",
      "f\n",
      "102\n"
     ]
    }
   ],
   "source": [
    "def ucs(x):\n",
    "    if isinstance(x, int):\n",
    "        return chr(x)\n",
    "    else:\n",
    "        return ord(x)\n",
    "    \n",
    "print(ucs(65))\n",
    "print(ucs(\"A\"))\n",
    "print(ucs(102))\n",
    "print(ucs(\"f\"))"
   ]
  },
  {
   "cell_type": "markdown",
   "metadata": {},
   "source": [
    "we need to consider that `ord` throws an error when called on integers, and `chr` fails when called on characters"
   ]
  },
  {
   "cell_type": "code",
   "execution_count": 9,
   "metadata": {},
   "outputs": [
    {
     "ename": "TypeError",
     "evalue": "'str' object cannot be interpreted as an integer",
     "output_type": "error",
     "traceback": [
      "\u001b[0;31m---------------------------------------------------------------------------\u001b[0m",
      "\u001b[0;31mTypeError\u001b[0m                                 Traceback (most recent call last)",
      "Cell \u001b[0;32mIn[9], line 2\u001b[0m\n\u001b[1;32m      1\u001b[0m \u001b[38;5;66;03m# ord(65)\u001b[39;00m\n\u001b[0;32m----> 2\u001b[0m \u001b[38;5;28;43mchr\u001b[39;49m\u001b[43m(\u001b[49m\u001b[38;5;124;43m\"\u001b[39;49m\u001b[38;5;124;43mf\u001b[39;49m\u001b[38;5;124;43m\"\u001b[39;49m\u001b[43m)\u001b[49m\n",
      "\u001b[0;31mTypeError\u001b[0m: 'str' object cannot be interpreted as an integer"
     ]
    }
   ],
   "source": [
    "# ord(65)\n",
    "chr(\"f\")"
   ]
  },
  {
   "cell_type": "markdown",
   "metadata": {},
   "source": [
    "Since conditional expressions short-circuit, we can implement it like"
   ]
  },
  {
   "cell_type": "code",
   "execution_count": 44,
   "metadata": {},
   "outputs": [
    {
     "name": "stdout",
     "output_type": "stream",
     "text": [
      "A\n",
      "65\n",
      "f\n",
      "102\n"
     ]
    }
   ],
   "source": [
    "def ucs(x):\n",
    "    return chr(x) if isinstance(x, int) else ord(x)\n",
    "\n",
    "print(ucs(65))\n",
    "print(ucs(\"A\"))\n",
    "print(ucs(102))\n",
    "print(ucs(\"f\"))"
   ]
  },
  {
   "cell_type": "markdown",
   "metadata": {},
   "source": [
    "We see that when `x` is an integer, `ord(x)` never runs. On the flip side, when `x` is not an integer, `chr(x)` never runs."
   ]
  },
  {
   "cell_type": "markdown",
   "metadata": {},
   "source": [
    "### Conditional expressions and if statements"
   ]
  },
  {
   "cell_type": "markdown",
   "metadata": {},
   "source": [
    "#### Equivalence to `if`"
   ]
  },
  {
   "cell_type": "markdown",
   "metadata": {},
   "source": [
    "There's a close relationship between the conditional expression and the `if` statement, and that close relationship is that of equivalence. The two pices of code are exactly equivalent."
   ]
  },
  {
   "cell_type": "code",
   "execution_count": null,
   "metadata": {},
   "outputs": [],
   "source": [
    "if condition:\n",
    "    name = expr_if_true\n",
    "else:\n",
    "    name = expr_if_false\n",
    "\n",
    "\n",
    "name = expr_if_true if condition else expr_if_false"
   ]
  },
  {
   "cell_type": "markdown",
   "metadata": {},
   "source": [
    "#### Equivalence to `if-elif-else` blocks"
   ]
  },
  {
   "cell_type": "markdown",
   "metadata": {},
   "source": [
    "Let's try to rewrite the following functon to use a conditional expression."
   ]
  },
  {
   "cell_type": "code",
   "execution_count": 45,
   "metadata": {},
   "outputs": [
    {
     "name": "stdout",
     "output_type": "stream",
     "text": [
      "0\n",
      "-1\n",
      "1\n"
     ]
    }
   ],
   "source": [
    "def sign(x):\n",
    "    if x == 0:\n",
    "        return 0\n",
    "    elif x > 0:\n",
    "        return 1\n",
    "    else:\n",
    "        return -1\n",
    "    \n",
    "print(sign(0))\n",
    "print(sign(-73))\n",
    "print(sign(42))"
   ]
  },
  {
   "cell_type": "markdown",
   "metadata": {},
   "source": [
    "Conditionals expressions do not allow the usage of the `elif` keyword so, instead, we start by reworking the `if` block itself:"
   ]
  },
  {
   "cell_type": "code",
   "execution_count": null,
   "metadata": {},
   "outputs": [],
   "source": [
    "def sign(x):\n",
    "    if x == 0:\n",
    "        return 0\n",
    "    else:\n",
    "        if x > 0:\n",
    "            return 1\n",
    "        else:\n",
    "            return -1"
   ]
  },
  {
   "cell_type": "markdown",
   "metadata": {},
   "source": [
    "This isn't a great implementation, but this intermediate representation makes it clearer that the bottom of the `if` block can be replaced with a conditional expression."
   ]
  },
  {
   "cell_type": "code",
   "execution_count": null,
   "metadata": {},
   "outputs": [],
   "source": [
    "def sign(x):\n",
    "    if x == 0:\n",
    "        return 0\n",
    "    else:\n",
    "        return 1 if x > 0 else -1"
   ]
  },
  {
   "cell_type": "markdown",
   "metadata": {},
   "source": [
    "Now, if we abstract away from the fact that the second return value is a conditional expression itself, we can reqrite the existing `if` block as a conditional expression."
   ]
  },
  {
   "cell_type": "code",
   "execution_count": 46,
   "metadata": {},
   "outputs": [
    {
     "name": "stdout",
     "output_type": "stream",
     "text": [
      "0\n",
      "-1\n",
      "1\n"
     ]
    }
   ],
   "source": [
    "def sign(x):\n",
    "    return 0 if x == 0 else (1 if x > 0 else -1)\n",
    "\n",
    "print(sign(0))\n",
    "print(sign(-73))\n",
    "print(sign(42))"
   ]
  },
  {
   "cell_type": "markdown",
   "metadata": {},
   "source": [
    "This shows that conditional expressions can be nested. We need to check whether the parenthesis are needed or not."
   ]
  },
  {
   "cell_type": "code",
   "execution_count": 47,
   "metadata": {},
   "outputs": [
    {
     "name": "stdout",
     "output_type": "stream",
     "text": [
      "0\n",
      "-1\n",
      "1\n"
     ]
    }
   ],
   "source": [
    "def sign(x):\n",
    "    return 0 if x == 0 else 1 if x > 0 else -1\n",
    "\n",
    "print(sign(0))\n",
    "print(sign(-73))\n",
    "print(sign(42))"
   ]
  },
  {
   "cell_type": "markdown",
   "metadata": {},
   "source": [
    "This can be read as \"return 0 if x is 0, otherwise, return 1 if x is positive otherwise return -1\".\n",
    "\n",
    "The repetition of the word \"otherwise\" becomes cumbersome, a good indicator that is not generally a good idea to get carried away and chain several condition expressions."
   ]
  },
  {
   "cell_type": "markdown",
   "metadata": {},
   "source": [
    "#### Non-equivalence to function wrapper"
   ]
  },
  {
   "cell_type": "markdown",
   "metadata": {},
   "source": [
    "Because the last equivalence, many people may believe that conditional expressions could be implemented as a function enclosing the previous `if... else...` block like"
   ]
  },
  {
   "cell_type": "code",
   "execution_count": 48,
   "metadata": {},
   "outputs": [
    {
     "name": "stdout",
     "output_type": "stream",
     "text": [
      "mathsapp\n"
     ]
    }
   ],
   "source": [
    "def cond(condition, value_if_true, value_if_false):\n",
    "    if condition:\n",
    "        return value_if_true\n",
    "    else:\n",
    "        return value_if_false\n",
    "    \n",
    "print(cond(pow(3, 27, 10) > 5, \"Mathsapp\".lower(), \"Oh boy\"))"
   ]
  },
  {
   "cell_type": "markdown",
   "metadata": {},
   "source": [
    "This is not possible, because the function call to `cond` only happens after we have evaluated all the arguments (not short-circuiting). Hence, we can't use this cond to implement `ucs`"
   ]
  },
  {
   "cell_type": "code",
   "execution_count": 49,
   "metadata": {},
   "outputs": [
    {
     "ename": "TypeError",
     "evalue": "ord() expected string of length 1, but int found",
     "output_type": "error",
     "traceback": [
      "\u001b[0;31m---------------------------------------------------------------------------\u001b[0m",
      "\u001b[0;31mTypeError\u001b[0m                                 Traceback (most recent call last)",
      "Cell \u001b[0;32mIn[49], line 4\u001b[0m\n\u001b[1;32m      1\u001b[0m \u001b[38;5;28;01mdef\u001b[39;00m \u001b[38;5;21mucs\u001b[39m(x):\n\u001b[1;32m      2\u001b[0m     \u001b[38;5;28;01mreturn\u001b[39;00m cond(\u001b[38;5;28misinstance\u001b[39m(x, \u001b[38;5;28mint\u001b[39m), \u001b[38;5;28mchr\u001b[39m(x), \u001b[38;5;28mord\u001b[39m(x))\n\u001b[0;32m----> 4\u001b[0m \u001b[38;5;28mprint\u001b[39m(\u001b[43mucs\u001b[49m\u001b[43m(\u001b[49m\u001b[38;5;241;43m65\u001b[39;49m\u001b[43m)\u001b[49m)\n",
      "Cell \u001b[0;32mIn[49], line 2\u001b[0m, in \u001b[0;36mucs\u001b[0;34m(x)\u001b[0m\n\u001b[1;32m      1\u001b[0m \u001b[38;5;28;01mdef\u001b[39;00m \u001b[38;5;21mucs\u001b[39m(x):\n\u001b[0;32m----> 2\u001b[0m     \u001b[38;5;28;01mreturn\u001b[39;00m cond(\u001b[38;5;28misinstance\u001b[39m(x, \u001b[38;5;28mint\u001b[39m), \u001b[38;5;28mchr\u001b[39m(x), \u001b[38;5;28;43mord\u001b[39;49m\u001b[43m(\u001b[49m\u001b[43mx\u001b[49m\u001b[43m)\u001b[49m)\n",
      "\u001b[0;31mTypeError\u001b[0m: ord() expected string of length 1, but int found"
     ]
    }
   ],
   "source": [
    "def ucs(x):\n",
    "    return cond(isinstance(x, int), chr(x), ord(x))\n",
    "\n",
    "print(ucs(65))"
   ]
  },
  {
   "cell_type": "markdown",
   "metadata": {},
   "source": [
    "When given `65`, the first argument evaluates to `True`, and the second evaluates to \"A\", but the third one raises an error"
   ]
  },
  {
   "cell_type": "markdown",
   "metadata": {},
   "source": [
    "### Precedence"
   ]
  },
  {
   "cell_type": "markdown",
   "metadata": {},
   "source": [
    "Conditional expressions are the expressions with lowest precedence.\n",
    "\n",
    "This means that sometimes you may need to perenthesise a conditional expression if you are using it inside another expression."
   ]
  },
  {
   "cell_type": "code",
   "execution_count": 11,
   "metadata": {},
   "outputs": [
    {
     "name": "stdout",
     "output_type": "stream",
     "text": [
      "52\n",
      "32\n"
     ]
    }
   ],
   "source": [
    "def foo(n, b):\n",
    "    if b:\n",
    "        to_add = 10\n",
    "    else:\n",
    "        to_add = -10\n",
    "    return n + to_add\n",
    "\n",
    "print(foo(42, True))\n",
    "print(foo(42, False))"
   ]
  },
  {
   "cell_type": "markdown",
   "metadata": {},
   "source": [
    "You might spot the pattern of assigning one of two values, and decide to use a conditional expression:"
   ]
  },
  {
   "cell_type": "code",
   "execution_count": 12,
   "metadata": {},
   "outputs": [
    {
     "name": "stdout",
     "output_type": "stream",
     "text": [
      "52\n",
      "32\n"
     ]
    }
   ],
   "source": [
    "def foo(n, b):\n",
    "    to_add = 10 if b else -10\n",
    "    return n + to_add\n",
    "\n",
    "print(foo(42, True))\n",
    "print(foo(42, False))"
   ]
  },
  {
   "cell_type": "markdown",
   "metadata": {},
   "source": [
    "But then, you decide there is no need to waste a line here, and you decide to inline the conditional expression (that is, put the conditional expression inside the arithmetic expression with `n +`)"
   ]
  },
  {
   "cell_type": "code",
   "execution_count": 13,
   "metadata": {},
   "outputs": [
    {
     "name": "stdout",
     "output_type": "stream",
     "text": [
      "52\n",
      "-10\n"
     ]
    }
   ],
   "source": [
    "def foo(n, b):\n",
    "    return n + 10 if b else -10\n",
    "\n",
    "print(foo(42, True))\n",
    "print(foo(42, False))"
   ]
  },
  {
   "cell_type": "markdown",
   "metadata": {},
   "source": [
    "That is because the expression\n",
    "\n",
    "`n + 10 if b else -10`\n",
    "\n",
    "is seen by Python as \n",
    "\n",
    "`(n + 10) if b else -10`\n",
    "\n",
    "while you meant for it to mean\n",
    "\n",
    "`n + (10 if b else -10)`"
   ]
  },
  {
   "cell_type": "markdown",
   "metadata": {},
   "source": [
    "### Conditional expressions that evaluate to Booleans"
   ]
  },
  {
   "cell_type": "markdown",
   "metadata": {},
   "source": [
    "These are some things you should avoid when using conditional expressions"
   ]
  },
  {
   "cell_type": "markdown",
   "metadata": {},
   "source": [
    "Conditional expressions are suboptimal when they evaluate to Boolean values. Here's an example:"
   ]
  },
  {
   "cell_type": "code",
   "execution_count": 15,
   "metadata": {},
   "outputs": [
    {
     "name": "stdout",
     "output_type": "stream",
     "text": [
      "False\n",
      "True\n"
     ]
    }
   ],
   "source": [
    "def is_huge(n):\n",
    "    return True if n > pow(10, 10) else False\n",
    "\n",
    "print(is_huge(3.1415))\n",
    "print(is_huge(73_324_634_325_242))"
   ]
  },
  {
   "cell_type": "markdown",
   "metadata": {},
   "source": [
    "The conditional expression isn't doing anything relevant! The conditional expression just evaluates to the same vale as the condition itself!"
   ]
  },
  {
   "cell_type": "code",
   "execution_count": 16,
   "metadata": {},
   "outputs": [
    {
     "name": "stdout",
     "output_type": "stream",
     "text": [
      "False\n",
      "True\n"
     ]
    }
   ],
   "source": [
    "def is_huge(n):\n",
    "    return n > pow(10, 10)\n",
    "\n",
    "print(is_huge(3.1415))\n",
    "print(is_huge(73_324_634_325_242))"
   ]
  },
  {
   "cell_type": "markdown",
   "metadata": {},
   "source": [
    "Take this with you: never use \n",
    "\n",
    "`if: ... else: ...`\n",
    "\n",
    "or conditional expressions to evaluate to/return Boolean values. Often it suffices to work with the condition alone."
   ]
  },
  {
   "cell_type": "markdown",
   "metadata": {},
   "source": [
    "A related use case where conditional expressions shouldn't be used is when assigning default values to variables. Some of these default values can be assigned with **Boolean short-circuiting** using th `or` operator."
   ]
  },
  {
   "cell_type": "markdown",
   "metadata": {},
   "source": [
    "### Examples in code"
   ]
  },
  {
   "cell_type": "markdown",
   "metadata": {},
   "source": [
    "#### The dictionary `.get` method"
   ]
  },
  {
   "cell_type": "markdown",
   "metadata": {},
   "source": [
    "The `collections` has a `ChainMap` class. This can be used to chain several dictioneries together. This can be used when you want to jusxtapose user configurations with default configurations.\n",
    "\n",
    "`ChainMap` also defines a `.get` method, much like a dictionary. This method tries to retrieve a key and returns a default value if it finds it"
   ]
  },
  {
   "cell_type": "code",
   "execution_count": null,
   "metadata": {},
   "outputs": [
    {
     "name": "stdout",
     "output_type": "stream",
     "text": [
      "ChainMap({'name': 'mathsapp'}, {'name': '<noname>', 'fullscreen': True})\n",
      "True\n",
      "False\n"
     ]
    }
   ],
   "source": [
    "from collections import ChainMap\n",
    "\n",
    "user_config = {\"name\": \"mathsapp\"}\n",
    "default_config = {\"name\": \"<noname>\", \"fullscreen\": True}\n",
    "\n",
    "config = ChainMap(user_config, default_config)\n",
    "print(config)\n",
    "\n",
    "# Access a key directly\n",
    "print(config[\"fullscreen\"])\n",
    "\n",
    "# config[\"darkmode\"] fails with a KeyError \n",
    "print(config.get(\"darkmode\", False))\n",
    "\n",
    "# This is the method\n",
    "def get(self, key, default=None):\n",
    "    return self[key] if key in self else default"
   ]
  },
  {
   "cell_type": "markdown",
   "metadata": {},
   "source": [
    "Simple! Return the value associated with the `key` if `key` is in the dictionary, otherwise return the default value."
   ]
  },
  {
   "cell_type": "markdown",
   "metadata": {},
   "source": [
    "#### Resolving paths"
   ]
  },
  {
   "cell_type": "markdown",
   "metadata": {},
   "source": [
    "The module `pathlib` is great when dealing with paths. One of the functionalities provided is the `.resolve` method, that takes a path and makes it absolute, getting rid of symlinks along the way:"
   ]
  },
  {
   "cell_type": "code",
   "execution_count": null,
   "metadata": {},
   "outputs": [
    {
     "name": "stdout",
     "output_type": "stream",
     "text": [
      "/Users/kzms664/Documents/tests_folder\n",
      "/Users\n"
     ]
    }
   ],
   "source": [
    "import os\n",
    "from pathlib import Path\n",
    "\n",
    "print(Path(\"..\").resolve())\n",
    "print(Path(\"/Users\"))\n",
    "\n",
    "\n",
    "# This is part of the resolve method\n",
    "def resolve(self, path, strict=False):\n",
    "    # ...\n",
    "    base = '' if path.is_abslute() else os.getcwd()\n",
    "\n",
    "    return _resolve(base, str(path)) or sep"
   ]
  },
  {
   "cell_type": "markdown",
   "metadata": {},
   "source": [
    "Before calling the aux function `_resolve` and returning, the function figures out if there is a need to add a base to the path.\n",
    "\n",
    "If the path is relative, like `\"..\"`, then the base is set to be current working directory (`os.getcwd()`). If the path is absolute, then there is no need for a base, because is already there."
   ]
  },
  {
   "cell_type": "markdown",
   "metadata": {},
   "source": [
    "## Dunder methods"
   ]
  },
  {
   "cell_type": "markdown",
   "metadata": {},
   "source": [
    "### Introduction"
   ]
  },
  {
   "cell_type": "markdown",
   "metadata": {},
   "source": [
    "Python is a language that has a rich set of built-in functions and operators that work really well with the built-in types. For example, the operator `+` works on numbers, as addition, but it also works on strings, lists, and tuples, as concatenation:"
   ]
  },
  {
   "cell_type": "code",
   "execution_count": 32,
   "metadata": {},
   "outputs": [
    {
     "name": "stdout",
     "output_type": "stream",
     "text": [
      "3.3\n",
      "[1, 2, 3, 4, 5, 6]\n"
     ]
    }
   ],
   "source": [
    "print( 1 + 2.3)\n",
    "print([1, 2, 3] + [4, 5, 6])"
   ]
  },
  {
   "cell_type": "markdown",
   "metadata": {},
   "source": [
    "This happens through **dunder methods**"
   ]
  },
  {
   "cell_type": "markdown",
   "metadata": {},
   "source": [
    "### What are dunder methods?"
   ]
  },
  {
   "cell_type": "markdown",
   "metadata": {},
   "source": [
    "Dunder methods are methods that allow instances of a class to interact with the built-in functions and operators of the language.\n",
    "\n",
    "The word \"dunder\" comes from the \"double underscore\", because the names of the dunder methods start and end with two underscores, for example `__str__` or `__add__`.\n",
    "\n",
    "Typically, dunder methods are not invoked directly by the programmer, making it look like they are called magic. Sometimes are referred as \"magic methods\".\n",
    "\n",
    "They are not called magically. They are just called implicity by the language, at specific times that are well-defined, and that depend on the dunder method in question."
   ]
  },
  {
   "cell_type": "markdown",
   "metadata": {},
   "source": [
    "#### The dunder method everyone knows"
   ]
  },
  {
   "cell_type": "markdown",
   "metadata": {},
   "source": [
    "If you have defined classes in Python, you are bound to have crossed paths with a dunder method: `__init__`.\n",
    "\n",
    "`__init__` is responsible for initialising your instance of the class, which is why it is in there that you usually set a bunch of attributes related to arguments the class received."
   ]
  },
  {
   "cell_type": "code",
   "execution_count": 33,
   "metadata": {},
   "outputs": [
    {
     "name": "stdout",
     "output_type": "stream",
     "text": [
      "Inside init!\n"
     ]
    }
   ],
   "source": [
    "class Square:\n",
    "    def __init__(self, side_length):\n",
    "        \"\"\"__init__ is the dunder method that INITialises the instance.\n",
    "\n",
    "        To create a square, we need to know the length of its side,\n",
    "        so that will be passed as an argument later, e.g. with Square(1).\n",
    "        To make sure the instance knows its own side length,\n",
    "        we save it wth self.side_length = side_length.\n",
    "        \"\"\"\n",
    "        print(\"Inside init!\")\n",
    "        self.side_length = side_length\n",
    "\n",
    "sq = Square(1)"
   ]
  },
  {
   "cell_type": "markdown",
   "metadata": {},
   "source": [
    "The dunder method `__init__` was called implicitly by the language when you created an instance of a square."
   ]
  },
  {
   "cell_type": "markdown",
   "metadata": {},
   "source": [
    "#### Why do dunder methods start and end with two underscores?"
   ]
  },
  {
   "cell_type": "markdown",
   "metadata": {},
   "source": [
    "The underscores does not have any special significance, this does nothing special.\n",
    "\n",
    "The underscores are just there to prevent name collision with other methods implemented by unsuspected programmers.\n",
    "\n",
    "Think of this way: Python has a built-in method called `sum`. You can define `sum` to be something else, but then you lose access to the built-in that sums things, right?"
   ]
  },
  {
   "cell_type": "code",
   "execution_count": 35,
   "metadata": {},
   "outputs": [
    {
     "ename": "TypeError",
     "evalue": "'int' object is not callable",
     "output_type": "error",
     "traceback": [
      "\u001b[0;31m---------------------------------------------------------------------------\u001b[0m",
      "\u001b[0;31mTypeError\u001b[0m                                 Traceback (most recent call last)",
      "Cell \u001b[0;32mIn[35], line 4\u001b[0m\n\u001b[1;32m      1\u001b[0m \u001b[38;5;28msum\u001b[39m(\u001b[38;5;28mrange\u001b[39m(\u001b[38;5;241m10\u001b[39m))\n\u001b[1;32m      3\u001b[0m \u001b[38;5;28msum\u001b[39m \u001b[38;5;241m=\u001b[39m \u001b[38;5;241m45\u001b[39m\n\u001b[0;32m----> 4\u001b[0m \u001b[38;5;28;43msum\u001b[39;49m\u001b[43m(\u001b[49m\u001b[38;5;28;43mrange\u001b[39;49m\u001b[43m(\u001b[49m\u001b[38;5;241;43m10\u001b[39;49m\u001b[43m)\u001b[49m\u001b[43m)\u001b[49m\n",
      "\u001b[0;31mTypeError\u001b[0m: 'int' object is not callable"
     ]
    }
   ],
   "source": [
    "sum(range(10))\n",
    "\n",
    "sum = 45\n",
    "sum(range(10))"
   ]
  },
  {
   "cell_type": "markdown",
   "metadata": {},
   "source": [
    "That's why Python decided that magic methods would have names that start and end with two underscores, to make it less likely  that someone would override one of those methods by accident.\n",
    "\n",
    "All in all, dunder methods are just like an other method that you have implemented, with the small exception that dunder methods can be called implicity by the language."
   ]
  },
  {
   "cell_type": "markdown",
   "metadata": {},
   "source": [
    "#### Operator overloading in Python and dunder methods"
   ]
  },
  {
   "cell_type": "markdown",
   "metadata": {},
   "source": [
    "All Python operators, like `+`, `==`, and `in`, rely on dunder methods to implement their behaviour.\n",
    "\n",
    "For example, when Python encounters the code `value in container`, it actually turns that into a call to the appropiate dunder method `__contains__`, which means that Python actually runs the expression `container.__contains__(value)`"
   ]
  },
  {
   "cell_type": "code",
   "execution_count": 39,
   "metadata": {},
   "outputs": [
    {
     "name": "stdout",
     "output_type": "stream",
     "text": [
      "False\n",
      "False\n",
      "True\n",
      "True\n"
     ]
    }
   ],
   "source": [
    "my_list = [2, 4, 6]\n",
    "\n",
    "print(3 in my_list)\n",
    "print(my_list.__contains__(3))\n",
    "\n",
    "print(6 in my_list)\n",
    "print(my_list.__contains__(6))"
   ]
  },
  {
   "cell_type": "markdown",
   "metadata": {},
   "source": [
    "When you want to overload certain operators to make them work in a custom way with your own objects, you need to implement the respective dunder methods.\n",
    "\n",
    "If you were to create your own type of container, you could implement the dunder method `__contains__` to make sure that your contaners could be on the right-hand side of an expression with the operator `in`."
   ]
  },
  {
   "cell_type": "markdown",
   "metadata": {},
   "source": [
    "### List of dunder methods and their interactions"
   ]
  },
  {
   "cell_type": "markdown",
   "metadata": {},
   "source": [
    "In the book there is a big table explaining all the dunder methods."
   ]
  },
  {
   "cell_type": "markdown",
   "metadata": {},
   "source": [
    "### Exploring a dunder method"
   ]
  },
  {
   "cell_type": "markdown",
   "metadata": {},
   "source": [
    "Three steps to explore a new dunder method when you are lerning about that dunder method.\n",
    "1. try to understand when the dunder method is called.\n",
    "2. implement a stub for that method and trigger it with code\n",
    "3. use the dunder method in a useful situation "
   ]
  },
  {
   "cell_type": "markdown",
   "metadata": {},
   "source": [
    "Follow these steps with a practical example, the dunder method `__missing__`"
   ]
  },
  {
   "cell_type": "markdown",
   "metadata": {},
   "source": [
    "#### What is the dunder method for?"
   ]
  },
  {
   "cell_type": "markdown",
   "metadata": {},
   "source": [
    "Wha is the dunder method `__missing__` for? as the docs says:\n",
    "\n",
    "\"Called by `dict.__getitem__()` to implement `self[key]` for `dict` subclasseswhen `key` is not in the dictionary\"\n",
    "\n",
    "The dunder method `__missing__` is only relevant for subclasses of `dict`, and is called whenever we cannot find a given key in the dictionary."
   ]
  },
  {
   "cell_type": "markdown",
   "metadata": {},
   "source": [
    "#### How to trigger the dunder method"
   ]
  },
  {
   "cell_type": "markdown",
   "metadata": {},
   "source": [
    "In what situations, that I can reacreate, does the dunder method `__missing__` get called?\n",
    "\n",
    "From what docs says, it looks like we might need a dictionary subclass, and then we need to access a key that does not exist in that dictionary. This should be enough to trigger the dunde method `__missing__`:"
   ]
  },
  {
   "cell_type": "code",
   "execution_count": null,
   "metadata": {},
   "outputs": [
    {
     "name": "stdout",
     "output_type": "stream",
     "text": [
      "Key 0 was 'True'\n",
      "Missing key = 1\n"
     ]
    }
   ],
   "source": [
    "class DictSubclass(dict):\n",
    "    def __missing__(self, key):\n",
    "        print(f\"Missing {key = }\")\n",
    "\n",
    "my_dict = DictSubclass()\n",
    "my_dict[0] = True\n",
    "\n",
    "if my_dict[0]:\n",
    "    print(\"Key 0 was 'True'\")\n",
    "\n",
    "my_dict[1]"
   ]
  },
  {
   "cell_type": "markdown",
   "metadata": {},
   "source": [
    "#### Using the dunder method in a useful situation"
   ]
  },
  {
   "cell_type": "markdown",
   "metadata": {},
   "source": [
    "We can try implementing `defaultdict` based on  `__missing__`.\n",
    "\n",
    "`defaultdict` is a container from the module `collections`, and it's just like a dictionary, except that it uses a factory to generate default values when keys are missing.\n",
    "\n",
    "Here's an instance of `defaultdict` that returns the value `0` by default:"
   ]
  },
  {
   "cell_type": "code",
   "execution_count": 48,
   "metadata": {},
   "outputs": [
    {
     "name": "stdout",
     "output_type": "stream",
     "text": [
      "28\n",
      "0\n"
     ]
    }
   ],
   "source": [
    "from collections import defaultdict\n",
    "\n",
    "olympic_medals = defaultdict(lambda: 0)  # Produce 0 by default\n",
    "\n",
    "olympic_medals[\"Phelps\"] = 28\n",
    "print(olympic_medals[\"Phelps\"])\n",
    "print(olympic_medals[\"me\"])\n"
   ]
  },
  {
   "cell_type": "markdown",
   "metadata": {},
   "source": [
    "To reimplement `defaultdict`, we need to accept a factory function, we need to save that factory, and we need to use it inside `__missing__`.\n",
    "\n",
    "Just as a side note, notice that `defaultdict` not only returns the default value, but also assigns it to the key that wasn't there before:"
   ]
  },
  {
   "cell_type": "code",
   "execution_count": null,
   "metadata": {},
   "outputs": [
    {
     "name": "stdout",
     "output_type": "stream",
     "text": [
      "defaultdict(<function <lambda> at 0x10abb8220>, {})\n",
      "0\n",
      "defaultdict(<function <lambda> at 0x10abb8220>, {'me': 0})\n"
     ]
    }
   ],
   "source": [
    "from collections import defaultdict\n",
    "\n",
    "olympic_medals = defaultdict(lambda: 0)  # Produce 0 by default\n",
    "\n",
    "print(olympic_medals)  # Notice the underlying dictionary is empty\n",
    "\n",
    "print(olympic_medals[\"me\"])\n",
    "\n",
    "print(olympic_medals)  # It's not empty anymore"
   ]
  },
  {
   "cell_type": "markdown",
   "metadata": {},
   "source": [
    "Given all of this, here is a possible remplementation of `defaultdict`"
   ]
  },
  {
   "cell_type": "code",
   "execution_count": 53,
   "metadata": {},
   "outputs": [
    {
     "name": "stdout",
     "output_type": "stream",
     "text": [
      "28\n",
      "0\n"
     ]
    }
   ],
   "source": [
    "class my_defaultdict(dict):\n",
    "    def __init__(self, default_factory, **kwargs):\n",
    "        super().__init__(**kwargs)\n",
    "        self.default_factory = default_factory\n",
    "\n",
    "    def __missing__(self, key):\n",
    "        \"\"\"Populate the missing key and return its value.\"\"\"\n",
    "        self[key] = self.default_factory()\n",
    "        return self[key]\n",
    "    \n",
    "olympic_medals = my_defaultdict(lambda: 0)  # Produce 0 by default\n",
    "olympic_medals[\"Phelps\"] = 28\n",
    "\n",
    "print(olympic_medals[\"Phelps\"])\n",
    "print(olympic_medals[\"me\"])"
   ]
  }
 ],
 "metadata": {
  "kernelspec": {
   "display_name": "venv",
   "language": "python",
   "name": "python3"
  },
  "language_info": {
   "codemirror_mode": {
    "name": "ipython",
    "version": 3
   },
   "file_extension": ".py",
   "mimetype": "text/x-python",
   "name": "python",
   "nbconvert_exporter": "python",
   "pygments_lexer": "ipython3",
   "version": "3.12.2"
  }
 },
 "nbformat": 4,
 "nbformat_minor": 2
}
